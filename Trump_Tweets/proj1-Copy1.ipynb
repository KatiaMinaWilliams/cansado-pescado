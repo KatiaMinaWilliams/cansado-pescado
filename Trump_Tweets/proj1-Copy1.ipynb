{
 "cells": [
  {
   "cell_type": "markdown",
   "metadata": {},
   "source": [
    "Before you turn this assignment in, make sure everything runs as expected. First, **restart the kernel** (in the menubar, select Kernel$\\rightarrow$Restart) and then **run all cells** (in the menubar, select Cell$\\rightarrow$Run All). Lastly, hit **Validate**.\n",
    "\n",
    "If you worked locally, and then uploaded your work to the hub, make sure to follow these steps:\n",
    "- open your uploaded notebook **on the hub**\n",
    "- hit the validate button right above this cell, from inside the notebook\n",
    "\n",
    "These  steps should solve any issue related to submitting the notebook on the hub.\n",
    "\n",
    "Make sure you fill in any place that says `YOUR CODE HERE` or \"YOUR ANSWER HERE\", as well as your name and collaborators below:"
   ]
  },
  {
   "cell_type": "code",
   "execution_count": 1,
   "metadata": {},
   "outputs": [],
   "source": [
    "NAME = \"Katia Williams\"\n",
    "COLLABORATORS = \"\""
   ]
  },
  {
   "cell_type": "markdown",
   "metadata": {},
   "source": [
    "---"
   ]
  },
  {
   "cell_type": "markdown",
   "metadata": {
    "deletable": false,
    "editable": false,
    "nbgrader": {
     "cell_type": "markdown",
     "checksum": "53a15392d366de67d77bb0748b7775c0",
     "grade": false,
     "grade_id": "intro",
     "locked": true,
     "schema_version": 2,
     "solution": false
    }
   },
   "source": [
    "# Project 1: Trump, Twitter, and Text\n",
    "\n",
    "Welcome to the first project of Data 100! In this project, we will work with the Twitter API in order to analyze Donald Trump's tweets.\n",
    "\n",
    "**The project is due 11:59pm Tuesday, Feb 27, California Time.**\n",
    "\n",
    "*Fair warning:* This project involves significantly more challenging pandas operations than the previous homeworks. We strongly suggest you start early.\n",
    "\n",
    "**Fun:**\n",
    "\n",
    "We intended this project to be fun! You will analyze actual data from the Twitter API. You will also draw conclusions about the current (and often controversial) US President's tweet behavior. If you find yourself getting frustrated or stuck on one problem for too long, we suggest coming into office hours and working with friends in the class.\n",
    "\n",
    "*If you find yourself getting frustrated with the data we suggest you vote and/or encourage others to vote.*\n",
    "\n",
    "With that in mind, let's get started!"
   ]
  },
  {
   "cell_type": "code",
   "execution_count": 2,
   "metadata": {
    "deletable": false,
    "editable": false,
    "nbgrader": {
     "cell_type": "code",
     "checksum": "39a1c52c1b5855b6bd9b10e6a7802072",
     "grade": false,
     "grade_id": "import",
     "locked": true,
     "schema_version": 2,
     "solution": false
    }
   },
   "outputs": [],
   "source": [
    "# Run this cell to set up your notebook\n",
    "import csv\n",
    "import numpy as np\n",
    "import pandas as pd\n",
    "import matplotlib.pyplot as plt\n",
    "import zipfile\n",
    "\n",
    "# Ensure that Pandas shows at least 280 characters in columns, so we can see full tweets\n",
    "pd.set_option('max_colwidth', 280)\n",
    "\n",
    "%matplotlib inline\n",
    "plt.style.use('fivethirtyeight')\n",
    "import seaborn as sns\n",
    "sns.set()\n",
    "sns.set_context(\"talk\")\n",
    "import re"
   ]
  },
  {
   "cell_type": "markdown",
   "metadata": {
    "deletable": false,
    "editable": false,
    "nbgrader": {
     "cell_type": "markdown",
     "checksum": "69812bdeba1101e72f0c2c49d4e05e7e",
     "grade": false,
     "grade_id": "tweepy-intro",
     "locked": true,
     "schema_version": 2,
     "solution": false
    }
   },
   "source": [
    "# Downloading Recent Tweets\n",
    "\n",
    "---\n",
    "\n",
    "Since we'll be looking at Twitter data, we need to download the data from Twitter!\n",
    "\n",
    "Twitter provides an API for downloading tweet data in large batches.  The `tweepy` package makes it fairly easy to use."
   ]
  },
  {
   "cell_type": "code",
   "execution_count": 3,
   "metadata": {
    "deletable": false,
    "editable": false,
    "nbgrader": {
     "cell_type": "code",
     "checksum": "727d86148491e8268741fb9ad1182f32",
     "grade": false,
     "grade_id": "tweepy",
     "locked": true,
     "schema_version": 2,
     "solution": false
    }
   },
   "outputs": [],
   "source": [
    "## Make sure you are in your data100 conda environment if you are working locally.\n",
    "# The following should run:\n",
    "import tweepy"
   ]
  },
  {
   "cell_type": "markdown",
   "metadata": {
    "deletable": false,
    "editable": false,
    "nbgrader": {
     "cell_type": "markdown",
     "checksum": "be71d5e18529a33a68df98dba32c6b98",
     "grade": false,
     "grade_id": "instructions",
     "locked": true,
     "schema_version": 2,
     "solution": false
    }
   },
   "source": [
    "There are instructions on using `tweepy` [here](http://tweepy.readthedocs.io/en/v3.5.0/getting_started.html), but we will give you example code.\n",
    "\n",
    "Twitter requires you to have authentication keys to access their API.  To get your keys, you'll have to sign up as a Twitter developer.  The next question will walk you through this process."
   ]
  },
  {
   "cell_type": "markdown",
   "metadata": {
    "deletable": false,
    "editable": false,
    "nbgrader": {
     "cell_type": "markdown",
     "checksum": "6e6251507833774020ae3a92b3ece63f",
     "grade": false,
     "grade_id": "q1",
     "locked": true,
     "schema_version": 2,
     "solution": false
    }
   },
   "source": [
    "## Question 1\n",
    "\n",
    "Follow the instructions below to get your Twitter API keys.  **Read the instructions completely before starting.**\n",
    "\n",
    "1. [Create a Twitter account](https://twitter.com).  You can use an existing account if you have one; if you prefer to not do this assignment under your regular account, feel free to create a throw-away account.\n",
    "2. Under account settings, add your phone number to the account.\n",
    "3. [Create a Twitter developer account](https://dev.twitter.com/resources/signup).  Attach it to your Twitter account.\n",
    "4. Once you're logged into your developer account, [create an application for this assignment](https://apps.twitter.com/app/new).  You can call it whatever you want, and you can write any URL when it asks for a web site.  You don't need to provide a callback URL.\n",
    "5. On the page for that application, find your Consumer Key and Consumer Secret.\n",
    "6. On the same page, create an Access Token.  Record the resulting Access Token and Access Token Secret.\n",
    "7. Edit the file [keys.json](keys.json) and replace the placeholders with your keys.  "
   ]
  },
  {
   "cell_type": "markdown",
   "metadata": {
    "deletable": false,
    "editable": false,
    "nbgrader": {
     "cell_type": "markdown",
     "checksum": "e1bb1fee574ae618469603216cbed678",
     "grade": false,
     "grade_id": "warning",
     "locked": true,
     "schema_version": 2,
     "solution": false
    }
   },
   "source": [
    "\n",
    "## WARNING (Please Read) !!!!\n",
    "\n",
    "\n",
    "### Protect your Twitter Keys\n",
    "<span style=\"color:red\">\n",
    "If someone has your authentication keys, they can access your Twitter account and post as you!  So don't give them to anyone, and **don't write them down in this notebook**. \n",
    "</span>\n",
    "The usual way to store sensitive information like this is to put it in a separate file and read it programmatically.  That way, you can share the rest of your code without sharing your keys.  That's why we're asking you to put your keys in `keys.json` for this assignment.\n",
    "\n",
    "\n",
    "### Avoid making too many API calls.\n",
    "\n",
    "<span style=\"color:red\">\n",
    "Twitter limits developers to a certain rate of requests for data.  If you make too many requests in a short period of time, you'll have to wait awhile (around 15 minutes) before you can make more.  </span> \n",
    "So carefully follow the code examples you see and don't rerun cells without thinking.  Instead, always save the data you've collected to a file.  We've provided templates to help you do that.\n",
    "\n",
    "\n",
    "### Be careful about which functions you call!\n",
    "\n",
    "<span style=\"color:red\">\n",
    "This API can retweet tweets, follow and unfollow people, and modify your twitter settings.  Be careful which functions you invoke! </span> One of your instructors accidentally re-tweeted some tweets because that instructor typed `retweet` instead of `retweet_count`. \n",
    "</span>\n"
   ]
  },
  {
   "cell_type": "code",
   "execution_count": 4,
   "metadata": {
    "deletable": false,
    "editable": false,
    "nbgrader": {
     "cell_type": "code",
     "checksum": "c2eb5fb9a1af6832165a365b0aad21ab",
     "grade": false,
     "grade_id": "keys",
     "locked": true,
     "schema_version": 2,
     "solution": false
    }
   },
   "outputs": [],
   "source": [
    "import json\n",
    "key_file = 'keys.json'\n",
    "# Loading your keys from keys.json (which you should have filled\n",
    "# in in question 1):\n",
    "with open(key_file) as f:\n",
    "    keys = json.load(f)\n",
    "# if you print or view the contents of keys be sure to delete the cell!"
   ]
  },
  {
   "cell_type": "markdown",
   "metadata": {
    "deletable": false,
    "editable": false,
    "nbgrader": {
     "cell_type": "markdown",
     "checksum": "118d21c4ccbbf942c9f2707840908cca",
     "grade": false,
     "grade_id": "tweepy-auth-note",
     "locked": true,
     "schema_version": 2,
     "solution": false
    }
   },
   "source": [
    "This cell tests the Twitter authentication. It should run without errors or warnings and display your Twitter username."
   ]
  },
  {
   "cell_type": "code",
   "execution_count": 5,
   "metadata": {
    "deletable": false,
    "editable": false,
    "nbgrader": {
     "cell_type": "code",
     "checksum": "66806331fe1cb852ab300e98459cb2d4",
     "grade": false,
     "grade_id": "twitter-auth",
     "locked": true,
     "schema_version": 2,
     "solution": false
    }
   },
   "outputs": [
    {
     "name": "stdout",
     "output_type": "stream",
     "text": [
      "Your username is: AyeKatchya\n"
     ]
    }
   ],
   "source": [
    "import tweepy\n",
    "from tweepy import TweepError\n",
    "import logging\n",
    "\n",
    "try:\n",
    "    auth = tweepy.OAuthHandler(keys[\"consumer_key\"], keys[\"consumer_secret\"])\n",
    "    auth.set_access_token(keys[\"access_token\"], keys[\"access_token_secret\"])\n",
    "    api = tweepy.API(auth)\n",
    "    print(\"Your username is:\", api.auth.get_username())\n",
    "except TweepError as e:\n",
    "    logging.warning(\"There was a Tweepy error. Double check your API keys and try again.\")\n",
    "    logging.warning(e)"
   ]
  },
  {
   "cell_type": "markdown",
   "metadata": {
    "deletable": false,
    "editable": false,
    "nbgrader": {
     "cell_type": "markdown",
     "checksum": "b738ef5c6ffad625b8d5a61b66719ad6",
     "grade": false,
     "grade_id": "q2",
     "locked": true,
     "schema_version": 2,
     "solution": false
    }
   },
   "source": [
    "## Question 2\n",
    "\n",
    "In the example below, we have loaded some tweets by @BerkeleyData.  Run it and read the code."
   ]
  },
  {
   "cell_type": "code",
   "execution_count": 6,
   "metadata": {
    "deletable": false,
    "editable": false,
    "nbgrader": {
     "cell_type": "code",
     "checksum": "3defce91d655ee59ae318cc20133476a",
     "grade": false,
     "grade_id": "load-berkeley-tweets",
     "locked": true,
     "schema_version": 2,
     "solution": false
    }
   },
   "outputs": [],
   "source": [
    "from pathlib import Path\n",
    "import json\n",
    "\n",
    "ds_tweets_save_path = \"BerkeleyData_recent_tweets.json\"\n",
    "# Guarding against attempts to download the data multiple\n",
    "# times:\n",
    "if not Path(ds_tweets_save_path).is_file():\n",
    "    # Getting as many recent tweets by @BerkeleyData as Twitter will let us have.\n",
    "    # We use tweet_mode='extended' so that Twitter gives us full 280 character tweets.\n",
    "    # This was a change introduced in September 2017.\n",
    "    \n",
    "    # The tweepy Cursor API actually returns \"sophisticated\" Status objects but we \n",
    "    # will use the basic Python dictionaries stored in the _json field. \n",
    "    example_tweets = [t._json for t in tweepy.Cursor(api.user_timeline, id=\"BerkeleyData\", \n",
    "                                             tweet_mode='extended').items()]\n",
    "    \n",
    "    # Saving the tweets to a json file on disk for future analysis\n",
    "    with open(ds_tweets_save_path, \"w\") as f:        \n",
    "        json.dump(example_tweets, f)\n",
    "\n",
    "# Re-loading the json file:\n",
    "with open(ds_tweets_save_path, \"r\") as f:\n",
    "    example_tweets = json.load(f)"
   ]
  },
  {
   "cell_type": "markdown",
   "metadata": {
    "deletable": false,
    "editable": false,
    "nbgrader": {
     "cell_type": "markdown",
     "checksum": "7dc93f6841b3ecdb826a8ff12ebb2030",
     "grade": false,
     "grade_id": "first-tweet-did-it-workk",
     "locked": true,
     "schema_version": 2,
     "solution": false
    }
   },
   "source": [
    "Assuming everything ran correctly you should be able to look at the first tweet by running the cell below.\n",
    "\n",
    "<span style=\"color:red\">\n",
    "**Warning** Do not attempt to view all the tweets in a notebook.  It will likely freeze your browser.  The following would be a **bad idea**:\n",
    "```python\n",
    "    pprint(example_tweets)\n",
    "```\n",
    "\n",
    "</span> "
   ]
  },
  {
   "cell_type": "code",
   "execution_count": 7,
   "metadata": {
    "deletable": false,
    "editable": false,
    "nbgrader": {
     "cell_type": "code",
     "checksum": "de383bb55c2e4e13c896209b5f7589c0",
     "grade": false,
     "grade_id": "first-tweet",
     "locked": true,
     "schema_version": 2,
     "solution": false
    }
   },
   "outputs": [
    {
     "name": "stdout",
     "output_type": "stream",
     "text": [
      "{'contributors': None,\n",
      " 'coordinates': None,\n",
      " 'created_at': 'Wed Feb 14 18:47:23 +0000 2018',\n",
      " 'display_text_range': [0, 144],\n",
      " 'entities': {'hashtags': [],\n",
      "              'symbols': [],\n",
      "              'urls': [],\n",
      "              'user_mentions': [{'id': 263020833,\n",
      "                                 'id_str': '263020833',\n",
      "                                 'indices': [3, 19],\n",
      "                                 'name': 'Berkeley School of Information',\n",
      "                                 'screen_name': 'BerkeleyISchool'}]},\n",
      " 'favorite_count': 0,\n",
      " 'favorited': False,\n",
      " 'full_text': 'RT @BerkeleyISchool: We LOVE the I School community! 💓💖💗 Our '\n",
      "              'students, alumni, faculty &amp; staff make the I School a '\n",
      "              'incredible place to lear…',\n",
      " 'geo': None,\n",
      " 'id': 963847153784369152,\n",
      " 'id_str': '963847153784369152',\n",
      " 'in_reply_to_screen_name': None,\n",
      " 'in_reply_to_status_id': None,\n",
      " 'in_reply_to_status_id_str': None,\n",
      " 'in_reply_to_user_id': None,\n",
      " 'in_reply_to_user_id_str': None,\n",
      " 'is_quote_status': False,\n",
      " 'lang': 'en',\n",
      " 'place': None,\n",
      " 'retweet_count': 3,\n",
      " 'retweeted': False,\n",
      " 'retweeted_status': {'contributors': None,\n",
      "                      'coordinates': None,\n",
      "                      'created_at': 'Wed Feb 14 18:47:00 +0000 2018',\n",
      "                      'display_text_range': [0, 155],\n",
      "                      'entities': {'hashtags': [{'indices': [140, 154],\n",
      "                                                 'text': 'ValentinesDay'}],\n",
      "                                   'media': [{'display_url': 'pic.twitter.com/OpEShsJSUj',\n",
      "                                              'expanded_url': 'https://twitter.com/BerkeleyISchool/status/963847057210421248/photo/1',\n",
      "                                              'id': 963843188598304768,\n",
      "                                              'id_str': '963843188598304768',\n",
      "                                              'indices': [156, 179],\n",
      "                                              'media_url': 'http://pbs.twimg.com/media/DWBCRfuU8AArFBK.png',\n",
      "                                              'media_url_https': 'https://pbs.twimg.com/media/DWBCRfuU8AArFBK.png',\n",
      "                                              'sizes': {'large': {'h': 1115,\n",
      "                                                                  'resize': 'fit',\n",
      "                                                                  'w': 1487},\n",
      "                                                        'medium': {'h': 900,\n",
      "                                                                   'resize': 'fit',\n",
      "                                                                   'w': 1200},\n",
      "                                                        'small': {'h': 510,\n",
      "                                                                  'resize': 'fit',\n",
      "                                                                  'w': 680},\n",
      "                                                        'thumb': {'h': 150,\n",
      "                                                                  'resize': 'crop',\n",
      "                                                                  'w': 150}},\n",
      "                                              'type': 'photo',\n",
      "                                              'url': 'https://t.co/OpEShsJSUj'}],\n",
      "                                   'symbols': [],\n",
      "                                   'urls': [],\n",
      "                                   'user_mentions': []},\n",
      "                      'extended_entities': {'media': [{'display_url': 'pic.twitter.com/OpEShsJSUj',\n",
      "                                                       'expanded_url': 'https://twitter.com/BerkeleyISchool/status/963847057210421248/photo/1',\n",
      "                                                       'id': 963843188598304768,\n",
      "                                                       'id_str': '963843188598304768',\n",
      "                                                       'indices': [156, 179],\n",
      "                                                       'media_url': 'http://pbs.twimg.com/media/DWBCRfuU8AArFBK.png',\n",
      "                                                       'media_url_https': 'https://pbs.twimg.com/media/DWBCRfuU8AArFBK.png',\n",
      "                                                       'sizes': {'large': {'h': 1115,\n",
      "                                                                           'resize': 'fit',\n",
      "                                                                           'w': 1487},\n",
      "                                                                 'medium': {'h': 900,\n",
      "                                                                            'resize': 'fit',\n",
      "                                                                            'w': 1200},\n",
      "                                                                 'small': {'h': 510,\n",
      "                                                                           'resize': 'fit',\n",
      "                                                                           'w': 680},\n",
      "                                                                 'thumb': {'h': 150,\n",
      "                                                                           'resize': 'crop',\n",
      "                                                                           'w': 150}},\n",
      "                                                       'type': 'photo',\n",
      "                                                       'url': 'https://t.co/OpEShsJSUj'}]},\n",
      "                      'favorite_count': 10,\n",
      "                      'favorited': False,\n",
      "                      'full_text': 'We LOVE the I School community! 💓💖💗 Our '\n",
      "                                   'students, alumni, faculty &amp; staff make '\n",
      "                                   'the I School a incredible place to learn '\n",
      "                                   'and grow. Happy #ValentinesDay! '\n",
      "                                   'https://t.co/OpEShsJSUj',\n",
      "                      'geo': None,\n",
      "                      'id': 963847057210421248,\n",
      "                      'id_str': '963847057210421248',\n",
      "                      'in_reply_to_screen_name': None,\n",
      "                      'in_reply_to_status_id': None,\n",
      "                      'in_reply_to_status_id_str': None,\n",
      "                      'in_reply_to_user_id': None,\n",
      "                      'in_reply_to_user_id_str': None,\n",
      "                      'is_quote_status': False,\n",
      "                      'lang': 'en',\n",
      "                      'place': None,\n",
      "                      'possibly_sensitive': False,\n",
      "                      'retweet_count': 3,\n",
      "                      'retweeted': False,\n",
      "                      'source': '<a '\n",
      "                                'href=\"https://about.twitter.com/products/tweetdeck\" '\n",
      "                                'rel=\"nofollow\">TweetDeck</a>',\n",
      "                      'truncated': False,\n",
      "                      'user': {'contributors_enabled': False,\n",
      "                               'created_at': 'Wed Mar 09 06:13:42 +0000 2011',\n",
      "                               'default_profile': False,\n",
      "                               'default_profile_image': False,\n",
      "                               'description': 'The UC Berkeley School of '\n",
      "                                              'Information is a '\n",
      "                                              'multi-disciplinary program '\n",
      "                                              'devoted to enhancing the '\n",
      "                                              'accessibility, usability, '\n",
      "                                              'credibility & security of '\n",
      "                                              'information.',\n",
      "                               'entities': {'description': {'urls': []},\n",
      "                                            'url': {'urls': [{'display_url': 'ischool.berkeley.edu',\n",
      "                                                              'expanded_url': 'http://ischool.berkeley.edu',\n",
      "                                                              'indices': [0,\n",
      "                                                                          23],\n",
      "                                                              'url': 'https://t.co/5eXJ0wN1Jd'}]}},\n",
      "                               'favourites_count': 2017,\n",
      "                               'follow_request_sent': False,\n",
      "                               'followers_count': 4515,\n",
      "                               'following': False,\n",
      "                               'friends_count': 561,\n",
      "                               'geo_enabled': True,\n",
      "                               'has_extended_profile': False,\n",
      "                               'id': 263020833,\n",
      "                               'id_str': '263020833',\n",
      "                               'is_translation_enabled': False,\n",
      "                               'is_translator': False,\n",
      "                               'lang': 'en',\n",
      "                               'listed_count': 205,\n",
      "                               'location': 'Berkeley, California, USA',\n",
      "                               'name': 'Berkeley School of Information',\n",
      "                               'notifications': False,\n",
      "                               'profile_background_color': '38628F',\n",
      "                               'profile_background_image_url': 'http://pbs.twimg.com/profile_background_images/226302581/southhall4.PNG',\n",
      "                               'profile_background_image_url_https': 'https://pbs.twimg.com/profile_background_images/226302581/southhall4.PNG',\n",
      "                               'profile_background_tile': False,\n",
      "                               'profile_banner_url': 'https://pbs.twimg.com/profile_banners/263020833/1509549485',\n",
      "                               'profile_image_url': 'http://pbs.twimg.com/profile_images/875733929902329856/K5Y9Y01a_normal.jpg',\n",
      "                               'profile_image_url_https': 'https://pbs.twimg.com/profile_images/875733929902329856/K5Y9Y01a_normal.jpg',\n",
      "                               'profile_link_color': '3B7EA1',\n",
      "                               'profile_sidebar_border_color': 'C0DEED',\n",
      "                               'profile_sidebar_fill_color': 'DDEEF6',\n",
      "                               'profile_text_color': '333333',\n",
      "                               'profile_use_background_image': True,\n",
      "                               'protected': False,\n",
      "                               'screen_name': 'BerkeleyISchool',\n",
      "                               'statuses_count': 3239,\n",
      "                               'time_zone': 'Pacific Time (US & Canada)',\n",
      "                               'translator_type': 'none',\n",
      "                               'url': 'https://t.co/5eXJ0wN1Jd',\n",
      "                               'utc_offset': -28800,\n",
      "                               'verified': False}},\n",
      " 'source': '<a href=\"http://twitter.com\" rel=\"nofollow\">Twitter Web Client</a>',\n",
      " 'truncated': False,\n",
      " 'user': {'contributors_enabled': False,\n",
      "          'created_at': 'Thu Feb 28 14:37:26 +0000 2013',\n",
      "          'default_profile': False,\n",
      "          'default_profile_image': False,\n",
      "          'description': 'An online Master of Information and Data Science '\n",
      "                         '(MIDS) degree from the UC Berkeley School of '\n",
      "                         'Information. Learn more at: http://t.co/zf6gfBWovQ',\n",
      "          'entities': {'description': {'urls': [{'display_url': 'bit.ly/tBerkeleyData',\n",
      "                                                 'expanded_url': 'http://bit.ly/tBerkeleyData',\n",
      "                                                 'indices': [122, 144],\n",
      "                                                 'url': 'http://t.co/zf6gfBWovQ'}]},\n",
      "                       'url': {'urls': [{'display_url': 'datascience.berkeley.edu',\n",
      "                                         'expanded_url': 'http://datascience.berkeley.edu',\n",
      "                                         'indices': [0, 22],\n",
      "                                         'url': 'http://t.co/S79Ul3oCaa'}]}},\n",
      "          'favourites_count': 88,\n",
      "          'follow_request_sent': False,\n",
      "          'followers_count': 10962,\n",
      "          'following': False,\n",
      "          'friends_count': 409,\n",
      "          'geo_enabled': False,\n",
      "          'has_extended_profile': False,\n",
      "          'id': 1227698863,\n",
      "          'id_str': '1227698863',\n",
      "          'is_translation_enabled': False,\n",
      "          'is_translator': False,\n",
      "          'lang': 'en',\n",
      "          'listed_count': 474,\n",
      "          'location': 'Berkeley, CA',\n",
      "          'name': 'datascience@berkeley',\n",
      "          'notifications': False,\n",
      "          'profile_background_color': 'CCCCCC',\n",
      "          'profile_background_image_url': 'http://pbs.twimg.com/profile_background_images/378800000096571211/5f9ba86a5d2b87c2c48544133c25b092.jpeg',\n",
      "          'profile_background_image_url_https': 'https://pbs.twimg.com/profile_background_images/378800000096571211/5f9ba86a5d2b87c2c48544133c25b092.jpeg',\n",
      "          'profile_background_tile': False,\n",
      "          'profile_banner_url': 'https://pbs.twimg.com/profile_banners/1227698863/1502212054',\n",
      "          'profile_image_url': 'http://pbs.twimg.com/profile_images/894968224973897728/lI8iiF3J_normal.jpg',\n",
      "          'profile_image_url_https': 'https://pbs.twimg.com/profile_images/894968224973897728/lI8iiF3J_normal.jpg',\n",
      "          'profile_link_color': '5173B6',\n",
      "          'profile_sidebar_border_color': 'FFFFFF',\n",
      "          'profile_sidebar_fill_color': 'DDEEF6',\n",
      "          'profile_text_color': '333333',\n",
      "          'profile_use_background_image': True,\n",
      "          'protected': False,\n",
      "          'screen_name': 'BerkeleyData',\n",
      "          'statuses_count': 2227,\n",
      "          'time_zone': 'Eastern Time (US & Canada)',\n",
      "          'translator_type': 'none',\n",
      "          'url': 'http://t.co/S79Ul3oCaa',\n",
      "          'utc_offset': -18000,\n",
      "          'verified': False}}\n"
     ]
    }
   ],
   "source": [
    "# Looking at one tweet object, which has type Status: \n",
    "from pprint import pprint # ...to get a more easily-readable view.\n",
    "pprint(example_tweets[0])"
   ]
  },
  {
   "cell_type": "markdown",
   "metadata": {
    "collapsed": true,
    "deletable": false,
    "editable": false,
    "nbgrader": {
     "cell_type": "markdown",
     "checksum": "43ce65ddda5bb1543856611dd2c536f9",
     "grade": false,
     "grade_id": "q2a",
     "locked": true,
     "schema_version": 2,
     "solution": false
    }
   },
   "source": [
    "## Question 2a\n",
    "\n",
    "### What you need to do. \n",
    "\n",
    "Re-factor the above code fragment into reusable snippets below.  You should not need to make major modifications; this is mostly an exercise in understanding the above code block. "
   ]
  },
  {
   "cell_type": "code",
   "execution_count": 8,
   "metadata": {
    "deletable": false,
    "nbgrader": {
     "cell_type": "code",
     "checksum": "bd6de9d61c340450539455afd0f8fdf3",
     "grade": false,
     "grade_id": "load-keys",
     "locked": false,
     "schema_version": 2,
     "solution": true
    },
    "tags": [
     "student"
    ]
   },
   "outputs": [],
   "source": [
    "def load_keys(path):\n",
    "    \"\"\"Loads your Twitter authentication keys from a file on disk.\n",
    "    \n",
    "    Args:\n",
    "        path (str): The path to your key file.  The file should\n",
    "          be in JSON format and look like this (but filled in):\n",
    "            {\n",
    "                \"consumer_key\": \"<your Consumer Key here>\",\n",
    "                \"consumer_secret\":  \"<your Consumer Secret here>\",\n",
    "                \"access_token\": \"<your Access Token here>\",\n",
    "                \"access_token_secret\": \"<your Access Token Secret here>\"\n",
    "            }\n",
    "    \n",
    "    Returns:\n",
    "        dict: A dictionary mapping key names (like \"consumer_key\") to\n",
    "          key values.\"\"\"\n",
    "    \n",
    "    # YOUR CODE HERE\n",
    "    #raise NotImplementedError()\n",
    "    with open(path) as f:\n",
    "        return json.load(f)\n"
   ]
  },
  {
   "cell_type": "code",
   "execution_count": 9,
   "metadata": {
    "deletable": false,
    "nbgrader": {
     "cell_type": "code",
     "checksum": "76ff200bf064ab3f5c457bc4725d8cd8",
     "grade": false,
     "grade_id": "download-recent-tweets",
     "locked": false,
     "schema_version": 2,
     "solution": true
    },
    "tags": [
     "student"
    ]
   },
   "outputs": [],
   "source": [
    "def download_recent_tweets_by_user(user_account_name, keys):\n",
    "    \"\"\"Downloads tweets by one Twitter user.\n",
    "\n",
    "    Args:\n",
    "        user_account_name (str): The name of the Twitter account\n",
    "          whose tweets will be downloaded.\n",
    "        keys (dict): A Python dictionary with Twitter authentication\n",
    "          keys (strings), like this (but filled in):\n",
    "            {\n",
    "                \"consumer_key\": \"<your Consumer Key here>\",\n",
    "                \"consumer_secret\":  \"<your Consumer Secret here>\",\n",
    "                \"access_token\": \"<your Access Token here>\",\n",
    "                \"access_token_secret\": \"<your Access Token Secret here>\"\n",
    "            }\n",
    "\n",
    "    Returns:\n",
    "        list: A list of Dictonary objects, each representing one tweet.\"\"\"\n",
    "    return [t._json for t in tweepy.Cursor(api.user_timeline, id=user_account_name, \n",
    "                                             tweet_mode='extended').items()]\n",
    "    \n",
    "    # YOUR CODE HERE\n",
    "    #raise NotImplementedError()"
   ]
  },
  {
   "cell_type": "code",
   "execution_count": 10,
   "metadata": {
    "deletable": false,
    "nbgrader": {
     "cell_type": "code",
     "checksum": "75d788899e9212031d95685b7ebb4505",
     "grade": false,
     "grade_id": "save-tweets",
     "locked": false,
     "schema_version": 2,
     "solution": true
    },
    "tags": [
     "student"
    ]
   },
   "outputs": [],
   "source": [
    "def save_tweets(tweets, path):\n",
    "    \"\"\"Saves a list of tweets to a file in the local filesystem.\n",
    "    \n",
    "    This function makes no guarantee about the format of the saved\n",
    "    tweets, **except** that calling load_tweets(path) after\n",
    "    save_tweets(tweets, path) will produce the same list of tweets\n",
    "    and that only the file at the given path is used to store the\n",
    "    tweets.  (That means you can implement this function however\n",
    "    you want, as long as saving and loading works!)\n",
    "\n",
    "    Args:\n",
    "        tweets (list): A list of tweet objects (of type Dictionary) to\n",
    "          be saved.\n",
    "        path (str): The place where the tweets will be saved.\n",
    "\n",
    "    Returns:\n",
    "        None\"\"\"\n",
    "    \n",
    "    with open(path, \"w\") as f:        \n",
    "        json.dump(tweets, f)\n",
    "    # YOUR CODE HERE\n",
    "    #raise NotImplementedError()"
   ]
  },
  {
   "cell_type": "code",
   "execution_count": 11,
   "metadata": {
    "deletable": false,
    "nbgrader": {
     "cell_type": "code",
     "checksum": "31f5a74addf3b0211c65b0220160568c",
     "grade": false,
     "grade_id": "load-tweets",
     "locked": false,
     "schema_version": 2,
     "solution": true
    },
    "tags": [
     "student"
    ]
   },
   "outputs": [],
   "source": [
    "def load_tweets(path):\n",
    "    \"\"\"Loads tweets that have previously been saved.\n",
    "    \n",
    "    Calling load_tweets(path) after save_tweets(tweets, path)\n",
    "    will produce the same list of tweets.\n",
    "    \n",
    "    Args:\n",
    "        path (str): The place where the tweets were be saved.\n",
    "\n",
    "    Returns:\n",
    "        list: A list of Dictionary objects, each representing one tweet.\"\"\"\n",
    "    with open(path, \"r\") as f:\n",
    "        tweets = json.load(f)\n",
    "    return tweets\n",
    "    # YOUR CODE HERE\n",
    "    #raise NotImplementedError()"
   ]
  },
  {
   "cell_type": "code",
   "execution_count": 12,
   "metadata": {
    "deletable": false,
    "nbgrader": {
     "cell_type": "code",
     "checksum": "2c2633d5128de6e4aadf225aa291118d",
     "grade": false,
     "grade_id": "get-tweets-with-cache",
     "locked": false,
     "schema_version": 2,
     "solution": true
    },
    "tags": [
     "student"
    ]
   },
   "outputs": [],
   "source": [
    "def get_tweets_with_cache(user_account_name, keys_path):\n",
    "    \"\"\"Get recent tweets from one user, loading from a disk cache if available.\n",
    "    \n",
    "    The first time you call this function, it will download tweets by\n",
    "    a user.  Subsequent calls will not re-download the tweets; instead\n",
    "    they'll load the tweets from a save file in your local filesystem.\n",
    "    All this is done using the functions you defined in the previous cell.\n",
    "    This has benefits and drawbacks that often appear when you cache data:\n",
    "    \n",
    "    +: Using this function will prevent extraneous usage of the Twitter API.\n",
    "    +: You will get your data much faster after the first time it's called.\n",
    "    -: If you really want to re-download the tweets (say, to get newer ones,\n",
    "       or because you screwed up something in the previous cell and your\n",
    "       tweets aren't what you wanted), you'll have to find the save file\n",
    "       (which will look like <something>_recent_tweets.pkl) and delete it.\n",
    "    \n",
    "    Args:\n",
    "        user_account_name (str): The Twitter handle of a user, without the @.\n",
    "        keys_path (str): The path to a JSON keys file in your filesystem.\n",
    "    \"\"\"\n",
    "    keys = load_keys(keys_path)\n",
    "    download = download_recent_tweets_by_user(user_account_name, keys)\n",
    "    file_path = 'got_the_tweets.json'\n",
    "    save_tweets(download, file_path)\n",
    "    return load_tweets(file_path)\n",
    "    # YOUR CODE HERE\n",
    "    #raise NotImplementedError()"
   ]
  },
  {
   "cell_type": "markdown",
   "metadata": {
    "deletable": false,
    "editable": false,
    "nbgrader": {
     "cell_type": "markdown",
     "checksum": "a2ddaff40134b8cf8f582c1df5db3883",
     "grade": false,
     "grade_id": "about-to-get-real",
     "locked": true,
     "schema_version": 2,
     "solution": false
    }
   },
   "source": [
    "If everything was implemented correctly you should be able to obtain roughly the last 3000 tweets by the `realdonaldtrump`.  (This may take a few minutes)"
   ]
  },
  {
   "cell_type": "code",
   "execution_count": 13,
   "metadata": {
    "deletable": false,
    "editable": false,
    "nbgrader": {
     "cell_type": "code",
     "checksum": "8ac3bb2120526571535abbe412929bfd",
     "grade": false,
     "grade_id": "trump-tweets",
     "locked": true,
     "schema_version": 2,
     "solution": false
    }
   },
   "outputs": [
    {
     "name": "stdout",
     "output_type": "stream",
     "text": [
      "Number of tweets downloaded: 3223\n"
     ]
    }
   ],
   "source": [
    "# When you are done, run this cell to load @realdonaldtrump's tweets.\n",
    "# Note the function get_tweets_with_cache.  You may find it useful\n",
    "# later.\n",
    "trump_tweets = get_tweets_with_cache(\"realdonaldtrump\", key_file)\n",
    "print(\"Number of tweets downloaded:\", len(trump_tweets))"
   ]
  },
  {
   "cell_type": "code",
   "execution_count": 14,
   "metadata": {
    "deletable": false,
    "editable": false,
    "nbgrader": {
     "cell_type": "code",
     "checksum": "afaf66b3188a4752b0271beed957ef6c",
     "grade": true,
     "grade_id": "trump-tweets-test",
     "locked": true,
     "points": 1,
     "schema_version": 2,
     "solution": false
    }
   },
   "outputs": [],
   "source": [
    "assert 2000 <= len(trump_tweets) <= 4000"
   ]
  },
  {
   "cell_type": "markdown",
   "metadata": {
    "deletable": false,
    "editable": false,
    "nbgrader": {
     "cell_type": "markdown",
     "checksum": "e991a5d45fd0eeebe8b1c6371a4019f9",
     "grade": false,
     "grade_id": "q2b",
     "locked": true,
     "schema_version": 2,
     "solution": false
    }
   },
   "source": [
    "### Question 2b\n",
    "\n",
    "We are limited to how many tweets we can download.  In what month is the oldest tweet from Trump?"
   ]
  },
  {
   "cell_type": "code",
   "execution_count": 15,
   "metadata": {
    "deletable": false,
    "nbgrader": {
     "cell_type": "code",
     "checksum": "1b46b55114772326e527b1dd67a17a8e",
     "grade": false,
     "grade_id": "oldest-month-question",
     "locked": false,
     "schema_version": 2,
     "solution": true
    }
   },
   "outputs": [
    {
     "name": "stdout",
     "output_type": "stream",
     "text": [
      "{'contributors': None,\n",
      " 'coordinates': None,\n",
      " 'created_at': 'Mon Oct 31 19:00:42 +0000 2016',\n",
      " 'display_text_range': [0, 72],\n",
      " 'entities': {'hashtags': [{'indices': [34, 40], 'text': 'ICYMI'}],\n",
      "              'media': [{'display_url': 'pic.twitter.com/gN7BYfLD9K',\n",
      "                         'expanded_url': 'https://twitter.com/realDonaldTrump/status/793165820889358338/photo/1',\n",
      "                         'id': 793165806246899713,\n",
      "                         'id_str': '793165806246899713',\n",
      "                         'indices': [73, 96],\n",
      "                         'media_url': 'http://pbs.twimg.com/media/CwHkGTFVMAEe3C1.jpg',\n",
      "                         'media_url_https': 'https://pbs.twimg.com/media/CwHkGTFVMAEe3C1.jpg',\n",
      "                         'sizes': {'large': {'h': 692,\n",
      "                                             'resize': 'fit',\n",
      "                                             'w': 1200},\n",
      "                                   'medium': {'h': 692,\n",
      "                                              'resize': 'fit',\n",
      "                                              'w': 1200},\n",
      "                                   'small': {'h': 392,\n",
      "                                             'resize': 'fit',\n",
      "                                             'w': 680},\n",
      "                                   'thumb': {'h': 150,\n",
      "                                             'resize': 'crop',\n",
      "                                             'w': 150}},\n",
      "                         'type': 'photo',\n",
      "                         'url': 'https://t.co/gN7BYfLD9K'}],\n",
      "              'symbols': [],\n",
      "              'urls': [{'display_url': 'facebook.com/DonaldTrump/vi…',\n",
      "                        'expanded_url': 'https://www.facebook.com/DonaldTrump/videos/10158023562820725/',\n",
      "                        'indices': [49, 72],\n",
      "                        'url': 'https://t.co/2mDQCs6coB'}],\n",
      "              'user_mentions': []},\n",
      " 'extended_entities': {'media': [{'display_url': 'pic.twitter.com/gN7BYfLD9K',\n",
      "                                  'expanded_url': 'https://twitter.com/realDonaldTrump/status/793165820889358338/photo/1',\n",
      "                                  'id': 793165806246899713,\n",
      "                                  'id_str': '793165806246899713',\n",
      "                                  'indices': [73, 96],\n",
      "                                  'media_url': 'http://pbs.twimg.com/media/CwHkGTFVMAEe3C1.jpg',\n",
      "                                  'media_url_https': 'https://pbs.twimg.com/media/CwHkGTFVMAEe3C1.jpg',\n",
      "                                  'sizes': {'large': {'h': 692,\n",
      "                                                      'resize': 'fit',\n",
      "                                                      'w': 1200},\n",
      "                                            'medium': {'h': 692,\n",
      "                                                       'resize': 'fit',\n",
      "                                                       'w': 1200},\n",
      "                                            'small': {'h': 392,\n",
      "                                                      'resize': 'fit',\n",
      "                                                      'w': 680},\n",
      "                                            'thumb': {'h': 150,\n",
      "                                                      'resize': 'crop',\n",
      "                                                      'w': 150}},\n",
      "                                  'type': 'photo',\n",
      "                                  'url': 'https://t.co/gN7BYfLD9K'}]},\n",
      " 'favorite_count': 21127,\n",
      " 'favorited': False,\n",
      " 'full_text': 'Thank you Grand Rapids, Michigan! #ICYMI- watch: '\n",
      "              'https://t.co/2mDQCs6coB https://t.co/gN7BYfLD9K',\n",
      " 'geo': None,\n",
      " 'id': 793165820889358338,\n",
      " 'id_str': '793165820889358338',\n",
      " 'in_reply_to_screen_name': None,\n",
      " 'in_reply_to_status_id': None,\n",
      " 'in_reply_to_status_id_str': None,\n",
      " 'in_reply_to_user_id': None,\n",
      " 'in_reply_to_user_id_str': None,\n",
      " 'is_quote_status': False,\n",
      " 'lang': 'en',\n",
      " 'place': {'attributes': {},\n",
      "           'bounding_box': {'coordinates': [[[-90.4181075, 41.696088],\n",
      "                                             [-82.122971, 41.696088],\n",
      "                                             [-82.122971, 48.306272],\n",
      "                                             [-90.4181075, 48.306272]]],\n",
      "                            'type': 'Polygon'},\n",
      "           'contained_within': [],\n",
      "           'country': 'United States',\n",
      "           'country_code': 'US',\n",
      "           'full_name': 'Michigan, USA',\n",
      "           'id': '67d92742f1ebf307',\n",
      "           'name': 'Michigan',\n",
      "           'place_type': 'admin',\n",
      "           'url': 'https://api.twitter.com/1.1/geo/id/67d92742f1ebf307.json'},\n",
      " 'possibly_sensitive': False,\n",
      " 'retweet_count': 9005,\n",
      " 'retweeted': False,\n",
      " 'source': '<a href=\"http://twitter.com/download/iphone\" '\n",
      "           'rel=\"nofollow\">Twitter for iPhone</a>',\n",
      " 'truncated': False,\n",
      " 'user': {'contributors_enabled': False,\n",
      "          'created_at': 'Wed Mar 18 13:46:38 +0000 2009',\n",
      "          'default_profile': False,\n",
      "          'default_profile_image': False,\n",
      "          'description': '45th President of the United States of America🇺🇸',\n",
      "          'entities': {'description': {'urls': []},\n",
      "                       'url': {'urls': [{'display_url': 'Instagram.com/realDonaldTrump',\n",
      "                                         'expanded_url': 'http://www.Instagram.com/realDonaldTrump',\n",
      "                                         'indices': [0, 23],\n",
      "                                         'url': 'https://t.co/OMxB0x7xC5'}]}},\n",
      "          'favourites_count': 24,\n",
      "          'follow_request_sent': False,\n",
      "          'followers_count': 48347079,\n",
      "          'following': False,\n",
      "          'friends_count': 45,\n",
      "          'geo_enabled': True,\n",
      "          'has_extended_profile': False,\n",
      "          'id': 25073877,\n",
      "          'id_str': '25073877',\n",
      "          'is_translation_enabled': True,\n",
      "          'is_translator': False,\n",
      "          'lang': 'en',\n",
      "          'listed_count': 85160,\n",
      "          'location': 'Washington, DC',\n",
      "          'name': 'Donald J. Trump',\n",
      "          'notifications': False,\n",
      "          'profile_background_color': '6D5C18',\n",
      "          'profile_background_image_url': 'http://pbs.twimg.com/profile_background_images/530021613/trump_scotland__43_of_70_cc.jpg',\n",
      "          'profile_background_image_url_https': 'https://pbs.twimg.com/profile_background_images/530021613/trump_scotland__43_of_70_cc.jpg',\n",
      "          'profile_background_tile': True,\n",
      "          'profile_banner_url': 'https://pbs.twimg.com/profile_banners/25073877/1519516126',\n",
      "          'profile_image_url': 'http://pbs.twimg.com/profile_images/874276197357596672/kUuht00m_normal.jpg',\n",
      "          'profile_image_url_https': 'https://pbs.twimg.com/profile_images/874276197357596672/kUuht00m_normal.jpg',\n",
      "          'profile_link_color': '1B95E0',\n",
      "          'profile_sidebar_border_color': 'BDDCAD',\n",
      "          'profile_sidebar_fill_color': 'C5CEC0',\n",
      "          'profile_text_color': '333333',\n",
      "          'profile_use_background_image': True,\n",
      "          'protected': False,\n",
      "          'screen_name': 'realDonaldTrump',\n",
      "          'statuses_count': 37026,\n",
      "          'time_zone': 'Eastern Time (US & Canada)',\n",
      "          'translator_type': 'regular',\n",
      "          'url': 'https://t.co/OMxB0x7xC5',\n",
      "          'utc_offset': -18000,\n",
      "          'verified': True}}\n"
     ]
    }
   ],
   "source": [
    "# Enter the number of the month of the oldest tweet (e.g. 1 for January)\n",
    "oldest_month = 11\n",
    "pprint(trump_tweets[-1])\n",
    "# YOUR CODE HERE\n",
    "#raise NotImplementedError()"
   ]
  },
  {
   "cell_type": "code",
   "execution_count": null,
   "metadata": {
    "deletable": false,
    "editable": false,
    "nbgrader": {
     "cell_type": "code",
     "checksum": "a1bc7ba95e8b2c50def1081519525604",
     "grade": true,
     "grade_id": "oldest-month-answer",
     "locked": true,
     "points": 1,
     "schema_version": 2,
     "solution": false
    }
   },
   "outputs": [],
   "source": []
  },
  {
   "cell_type": "markdown",
   "metadata": {
    "deletable": false,
    "editable": false,
    "nbgrader": {
     "cell_type": "markdown",
     "checksum": "06c75046cf9899a309ab35c11c403965",
     "grade": false,
     "grade_id": "q3",
     "locked": true,
     "schema_version": 2,
     "solution": false
    }
   },
   "source": [
    "\n",
    "## Question 3\n",
    "\n",
    "\n",
    "**IMPORTANT! PLEASE READ**\n",
    "\n",
    "Unfortunately, Twitter prevent us from going further back in time using the public APIs.  Fortunately, we have a snapshot of earlier tweets that we can combine with our new data.  \n",
    "\n",
    "We will again use the `fetch_and_cache` utility to download the dataset. "
   ]
  },
  {
   "cell_type": "code",
   "execution_count": 16,
   "metadata": {
    "deletable": false,
    "editable": false,
    "nbgrader": {
     "cell_type": "code",
     "checksum": "a56fd6ade293905b7cfe91c16c54c650",
     "grade": false,
     "grade_id": "download-data",
     "locked": true,
     "schema_version": 2,
     "solution": false
    }
   },
   "outputs": [
    {
     "name": "stdout",
     "output_type": "stream",
     "text": [
      "Using version already downloaded: Fri Feb 23 00:47:52 2018\n",
      "MD5 hash of file: d9419cad17e76c87fe646b587f6e8ca5\n",
      "Located at data/old_trump_tweets.json.zip\n"
     ]
    }
   ],
   "source": [
    "# Download the dataset\n",
    "from utils import fetch_and_cache\n",
    "data_url = 'http://www.ds100.org/sp18/assets/datasets/old_trump_tweets.json.zip'\n",
    "file_name = 'old_trump_tweets.json.zip'\n",
    "\n",
    "dest_path = fetch_and_cache(data_url=data_url, file=file_name)\n",
    "print(f'Located at {dest_path}')"
   ]
  },
  {
   "cell_type": "markdown",
   "metadata": {
    "deletable": false,
    "editable": false,
    "nbgrader": {
     "cell_type": "markdown",
     "checksum": "da803030a1c84a39afbb134dfb8b19fd",
     "grade": false,
     "grade_id": "loading-data-inst",
     "locked": true,
     "schema_version": 2,
     "solution": false
    }
   },
   "source": [
    "Finally, we we will load the tweets directly from the compressed file without decompressing it first."
   ]
  },
  {
   "cell_type": "code",
   "execution_count": 17,
   "metadata": {
    "deletable": false,
    "editable": false,
    "nbgrader": {
     "cell_type": "code",
     "checksum": "2f84519e987875b6b57d9cc5bae460cf",
     "grade": false,
     "grade_id": "loading-old-tweets",
     "locked": true,
     "schema_version": 2,
     "solution": false
    }
   },
   "outputs": [],
   "source": [
    "my_zip = zipfile.ZipFile(dest_path, 'r')\n",
    "with my_zip.open(\"old_trump_tweets.json\", \"r\") as f:\n",
    "    old_trump_tweets = json.load(f)"
   ]
  },
  {
   "cell_type": "markdown",
   "metadata": {
    "deletable": false,
    "editable": false,
    "nbgrader": {
     "cell_type": "markdown",
     "checksum": "8661fc27e5f1cdfce041efd3896ae838",
     "grade": false,
     "grade_id": "formatting-note",
     "locked": true,
     "schema_version": 2,
     "solution": false
    }
   },
   "source": [
    "This data is formatted identically to the recent tweets we just downloaded:"
   ]
  },
  {
   "cell_type": "code",
   "execution_count": 18,
   "metadata": {
    "deletable": false,
    "editable": false,
    "nbgrader": {
     "cell_type": "code",
     "checksum": "30d8ef8fa2c1b900a48779e6cf0320b6",
     "grade": false,
     "grade_id": "pprint-old-tweets",
     "locked": true,
     "schema_version": 2,
     "solution": false
    }
   },
   "outputs": [
    {
     "name": "stdout",
     "output_type": "stream",
     "text": [
      "{'contributors': None,\n",
      " 'coordinates': None,\n",
      " 'created_at': 'Wed Oct 12 14:00:48 +0000 2016',\n",
      " 'entities': {'hashtags': [{'indices': [23, 38], 'text': 'CrookedHillary'}],\n",
      "              'media': [{'display_url': 'pic.twitter.com/wjsl8ITVvk',\n",
      "                         'expanded_url': 'https://twitter.com/realDonaldTrump/status/786204978629185536/video/1',\n",
      "                         'id': 786204885318561792,\n",
      "                         'id_str': '786204885318561792',\n",
      "                         'indices': [39, 62],\n",
      "                         'media_url': 'http://pbs.twimg.com/ext_tw_video_thumb/786204885318561792/pu/img/XqMoixLm83FzkAbn.jpg',\n",
      "                         'media_url_https': 'https://pbs.twimg.com/ext_tw_video_thumb/786204885318561792/pu/img/XqMoixLm83FzkAbn.jpg',\n",
      "                         'sizes': {'large': {'h': 576,\n",
      "                                             'resize': 'fit',\n",
      "                                             'w': 1024},\n",
      "                                   'medium': {'h': 338,\n",
      "                                              'resize': 'fit',\n",
      "                                              'w': 600},\n",
      "                                   'small': {'h': 191,\n",
      "                                             'resize': 'fit',\n",
      "                                             'w': 340},\n",
      "                                   'thumb': {'h': 150,\n",
      "                                             'resize': 'crop',\n",
      "                                             'w': 150}},\n",
      "                         'type': 'photo',\n",
      "                         'url': 'https://t.co/wjsl8ITVvk'}],\n",
      "              'symbols': [],\n",
      "              'urls': [],\n",
      "              'user_mentions': []},\n",
      " 'extended_entities': {'media': [{'additional_media_info': {'monetizable': False},\n",
      "                                  'display_url': 'pic.twitter.com/wjsl8ITVvk',\n",
      "                                  'expanded_url': 'https://twitter.com/realDonaldTrump/status/786204978629185536/video/1',\n",
      "                                  'id': 786204885318561792,\n",
      "                                  'id_str': '786204885318561792',\n",
      "                                  'indices': [39, 62],\n",
      "                                  'media_url': 'http://pbs.twimg.com/ext_tw_video_thumb/786204885318561792/pu/img/XqMoixLm83FzkAbn.jpg',\n",
      "                                  'media_url_https': 'https://pbs.twimg.com/ext_tw_video_thumb/786204885318561792/pu/img/XqMoixLm83FzkAbn.jpg',\n",
      "                                  'sizes': {'large': {'h': 576,\n",
      "                                                      'resize': 'fit',\n",
      "                                                      'w': 1024},\n",
      "                                            'medium': {'h': 338,\n",
      "                                                       'resize': 'fit',\n",
      "                                                       'w': 600},\n",
      "                                            'small': {'h': 191,\n",
      "                                                      'resize': 'fit',\n",
      "                                                      'w': 340},\n",
      "                                            'thumb': {'h': 150,\n",
      "                                                      'resize': 'crop',\n",
      "                                                      'w': 150}},\n",
      "                                  'type': 'video',\n",
      "                                  'url': 'https://t.co/wjsl8ITVvk',\n",
      "                                  'video_info': {'aspect_ratio': [16, 9],\n",
      "                                                 'duration_millis': 30106,\n",
      "                                                 'variants': [{'bitrate': 832000,\n",
      "                                                               'content_type': 'video/mp4',\n",
      "                                                               'url': 'https://video.twimg.com/ext_tw_video/786204885318561792/pu/vid/640x360/6vt24D3ZQSvYuDqe.mp4'},\n",
      "                                                              {'bitrate': 2176000,\n",
      "                                                               'content_type': 'video/mp4',\n",
      "                                                               'url': 'https://video.twimg.com/ext_tw_video/786204885318561792/pu/vid/1280x720/rSbgQdvR9TPIlRWr.mp4'},\n",
      "                                                              {'bitrate': 320000,\n",
      "                                                               'content_type': 'video/mp4',\n",
      "                                                               'url': 'https://video.twimg.com/ext_tw_video/786204885318561792/pu/vid/320x180/JuNJDqr1KHqoP83N.mp4'},\n",
      "                                                              {'content_type': 'application/x-mpegURL',\n",
      "                                                               'url': 'https://video.twimg.com/ext_tw_video/786204885318561792/pu/pl/IugUNii3a7lmjApS.m3u8'}]}}]},\n",
      " 'favorite_count': 42242,\n",
      " 'favorited': False,\n",
      " 'geo': None,\n",
      " 'id': 786204978629185536,\n",
      " 'id_str': '786204978629185536',\n",
      " 'in_reply_to_screen_name': None,\n",
      " 'in_reply_to_status_id': None,\n",
      " 'in_reply_to_status_id_str': None,\n",
      " 'in_reply_to_user_id': None,\n",
      " 'in_reply_to_user_id_str': None,\n",
      " 'is_quote_status': False,\n",
      " 'lang': 'en',\n",
      " 'place': {'attributes': {},\n",
      "           'bounding_box': {'coordinates': [[[-87.634643, 24.396308],\n",
      "                                             [-79.974307, 24.396308],\n",
      "                                             [-79.974307, 31.001056],\n",
      "                                             [-87.634643, 31.001056]]],\n",
      "                            'type': 'Polygon'},\n",
      "           'contained_within': [],\n",
      "           'country': 'United States',\n",
      "           'country_code': 'US',\n",
      "           'full_name': 'Florida, USA',\n",
      "           'id': '4ec01c9dbc693497',\n",
      "           'name': 'Florida',\n",
      "           'place_type': 'admin',\n",
      "           'url': 'https://api.twitter.com/1.1/geo/id/4ec01c9dbc693497.json'},\n",
      " 'possibly_sensitive': False,\n",
      " 'retweet_count': 24915,\n",
      " 'retweeted': False,\n",
      " 'source': '<a href=\"http://twitter.com/download/iphone\" '\n",
      "           'rel=\"nofollow\">Twitter for iPhone</a>',\n",
      " 'text': 'PAY TO PLAY POLITICS. \\n#CrookedHillary https://t.co/wjsl8ITVvk',\n",
      " 'truncated': False,\n",
      " 'user': {'contributors_enabled': False,\n",
      "          'created_at': 'Wed Mar 18 13:46:38 +0000 2009',\n",
      "          'default_profile': False,\n",
      "          'default_profile_image': False,\n",
      "          'description': '45th President of the United States of America🇺🇸',\n",
      "          'entities': {'description': {'urls': []}},\n",
      "          'favourites_count': 12,\n",
      "          'follow_request_sent': False,\n",
      "          'followers_count': 35307313,\n",
      "          'following': False,\n",
      "          'friends_count': 45,\n",
      "          'geo_enabled': True,\n",
      "          'has_extended_profile': False,\n",
      "          'id': 25073877,\n",
      "          'id_str': '25073877',\n",
      "          'is_translation_enabled': True,\n",
      "          'is_translator': False,\n",
      "          'lang': 'en',\n",
      "          'listed_count': 74225,\n",
      "          'location': 'Washington, DC',\n",
      "          'name': 'Donald J. Trump',\n",
      "          'notifications': False,\n",
      "          'profile_background_color': '6D5C18',\n",
      "          'profile_background_image_url': 'http://pbs.twimg.com/profile_background_images/530021613/trump_scotland__43_of_70_cc.jpg',\n",
      "          'profile_background_image_url_https': 'https://pbs.twimg.com/profile_background_images/530021613/trump_scotland__43_of_70_cc.jpg',\n",
      "          'profile_background_tile': True,\n",
      "          'profile_banner_url': 'https://pbs.twimg.com/profile_banners/25073877/1501916634',\n",
      "          'profile_image_url': 'http://pbs.twimg.com/profile_images/874276197357596672/kUuht00m_normal.jpg',\n",
      "          'profile_image_url_https': 'https://pbs.twimg.com/profile_images/874276197357596672/kUuht00m_normal.jpg',\n",
      "          'profile_link_color': '1B95E0',\n",
      "          'profile_sidebar_border_color': 'BDDCAD',\n",
      "          'profile_sidebar_fill_color': 'C5CEC0',\n",
      "          'profile_text_color': '333333',\n",
      "          'profile_use_background_image': True,\n",
      "          'protected': False,\n",
      "          'screen_name': 'realDonaldTrump',\n",
      "          'statuses_count': 35480,\n",
      "          'time_zone': 'Eastern Time (US & Canada)',\n",
      "          'translator_type': 'regular',\n",
      "          'url': None,\n",
      "          'utc_offset': -14400,\n",
      "          'verified': True}}\n"
     ]
    }
   ],
   "source": [
    "pprint(old_trump_tweets[0])"
   ]
  },
  {
   "cell_type": "markdown",
   "metadata": {
    "deletable": false,
    "editable": false,
    "nbgrader": {
     "cell_type": "markdown",
     "checksum": "15f652a6c9d0626c82b34be4253b2333",
     "grade": false,
     "grade_id": "listing-keys-inst",
     "locked": true,
     "schema_version": 2,
     "solution": false
    }
   },
   "source": [
    "As a dictionary we can also list the keys:"
   ]
  },
  {
   "cell_type": "code",
   "execution_count": 19,
   "metadata": {
    "deletable": false,
    "editable": false,
    "nbgrader": {
     "cell_type": "code",
     "checksum": "c88eaf1ba38e6c52151ad6a2922216c0",
     "grade": false,
     "grade_id": "listing-keys",
     "locked": true,
     "schema_version": 2,
     "solution": false
    }
   },
   "outputs": [
    {
     "data": {
      "text/plain": [
       "dict_keys(['created_at', 'id', 'id_str', 'text', 'truncated', 'entities', 'extended_entities', 'source', 'in_reply_to_status_id', 'in_reply_to_status_id_str', 'in_reply_to_user_id', 'in_reply_to_user_id_str', 'in_reply_to_screen_name', 'user', 'geo', 'coordinates', 'place', 'contributors', 'is_quote_status', 'retweet_count', 'favorite_count', 'favorited', 'retweeted', 'possibly_sensitive', 'lang'])"
      ]
     },
     "execution_count": 19,
     "metadata": {},
     "output_type": "execute_result"
    }
   ],
   "source": [
    "old_trump_tweets[0].keys()"
   ]
  },
  {
   "cell_type": "markdown",
   "metadata": {
    "deletable": false,
    "editable": false,
    "nbgrader": {
     "cell_type": "markdown",
     "checksum": "b40bfbf5e74ba5af630326ab7a77c98c",
     "grade": false,
     "grade_id": "q3a",
     "locked": true,
     "schema_version": 2,
     "solution": false
    }
   },
   "source": [
    "### Question 3a\n",
    "\n",
    "Merge the `old_trump_tweets` and the `trump_tweets` we downloaded from twitter into one giant list of tweets. \n",
    "\n",
    "**Important:** There may be some overlap so be sure to eliminate duplicate tweets.  \n",
    "**Hint:** the `id` of a tweet is always unique."
   ]
  },
  {
   "cell_type": "code",
   "execution_count": 20,
   "metadata": {
    "deletable": false,
    "nbgrader": {
     "cell_type": "code",
     "checksum": "cfff2cf8e110d51cb3dbb7f5086b9be4",
     "grade": false,
     "grade_id": "q3a-answer",
     "locked": false,
     "schema_version": 2,
     "solution": true
    }
   },
   "outputs": [
    {
     "data": {
      "text/plain": [
       "6798"
      ]
     },
     "execution_count": 20,
     "metadata": {},
     "output_type": "execute_result"
    }
   ],
   "source": [
    "alltweets = {}\n",
    "for twt in old_trump_tweets:\n",
    "    nxt = {twt['id']:twt}\n",
    "    alltweets.update(nxt)\n",
    "\n",
    "for twt in trump_tweets:\n",
    "    nxt = {twt['id']:twt}\n",
    "    alltweets.update(nxt)\n",
    "\n",
    "all_tweets = []\n",
    "\n",
    "for key, value in alltweets.items():\n",
    "    all_tweets.append(value)\n",
    "\n",
    "len(all_tweets)\n",
    "# YOUR CODE HERE\n",
    "#raise NotImplementedError()"
   ]
  },
  {
   "cell_type": "code",
   "execution_count": 21,
   "metadata": {
    "deletable": false,
    "editable": false,
    "nbgrader": {
     "cell_type": "code",
     "checksum": "7a21da10aa86da615b340c8edb2973c3",
     "grade": true,
     "grade_id": "q3a-test",
     "locked": true,
     "points": 2,
     "schema_version": 2,
     "solution": false
    }
   },
   "outputs": [],
   "source": [
    "assert len(all_tweets) > len(trump_tweets)\n",
    "assert len(all_tweets) > len(old_trump_tweets)"
   ]
  },
  {
   "cell_type": "markdown",
   "metadata": {
    "deletable": false,
    "editable": false,
    "nbgrader": {
     "cell_type": "markdown",
     "checksum": "532cecf04260fcadca43ce63bf296d5d",
     "grade": false,
     "grade_id": "q3b",
     "locked": true,
     "schema_version": 2,
     "solution": false
    }
   },
   "source": [
    "### Question 3b\n",
    "\n",
    "Construct a DataFrame called `trump` containing all the tweets stored in `all_tweets`. The index of the dataframe should be the ID of each tweet (looks something like `907698529606541312`). It should have these columns:\n",
    "\n",
    "- `time`: The time the tweet was created encoded as a datetime object. (Use `pd.to_datetime` to encode the timestamp.)\n",
    "- `source`: The source device of the tweet.\n",
    "- `text`: The text of the tweet.\n",
    "- `retweet_count`: The retweet count of the tweet. \n",
    "\n",
    "Finally, **the resulting dataframe should be sorted by the index.**\n",
    "\n",
    "**Warning:** *Some tweets will store the text in the `text` field and other will use the `full_text` field.*"
   ]
  },
  {
   "cell_type": "code",
   "execution_count": 22,
   "metadata": {
    "deletable": false,
    "nbgrader": {
     "cell_type": "code",
     "checksum": "dbbe93f4346b0c4ce93681c2c7d06078",
     "grade": false,
     "grade_id": "q3b-answer",
     "locked": false,
     "schema_version": 2,
     "solution": true
    },
    "tags": [
     "student"
    ]
   },
   "outputs": [
    {
     "data": {
      "text/html": [
       "<div>\n",
       "<style scoped>\n",
       "    .dataframe tbody tr th:only-of-type {\n",
       "        vertical-align: middle;\n",
       "    }\n",
       "\n",
       "    .dataframe tbody tr th {\n",
       "        vertical-align: top;\n",
       "    }\n",
       "\n",
       "    .dataframe thead th {\n",
       "        text-align: right;\n",
       "    }\n",
       "</style>\n",
       "<table border=\"1\" class=\"dataframe\">\n",
       "  <thead>\n",
       "    <tr style=\"text-align: right;\">\n",
       "      <th></th>\n",
       "      <th>time</th>\n",
       "      <th>source</th>\n",
       "      <th>text</th>\n",
       "      <th>retweet_count</th>\n",
       "    </tr>\n",
       "    <tr>\n",
       "      <th>id</th>\n",
       "      <th></th>\n",
       "      <th></th>\n",
       "      <th></th>\n",
       "      <th></th>\n",
       "    </tr>\n",
       "  </thead>\n",
       "  <tbody>\n",
       "    <tr>\n",
       "      <th>786204978629185536</th>\n",
       "      <td>2016-10-12 14:00:48</td>\n",
       "      <td>&lt;a href=\"http://twitter.com/download/iphone\" rel=\"nofollow\"&gt;Twitter for iPhone&lt;/a&gt;</td>\n",
       "      <td>PAY TO PLAY POLITICS. \\n#CrookedHillary https://t.co/wjsl8ITVvk</td>\n",
       "      <td>24915</td>\n",
       "    </tr>\n",
       "    <tr>\n",
       "      <th>786201435486781440</th>\n",
       "      <td>2016-10-12 13:46:43</td>\n",
       "      <td>&lt;a href=\"http://twitter.com/download/iphone\" rel=\"nofollow\"&gt;Twitter for iPhone&lt;/a&gt;</td>\n",
       "      <td>Very little pick-up by the dishonest media of incredible information provided by WikiLeaks. So dishonest! Rigged system!</td>\n",
       "      <td>22609</td>\n",
       "    </tr>\n",
       "    <tr>\n",
       "      <th>786189446274248704</th>\n",
       "      <td>2016-10-12 12:59:05</td>\n",
       "      <td>&lt;a href=\"http://twitter.com/download/android\" rel=\"nofollow\"&gt;Twitter for Android&lt;/a&gt;</td>\n",
       "      <td>Crooked Hillary Clinton likes to talk about the things she will do but she has been there for 30 years - why didn't she do them?</td>\n",
       "      <td>18329</td>\n",
       "    </tr>\n",
       "    <tr>\n",
       "      <th>786054986534969344</th>\n",
       "      <td>2016-10-12 04:04:47</td>\n",
       "      <td>&lt;a href=\"http://twitter.com/download/iphone\" rel=\"nofollow\"&gt;Twitter for iPhone&lt;/a&gt;</td>\n",
       "      <td>Thank you Florida- a MOVEMENT that has never been seen before and will never be seen again. Lets get out &amp;amp;… https://t.co/t9XM9wFDZI</td>\n",
       "      <td>18789</td>\n",
       "    </tr>\n",
       "    <tr>\n",
       "      <th>786007502639038464</th>\n",
       "      <td>2016-10-12 00:56:06</td>\n",
       "      <td>&lt;a href=\"http://twitter.com/download/iphone\" rel=\"nofollow\"&gt;Twitter for iPhone&lt;/a&gt;</td>\n",
       "      <td>Join me Thursday in Florida &amp;amp; Ohio!\\nWest Palm Beach, FL at noon:\\nhttps://t.co/jwbZnQhxg9\\nCincinnati, OH this 7:30pm:\\nhttps://t.co/5w2UhalPIx</td>\n",
       "      <td>7761</td>\n",
       "    </tr>\n",
       "  </tbody>\n",
       "</table>\n",
       "</div>"
      ],
      "text/plain": [
       "                                  time  \\\n",
       "id                                       \n",
       "786204978629185536 2016-10-12 14:00:48   \n",
       "786201435486781440 2016-10-12 13:46:43   \n",
       "786189446274248704 2016-10-12 12:59:05   \n",
       "786054986534969344 2016-10-12 04:04:47   \n",
       "786007502639038464 2016-10-12 00:56:06   \n",
       "\n",
       "                                                                                                  source  \\\n",
       "id                                                                                                         \n",
       "786204978629185536    <a href=\"http://twitter.com/download/iphone\" rel=\"nofollow\">Twitter for iPhone</a>   \n",
       "786201435486781440    <a href=\"http://twitter.com/download/iphone\" rel=\"nofollow\">Twitter for iPhone</a>   \n",
       "786189446274248704  <a href=\"http://twitter.com/download/android\" rel=\"nofollow\">Twitter for Android</a>   \n",
       "786054986534969344    <a href=\"http://twitter.com/download/iphone\" rel=\"nofollow\">Twitter for iPhone</a>   \n",
       "786007502639038464    <a href=\"http://twitter.com/download/iphone\" rel=\"nofollow\">Twitter for iPhone</a>   \n",
       "\n",
       "                                                                                                                                                                    text  \\\n",
       "id                                                                                                                                                                         \n",
       "786204978629185536                                                                                       PAY TO PLAY POLITICS. \\n#CrookedHillary https://t.co/wjsl8ITVvk   \n",
       "786201435486781440                              Very little pick-up by the dishonest media of incredible information provided by WikiLeaks. So dishonest! Rigged system!   \n",
       "786189446274248704                      Crooked Hillary Clinton likes to talk about the things she will do but she has been there for 30 years - why didn't she do them?   \n",
       "786054986534969344               Thank you Florida- a MOVEMENT that has never been seen before and will never be seen again. Lets get out &amp;… https://t.co/t9XM9wFDZI   \n",
       "786007502639038464  Join me Thursday in Florida &amp; Ohio!\\nWest Palm Beach, FL at noon:\\nhttps://t.co/jwbZnQhxg9\\nCincinnati, OH this 7:30pm:\\nhttps://t.co/5w2UhalPIx   \n",
       "\n",
       "                    retweet_count  \n",
       "id                                 \n",
       "786204978629185536          24915  \n",
       "786201435486781440          22609  \n",
       "786189446274248704          18329  \n",
       "786054986534969344          18789  \n",
       "786007502639038464           7761  "
      ]
     },
     "execution_count": 22,
     "metadata": {},
     "output_type": "execute_result"
    }
   ],
   "source": [
    "trump = pd.DataFrame.from_dict(all_tweets)\n",
    "\n",
    "trump['time'] = [pd.to_datetime(x) for x in [i [4:] for i in trump['created_at']]]\n",
    "texts = []\n",
    "for i in range(len(trump)):\n",
    "    if str(trump['text'][i]) != \"nan\" :\n",
    "        texts.append(trump['text'][i])\n",
    "    else:\n",
    "        texts.append(trump['full_text'][i])\n",
    "trump['text'] = texts\n",
    "\n",
    "trump.set_index('id', inplace=True)\n",
    "\n",
    "trump = trump.loc[:,['time','source', 'text','retweet_count']]\n",
    "\n",
    "\n",
    "trump.head()\n",
    "\n",
    "# YOUR CODE HERE\n",
    "#raise NotImplementedError()"
   ]
  },
  {
   "cell_type": "code",
   "execution_count": 23,
   "metadata": {
    "deletable": false,
    "editable": false,
    "nbgrader": {
     "cell_type": "code",
     "checksum": "d870180ff630d9ce182d04cd033fe1b2",
     "grade": true,
     "grade_id": "q3b-tests",
     "locked": true,
     "points": 2,
     "schema_version": 2,
     "solution": false
    },
    "tags": [
     "test",
     "q03"
    ]
   },
   "outputs": [],
   "source": [
    "assert isinstance(trump, pd.DataFrame)\n",
    "assert trump.shape[0] < 8000\n",
    "assert trump.shape[1] >= 4\n",
    "assert 831846101179314177 in trump.index\n",
    "assert 753063644578144260 in trump.index\n",
    "assert all(col in trump.columns for col in ['time', 'source', 'text', 'retweet_count'])\n",
    "# If you fail these tests, you probably tried to use __dict__ or _json to read in the tweets\n",
    "assert np.sometrue([('Twitter for iPhone' in s) for s in trump['source'].unique()])\n",
    "assert trump['time'].dtype == np.dtype('<M8[ns]')\n",
    "assert trump['text'].dtype == np.dtype('O')\n",
    "assert trump['retweet_count'].dtype == np.dtype('int64')"
   ]
  },
  {
   "cell_type": "markdown",
   "metadata": {
    "deletable": false,
    "editable": false,
    "nbgrader": {
     "cell_type": "markdown",
     "checksum": "30d38d0c0f5988b2b1da8eadd678d083",
     "grade": false,
     "grade_id": "question4",
     "locked": true,
     "schema_version": 2,
     "solution": false
    }
   },
   "source": [
    "## Question 4: Tweet Source Analysis\n",
    "\n",
    "In the following questions, we are going to find out the charateristics of Trump tweets and the devices used for the tweets.\n",
    "\n",
    "First let's examine the source field:"
   ]
  },
  {
   "cell_type": "code",
   "execution_count": 24,
   "metadata": {
    "deletable": false,
    "editable": false,
    "nbgrader": {
     "cell_type": "code",
     "checksum": "6afb6dfe20e5154416906478ba3d9384",
     "grade": false,
     "grade_id": "unique-sources",
     "locked": true,
     "schema_version": 2,
     "solution": false
    }
   },
   "outputs": [
    {
     "data": {
      "text/plain": [
       "array([ '<a href=\"http://twitter.com/download/iphone\" rel=\"nofollow\">Twitter for iPhone</a>',\n",
       "       '<a href=\"http://twitter.com/download/android\" rel=\"nofollow\">Twitter for Android</a>',\n",
       "       '<a href=\"http://twitter.com\" rel=\"nofollow\">Twitter Web Client</a>',\n",
       "       '<a href=\"https://studio.twitter.com\" rel=\"nofollow\">Media Studio</a>',\n",
       "       '<a href=\"http://twitter.com/#!/download/ipad\" rel=\"nofollow\">Twitter for iPad</a>',\n",
       "       '<a href=\"http://instagram.com\" rel=\"nofollow\">Instagram</a>',\n",
       "       '<a href=\"https://mobile.twitter.com\" rel=\"nofollow\">Mobile Web (M5)</a>',\n",
       "       '<a href=\"https://ads.twitter.com\" rel=\"nofollow\">Twitter Ads</a>',\n",
       "       '<a href=\"https://periscope.tv\" rel=\"nofollow\">Periscope</a>'], dtype=object)"
      ]
     },
     "execution_count": 24,
     "metadata": {},
     "output_type": "execute_result"
    }
   ],
   "source": [
    "trump['source'].unique()"
   ]
  },
  {
   "cell_type": "markdown",
   "metadata": {
    "deletable": false,
    "editable": false,
    "nbgrader": {
     "cell_type": "markdown",
     "checksum": "c6456dce1f6278ee550862faf8829f32",
     "grade": false,
     "grade_id": "q4a",
     "locked": true,
     "schema_version": 2,
     "solution": false
    }
   },
   "source": [
    "## Question 4a\n",
    "\n",
    "Remove the HTML tags from the source field. \n",
    "\n",
    "**Hint:** Use `trump['source'].str.replace` and your favorite regular expression."
   ]
  },
  {
   "cell_type": "code",
   "execution_count": 25,
   "metadata": {
    "deletable": false,
    "nbgrader": {
     "cell_type": "code",
     "checksum": "a05e9dfd89d13b6b4d93b7b32b0c18d0",
     "grade": false,
     "grade_id": "q4a-answer",
     "locked": false,
     "schema_version": 2,
     "solution": true
    }
   },
   "outputs": [
    {
     "data": {
      "text/html": [
       "<div>\n",
       "<style scoped>\n",
       "    .dataframe tbody tr th:only-of-type {\n",
       "        vertical-align: middle;\n",
       "    }\n",
       "\n",
       "    .dataframe tbody tr th {\n",
       "        vertical-align: top;\n",
       "    }\n",
       "\n",
       "    .dataframe thead th {\n",
       "        text-align: right;\n",
       "    }\n",
       "</style>\n",
       "<table border=\"1\" class=\"dataframe\">\n",
       "  <thead>\n",
       "    <tr style=\"text-align: right;\">\n",
       "      <th></th>\n",
       "      <th>time</th>\n",
       "      <th>source</th>\n",
       "      <th>text</th>\n",
       "      <th>retweet_count</th>\n",
       "    </tr>\n",
       "    <tr>\n",
       "      <th>id</th>\n",
       "      <th></th>\n",
       "      <th></th>\n",
       "      <th></th>\n",
       "      <th></th>\n",
       "    </tr>\n",
       "  </thead>\n",
       "  <tbody>\n",
       "    <tr>\n",
       "      <th>786204978629185536</th>\n",
       "      <td>2016-10-12 14:00:48</td>\n",
       "      <td>Twitter for iPhone</td>\n",
       "      <td>PAY TO PLAY POLITICS. \\n#CrookedHillary https://t.co/wjsl8ITVvk</td>\n",
       "      <td>24915</td>\n",
       "    </tr>\n",
       "    <tr>\n",
       "      <th>786201435486781440</th>\n",
       "      <td>2016-10-12 13:46:43</td>\n",
       "      <td>Twitter for iPhone</td>\n",
       "      <td>Very little pick-up by the dishonest media of incredible information provided by WikiLeaks. So dishonest! Rigged system!</td>\n",
       "      <td>22609</td>\n",
       "    </tr>\n",
       "    <tr>\n",
       "      <th>786189446274248704</th>\n",
       "      <td>2016-10-12 12:59:05</td>\n",
       "      <td>Twitter for Android</td>\n",
       "      <td>Crooked Hillary Clinton likes to talk about the things she will do but she has been there for 30 years - why didn't she do them?</td>\n",
       "      <td>18329</td>\n",
       "    </tr>\n",
       "    <tr>\n",
       "      <th>786054986534969344</th>\n",
       "      <td>2016-10-12 04:04:47</td>\n",
       "      <td>Twitter for iPhone</td>\n",
       "      <td>Thank you Florida- a MOVEMENT that has never been seen before and will never be seen again. Lets get out &amp;amp;… https://t.co/t9XM9wFDZI</td>\n",
       "      <td>18789</td>\n",
       "    </tr>\n",
       "    <tr>\n",
       "      <th>786007502639038464</th>\n",
       "      <td>2016-10-12 00:56:06</td>\n",
       "      <td>Twitter for iPhone</td>\n",
       "      <td>Join me Thursday in Florida &amp;amp; Ohio!\\nWest Palm Beach, FL at noon:\\nhttps://t.co/jwbZnQhxg9\\nCincinnati, OH this 7:30pm:\\nhttps://t.co/5w2UhalPIx</td>\n",
       "      <td>7761</td>\n",
       "    </tr>\n",
       "  </tbody>\n",
       "</table>\n",
       "</div>"
      ],
      "text/plain": [
       "                                  time               source  \\\n",
       "id                                                            \n",
       "786204978629185536 2016-10-12 14:00:48   Twitter for iPhone   \n",
       "786201435486781440 2016-10-12 13:46:43   Twitter for iPhone   \n",
       "786189446274248704 2016-10-12 12:59:05  Twitter for Android   \n",
       "786054986534969344 2016-10-12 04:04:47   Twitter for iPhone   \n",
       "786007502639038464 2016-10-12 00:56:06   Twitter for iPhone   \n",
       "\n",
       "                                                                                                                                                                    text  \\\n",
       "id                                                                                                                                                                         \n",
       "786204978629185536                                                                                       PAY TO PLAY POLITICS. \\n#CrookedHillary https://t.co/wjsl8ITVvk   \n",
       "786201435486781440                              Very little pick-up by the dishonest media of incredible information provided by WikiLeaks. So dishonest! Rigged system!   \n",
       "786189446274248704                      Crooked Hillary Clinton likes to talk about the things she will do but she has been there for 30 years - why didn't she do them?   \n",
       "786054986534969344               Thank you Florida- a MOVEMENT that has never been seen before and will never be seen again. Lets get out &amp;… https://t.co/t9XM9wFDZI   \n",
       "786007502639038464  Join me Thursday in Florida &amp; Ohio!\\nWest Palm Beach, FL at noon:\\nhttps://t.co/jwbZnQhxg9\\nCincinnati, OH this 7:30pm:\\nhttps://t.co/5w2UhalPIx   \n",
       "\n",
       "                    retweet_count  \n",
       "id                                 \n",
       "786204978629185536          24915  \n",
       "786201435486781440          22609  \n",
       "786189446274248704          18329  \n",
       "786054986534969344          18789  \n",
       "786007502639038464           7761  "
      ]
     },
     "execution_count": 25,
     "metadata": {},
     "output_type": "execute_result"
    }
   ],
   "source": [
    "## Uncomment and complete\n",
    "trump['source'] = (trump['source'].str.replace('^</?a.*\\\">', '')\n",
    "                   .str.replace('</a>', '')\n",
    "                  )\n",
    "\n",
    "trump.head()\n",
    "# YOUR CODE HERE\n",
    "#raise NotImplementedError()"
   ]
  },
  {
   "cell_type": "code",
   "execution_count": 26,
   "metadata": {
    "deletable": false,
    "editable": false,
    "nbgrader": {
     "cell_type": "code",
     "checksum": "ba180bc3697692747a71297f6b4dc64a",
     "grade": true,
     "grade_id": "q4a-test",
     "locked": true,
     "points": 1,
     "schema_version": 2,
     "solution": false
    }
   },
   "outputs": [],
   "source": [
    "from datetime import datetime\n",
    "ELEC_DATE = datetime(2016, 11, 8)\n",
    "INAUG_DATE = datetime(2017, 1, 20)\n",
    "assert set(trump[(trump['time'] > ELEC_DATE) & (trump['time'] < INAUG_DATE) ]['source'].unique()) == set(['Twitter Ads',\n",
    " 'Twitter Web Client',\n",
    " 'Twitter for Android',\n",
    " 'Twitter for iPhone'])"
   ]
  },
  {
   "cell_type": "markdown",
   "metadata": {
    "deletable": false,
    "editable": false,
    "nbgrader": {
     "cell_type": "markdown",
     "checksum": "fbd18f3db9b76174657bbfadec0dede6",
     "grade": false,
     "grade_id": "note-about-device-usage",
     "locked": true,
     "schema_version": 2,
     "solution": false
    }
   },
   "source": [
    "We can see in the following plot that there are two device types that are more commonly used"
   ]
  },
  {
   "cell_type": "code",
   "execution_count": 27,
   "metadata": {
    "deletable": false,
    "editable": false,
    "nbgrader": {
     "cell_type": "code",
     "checksum": "80767c65e51906a26ac3aa9c6e0d48e5",
     "grade": false,
     "grade_id": "device-usage-plot",
     "locked": true,
     "schema_version": 2,
     "solution": false
    }
   },
   "outputs": [
    {
     "data": {
      "text/plain": [
       "Text(0,0.5,'Number of Tweets')"
      ]
     },
     "execution_count": 27,
     "metadata": {},
     "output_type": "execute_result"
    },
    {
     "data": {
      "image/png": "[encoded data removed]",
      "text/plain": [
       "<matplotlib.figure.Figure at 0x7fcd66a6cba8>"
      ]
     },
     "metadata": {},
     "output_type": "display_data"
    }
   ],
   "source": [
    "trump['source'].value_counts().plot(kind=\"bar\")\n",
    "plt.ylabel(\"Number of Tweets\")"
   ]
  },
  {
   "cell_type": "markdown",
   "metadata": {
    "deletable": false,
    "editable": false,
    "nbgrader": {
     "cell_type": "markdown",
     "checksum": "4fc8de3b5e3282ab8fa3c8f31fa6794c",
     "grade": false,
     "grade_id": "q4b",
     "locked": true,
     "schema_version": 2,
     "solution": false
    }
   },
   "source": [
    "## Question 4b\n",
    "\n",
    "\n",
    "Is there a difference between his Tweet behavior across these devices? We will attempt to answer this question in our subsequent analysis.\n",
    "\n",
    "First, we'll take a look at whether Trump's tweets from an Android come at different times than his tweets from an iPhone. Note that Twitter gives us his tweets in the [UTC timezone](https://www.wikiwand.com/en/List_of_UTC_time_offsets) (notice the `+0000` in the first few tweets)"
   ]
  },
  {
   "cell_type": "code",
   "execution_count": 28,
   "metadata": {
    "deletable": false,
    "editable": false,
    "nbgrader": {
     "cell_type": "code",
     "checksum": "8a6257dbd02d1af40cdfd288d7c37250",
     "grade": false,
     "grade_id": "tweet-created-at",
     "locked": true,
     "schema_version": 2,
     "solution": false
    }
   },
   "outputs": [
    {
     "name": "stdout",
     "output_type": "stream",
     "text": [
      "Tue Feb 27 12:49:41 +0000 2018\n",
      "Tue Feb 27 12:45:58 +0000 2018\n",
      "Tue Feb 27 12:28:59 +0000 2018\n"
     ]
    }
   ],
   "source": [
    "for t in trump_tweets[0:3]:\n",
    "    print(t['created_at'])"
   ]
  },
  {
   "cell_type": "markdown",
   "metadata": {
    "deletable": false,
    "editable": false,
    "nbgrader": {
     "cell_type": "markdown",
     "checksum": "5a4f73d1c7135ddc404472884d7ba6fa",
     "grade": false,
     "grade_id": "convert-to-est-justification",
     "locked": true,
     "schema_version": 2,
     "solution": false
    }
   },
   "source": [
    "We'll convert the tweet times to US Eastern Time, the timezone of New York and Washington D.C., since those are the places we would expect the most tweet activity from Trump."
   ]
  },
  {
   "cell_type": "code",
   "execution_count": 29,
   "metadata": {
    "deletable": false,
    "editable": false,
    "nbgrader": {
     "cell_type": "code",
     "checksum": "6adc54fdcb7560cb4586d97800b8bfab",
     "grade": false,
     "grade_id": "convert-to-est",
     "locked": true,
     "schema_version": 2,
     "solution": false
    }
   },
   "outputs": [
    {
     "data": {
      "text/html": [
       "<div>\n",
       "<style scoped>\n",
       "    .dataframe tbody tr th:only-of-type {\n",
       "        vertical-align: middle;\n",
       "    }\n",
       "\n",
       "    .dataframe tbody tr th {\n",
       "        vertical-align: top;\n",
       "    }\n",
       "\n",
       "    .dataframe thead th {\n",
       "        text-align: right;\n",
       "    }\n",
       "</style>\n",
       "<table border=\"1\" class=\"dataframe\">\n",
       "  <thead>\n",
       "    <tr style=\"text-align: right;\">\n",
       "      <th></th>\n",
       "      <th>time</th>\n",
       "      <th>source</th>\n",
       "      <th>text</th>\n",
       "      <th>retweet_count</th>\n",
       "      <th>est_time</th>\n",
       "    </tr>\n",
       "    <tr>\n",
       "      <th>id</th>\n",
       "      <th></th>\n",
       "      <th></th>\n",
       "      <th></th>\n",
       "      <th></th>\n",
       "      <th></th>\n",
       "    </tr>\n",
       "  </thead>\n",
       "  <tbody>\n",
       "    <tr>\n",
       "      <th>786204978629185536</th>\n",
       "      <td>2016-10-12 14:00:48</td>\n",
       "      <td>Twitter for iPhone</td>\n",
       "      <td>PAY TO PLAY POLITICS. \\n#CrookedHillary https://t.co/wjsl8ITVvk</td>\n",
       "      <td>24915</td>\n",
       "      <td>2016-10-12 09:00:48-05:00</td>\n",
       "    </tr>\n",
       "    <tr>\n",
       "      <th>786201435486781440</th>\n",
       "      <td>2016-10-12 13:46:43</td>\n",
       "      <td>Twitter for iPhone</td>\n",
       "      <td>Very little pick-up by the dishonest media of incredible information provided by WikiLeaks. So dishonest! Rigged system!</td>\n",
       "      <td>22609</td>\n",
       "      <td>2016-10-12 08:46:43-05:00</td>\n",
       "    </tr>\n",
       "    <tr>\n",
       "      <th>786189446274248704</th>\n",
       "      <td>2016-10-12 12:59:05</td>\n",
       "      <td>Twitter for Android</td>\n",
       "      <td>Crooked Hillary Clinton likes to talk about the things she will do but she has been there for 30 years - why didn't she do them?</td>\n",
       "      <td>18329</td>\n",
       "      <td>2016-10-12 07:59:05-05:00</td>\n",
       "    </tr>\n",
       "    <tr>\n",
       "      <th>786054986534969344</th>\n",
       "      <td>2016-10-12 04:04:47</td>\n",
       "      <td>Twitter for iPhone</td>\n",
       "      <td>Thank you Florida- a MOVEMENT that has never been seen before and will never be seen again. Lets get out &amp;amp;… https://t.co/t9XM9wFDZI</td>\n",
       "      <td>18789</td>\n",
       "      <td>2016-10-11 23:04:47-05:00</td>\n",
       "    </tr>\n",
       "    <tr>\n",
       "      <th>786007502639038464</th>\n",
       "      <td>2016-10-12 00:56:06</td>\n",
       "      <td>Twitter for iPhone</td>\n",
       "      <td>Join me Thursday in Florida &amp;amp; Ohio!\\nWest Palm Beach, FL at noon:\\nhttps://t.co/jwbZnQhxg9\\nCincinnati, OH this 7:30pm:\\nhttps://t.co/5w2UhalPIx</td>\n",
       "      <td>7761</td>\n",
       "      <td>2016-10-11 19:56:06-05:00</td>\n",
       "    </tr>\n",
       "  </tbody>\n",
       "</table>\n",
       "</div>"
      ],
      "text/plain": [
       "                                  time               source  \\\n",
       "id                                                            \n",
       "786204978629185536 2016-10-12 14:00:48   Twitter for iPhone   \n",
       "786201435486781440 2016-10-12 13:46:43   Twitter for iPhone   \n",
       "786189446274248704 2016-10-12 12:59:05  Twitter for Android   \n",
       "786054986534969344 2016-10-12 04:04:47   Twitter for iPhone   \n",
       "786007502639038464 2016-10-12 00:56:06   Twitter for iPhone   \n",
       "\n",
       "                                                                                                                                                                    text  \\\n",
       "id                                                                                                                                                                         \n",
       "786204978629185536                                                                                       PAY TO PLAY POLITICS. \\n#CrookedHillary https://t.co/wjsl8ITVvk   \n",
       "786201435486781440                              Very little pick-up by the dishonest media of incredible information provided by WikiLeaks. So dishonest! Rigged system!   \n",
       "786189446274248704                      Crooked Hillary Clinton likes to talk about the things she will do but she has been there for 30 years - why didn't she do them?   \n",
       "786054986534969344               Thank you Florida- a MOVEMENT that has never been seen before and will never be seen again. Lets get out &amp;… https://t.co/t9XM9wFDZI   \n",
       "786007502639038464  Join me Thursday in Florida &amp; Ohio!\\nWest Palm Beach, FL at noon:\\nhttps://t.co/jwbZnQhxg9\\nCincinnati, OH this 7:30pm:\\nhttps://t.co/5w2UhalPIx   \n",
       "\n",
       "                    retweet_count                  est_time  \n",
       "id                                                           \n",
       "786204978629185536          24915 2016-10-12 09:00:48-05:00  \n",
       "786201435486781440          22609 2016-10-12 08:46:43-05:00  \n",
       "786189446274248704          18329 2016-10-12 07:59:05-05:00  \n",
       "786054986534969344          18789 2016-10-11 23:04:47-05:00  \n",
       "786007502639038464           7761 2016-10-11 19:56:06-05:00  "
      ]
     },
     "execution_count": 29,
     "metadata": {},
     "output_type": "execute_result"
    }
   ],
   "source": [
    "trump['est_time'] = (\n",
    "    trump['time'].dt.tz_localize(\"UTC\") # Set initial timezone to UTC\n",
    "                 .dt.tz_convert(\"EST\") # Convert to Eastern Time\n",
    ")\n",
    "trump.head()"
   ]
  },
  {
   "cell_type": "markdown",
   "metadata": {
    "deletable": false,
    "editable": false,
    "nbgrader": {
     "cell_type": "markdown",
     "checksum": "62a7fe09ae5f6e81c5112a2052452467",
     "grade": false,
     "grade_id": "need-to-do",
     "locked": true,
     "schema_version": 2,
     "solution": false
    }
   },
   "source": [
    "**What you need to do:**\n",
    "\n",
    "Add a column called `hour` to the `trump` table which contains the hour of the day as floating point number computed by:\n",
    "\n",
    "$$\n",
    "\\text{hour} + \\frac{\\text{minute}}{60} + \\frac{\\text{second}}{60^2}\n",
    "$$\n"
   ]
  },
  {
   "cell_type": "code",
   "execution_count": 30,
   "metadata": {
    "deletable": false,
    "nbgrader": {
     "cell_type": "code",
     "checksum": "06c6a53e7388e12148e57710efe30726",
     "grade": false,
     "grade_id": "q4b-answer",
     "locked": false,
     "schema_version": 2,
     "solution": true
    },
    "tags": [
     "student"
    ]
   },
   "outputs": [
    {
     "data": {
      "text/plain": [
       "id\n",
       "786204978629185536     9.013333\n",
       "786201435486781440     8.778611\n",
       "786189446274248704     7.984722\n",
       "786054986534969344    23.079722\n",
       "786007502639038464    19.935000\n",
       "Name: hour, dtype: float64"
      ]
     },
     "execution_count": 30,
     "metadata": {},
     "output_type": "execute_result"
    }
   ],
   "source": [
    "trump['hour'] = trump.est_time.dt.hour + trump.est_time.dt.minute/60 + trump.est_time.dt.second/(60**2)\n",
    "trump['hour'].head()\n",
    "# make a bar plot here\n",
    "# YOUR CODE HERE\n",
    "#raise NotImplementedError()"
   ]
  },
  {
   "cell_type": "code",
   "execution_count": 31,
   "metadata": {
    "deletable": false,
    "editable": false,
    "nbgrader": {
     "cell_type": "code",
     "checksum": "b0fcc19ae4e12541fa73e3e62f334e01",
     "grade": true,
     "grade_id": "q4b-tests",
     "locked": true,
     "points": 1,
     "schema_version": 2,
     "solution": false
    },
    "tags": [
     "test",
     "q04a"
    ]
   },
   "outputs": [],
   "source": [
    "assert np.isclose(trump.loc[690171032150237184]['hour'], 8.93639)"
   ]
  },
  {
   "cell_type": "markdown",
   "metadata": {
    "deletable": false,
    "editable": false,
    "nbgrader": {
     "cell_type": "markdown",
     "checksum": "8b98f2333e8e06595af89608f654a347",
     "grade": false,
     "grade_id": "q4c",
     "locked": true,
     "schema_version": 2,
     "solution": false
    }
   },
   "source": [
    "## Question 4c\n",
    "\n",
    "Use this data along with the seaborn `distplot` function to examine the distribution over hours of the day in `easter time` that trump tweets on each device for the 2 most commonly used devices.  Your plot should look similar to the following. \n",
    "\n",
    "<img src=\"images/device_hour2.png\" width=\"600px\" />"
   ]
  },
  {
   "cell_type": "code",
   "execution_count": 32,
   "metadata": {
    "deletable": false,
    "nbgrader": {
     "cell_type": "code",
     "checksum": "8098891f5ad326482ed42b89fb116b10",
     "grade": true,
     "grade_id": "q4c-answer",
     "locked": false,
     "points": 2,
     "schema_version": 2,
     "solution": true
    }
   },
   "outputs": [
    {
     "data": {
      "image/png": "[encoded data removed]",
      "text/plain": [
       "<matplotlib.figure.Figure at 0x7fcd5d2acc88>"
      ]
     },
     "metadata": {},
     "output_type": "display_data"
    }
   ],
   "source": [
    "### make your plot here\n",
    "# YOUR CODE HERE\n",
    "#raise NotImplementedError()\n",
    "tiphone = trump[trump['source'] == 'Twitter for iPhone']\n",
    "tandroid = trump[trump['source'] =='Twitter for Android']\n",
    "sns.distplot(tiphone['hour'], label='Twitter for iPhone', hist=False)\n",
    "sns.distplot(tandroid['hour'], label='Twitter for Android', hist=False)\n",
    "plt.legend();"
   ]
  },
  {
   "cell_type": "markdown",
   "metadata": {
    "deletable": false,
    "editable": false,
    "nbgrader": {
     "cell_type": "markdown",
     "checksum": "15705789bde1b146f0119a393984387c",
     "grade": false,
     "grade_id": "q4d",
     "locked": true,
     "schema_version": 2,
     "solution": false
    }
   },
   "source": [
    "\n",
    "## Question 4d\n",
    "\n",
    "Are there any striking differences between these curves.  If someone told you that Trump tends to tweet early in the morning and then later in the evening, which device might you conclude is most likely his?"
   ]
  },
  {
   "cell_type": "markdown",
   "metadata": {
    "deletable": false,
    "nbgrader": {
     "cell_type": "markdown",
     "checksum": "dd2a71cbda4d42eaf1a86490a723f4ea",
     "grade": true,
     "grade_id": "q4d-answer",
     "locked": false,
     "points": 1,
     "schema_version": 2,
     "solution": true
    },
    "tags": [
     "student",
     "written"
    ]
   },
   "source": [
    "Twitter for Android had a higher peak around 7-8am and another around 9. Twitter for iPhone has peaks around similar times, except its second peak starts earlier (4-5pm-ish) and is fatter.\n",
    "\n",
    "I would guess that the Android is most likely his. "
   ]
  },
  {
   "cell_type": "markdown",
   "metadata": {
    "deletable": false,
    "editable": false,
    "nbgrader": {
     "cell_type": "markdown",
     "checksum": "a59afe12404b1f0811e16801674c53cf",
     "grade": false,
     "grade_id": "q5",
     "locked": true,
     "schema_version": 2,
     "solution": false
    }
   },
   "source": [
    "## Question 5\n",
    "\n",
    "Let's now look at which device he has used over the entire time period of this dataset.\n",
    "\n",
    "To examine the distribution of dates we will convert the date to a fractional year that can be plotted as a distribution.\n",
    "\n",
    "(Code borrowed from https://stackoverflow.com/questions/6451655/python-how-to-convert-datetime-dates-to-decimal-years)"
   ]
  },
  {
   "cell_type": "code",
   "execution_count": 33,
   "metadata": {
    "deletable": false,
    "editable": false,
    "nbgrader": {
     "cell_type": "code",
     "checksum": "473e641d026c095c438d79d7aa94b2f2",
     "grade": false,
     "grade_id": "fractional-year",
     "locked": true,
     "schema_version": 2,
     "solution": false
    }
   },
   "outputs": [],
   "source": [
    "import datetime\n",
    "def year_fraction(date):\n",
    "    start = datetime.date(date.year, 1, 1).toordinal()\n",
    "    year_length = datetime.date(date.year+1, 1, 1).toordinal() - start\n",
    "    return date.year + float(date.toordinal() - start) / year_length\n",
    "\n",
    "\n",
    "trump['year'] = trump['time'].apply(year_fraction)"
   ]
  },
  {
   "cell_type": "markdown",
   "metadata": {
    "deletable": false,
    "editable": false,
    "nbgrader": {
     "cell_type": "markdown",
     "checksum": "64eb067a351f92005ef87b72f2298f8a",
     "grade": false,
     "grade_id": "q5a",
     "locked": true,
     "schema_version": 2,
     "solution": false
    }
   },
   "source": [
    "### Question 5a\n",
    "\n",
    "Use the `sns.distplot` to overlay the distributions of the 2 most frequently used web technologies over the years.  Your final plot should look like:\n",
    "\n",
    "<img src=\"images/source_years.png\" width=\"600px\" />\n"
   ]
  },
  {
   "cell_type": "code",
   "execution_count": 34,
   "metadata": {
    "deletable": false,
    "nbgrader": {
     "cell_type": "code",
     "checksum": "1e4c5f933e6074bd85bb221f71bf9e9b",
     "grade": true,
     "grade_id": "q5a-answer",
     "locked": false,
     "points": 2,
     "schema_version": 2,
     "solution": true
    }
   },
   "outputs": [
    {
     "name": "stderr",
     "output_type": "stream",
     "text": [
      "/srv/conda/envs/data100/lib/python3.6/site-packages/pandas/core/indexing.py:357: SettingWithCopyWarning: \n",
      "A value is trying to be set on a copy of a slice from a DataFrame.\n",
      "Try using .loc[row_indexer,col_indexer] = value instead\n",
      "\n",
      "See the caveats in the documentation: http://pandas.pydata.org/pandas-docs/stable/indexing.html#indexing-view-versus-copy\n",
      "  self.obj[key] = _infer_fill_value(value)\n",
      "/srv/conda/envs/data100/lib/python3.6/site-packages/pandas/core/indexing.py:537: SettingWithCopyWarning: \n",
      "A value is trying to be set on a copy of a slice from a DataFrame.\n",
      "Try using .loc[row_indexer,col_indexer] = value instead\n",
      "\n",
      "See the caveats in the documentation: http://pandas.pydata.org/pandas-docs/stable/indexing.html#indexing-view-versus-copy\n",
      "  self.obj[item] = s\n"
     ]
    },
    {
     "data": {
      "image/png": "[encoded data removed]",
      "text/plain": [
       "<matplotlib.figure.Figure at 0x7fcd669caf28>"
      ]
     },
     "metadata": {},
     "output_type": "display_data"
    }
   ],
   "source": [
    "# YOUR CODE HERE\n",
    "#raise NotImplementedError()\n",
    "tiphone.loc[:,'dayofyear'] = [it.timetuple().tm_yday for it in tiphone.est_time]\n",
    "tiphone.loc[:,'year'] = (tiphone.est_time.dt.year \n",
    "                         + tiphone['dayofyear']/365\n",
    "                         + tiphone['hour']/24/365\n",
    "                        )\n",
    "\n",
    "\n",
    "tandroid.loc[:,'dayofyear'] = [it.timetuple().tm_yday for it in tandroid.est_time]\n",
    "tandroid.loc[:,'year'] = (tandroid.est_time.dt.year \n",
    "                         + tandroid['dayofyear']/365\n",
    "                         + tandroid['hour']/24/365\n",
    "                        )\n",
    "sns.distplot(tiphone['year'], label='Twitter for iPhone')\n",
    "sns.distplot(tandroid['year'], label='Twitter for Android')\n",
    "plt.legend();\n"
   ]
  },
  {
   "cell_type": "markdown",
   "metadata": {
    "deletable": false,
    "editable": false,
    "nbgrader": {
     "cell_type": "markdown",
     "checksum": "59c4beefb2256bd16dbd81c30cd07046",
     "grade": false,
     "grade_id": "q5b",
     "locked": true,
     "schema_version": 2,
     "solution": false
    }
   },
   "source": [
    "### Question 5b\n",
    "According to the plot, Trump's tweets come from many different sources. It turns out that many of his tweets were not from Trump himself but from his staff. [Take a look at this Verge article.](https://www.theverge.com/2017/3/29/15103504/donald-trump-iphone-using-switched-android)\n",
    "\n",
    "Does the data support the information in the article? What else do you find out about changes in Trump's tweets sources from the plot?"
   ]
  },
  {
   "cell_type": "markdown",
   "metadata": {
    "deletable": false,
    "nbgrader": {
     "cell_type": "markdown",
     "checksum": "082503c0b5857367ca42491826837448",
     "grade": true,
     "grade_id": "q5b-answer",
     "locked": false,
     "points": 1,
     "schema_version": 2,
     "solution": true
    },
    "tags": [
     "student",
     "written"
    ]
   },
   "source": [
    "The article said that Trump started using an iPhone around February/March 2017; this would explain why the iPhone usage jumped around that time.\n",
    "\n",
    "He also has been tweeting significantly less now that he is on the iPhone. "
   ]
  },
  {
   "cell_type": "markdown",
   "metadata": {
    "deletable": false,
    "editable": false,
    "nbgrader": {
     "cell_type": "markdown",
     "checksum": "9160f63c38f2638e31ad51b3260bef67",
     "grade": false,
     "grade_id": "q6-header",
     "locked": true,
     "schema_version": 2,
     "solution": false
    }
   },
   "source": [
    "## Question 6: Sentiment Analysis\n",
    "\n",
    "It turns out that we can use the words in Trump's tweets to calculate a measure of the sentiment of the tweet. For example, the sentence \"I love America!\" has positive sentiment, whereas the sentence \"I hate taxes!\" has a negative sentiment. In addition, some words have stronger positive / negative sentiment than others: \"I love America.\" is more positive than \"I like America.\"\n",
    "\n",
    "We will use the [VADER (Valence Aware Dictionary and sEntiment Reasoner)](https://github.com/cjhutto/vaderSentiment) lexicon to analyze the sentiment of Trump's tweets. VADER is a lexicon and rule-based sentiment analysis tool that is specifically attuned to sentiments expressed in social media which is great for our usage.\n",
    "\n",
    "The VADER lexicon gives the sentiment of individual words. Run the following cell to show the first few rows of the lexicon:"
   ]
  },
  {
   "cell_type": "code",
   "execution_count": 35,
   "metadata": {
    "deletable": false,
    "editable": false,
    "nbgrader": {
     "cell_type": "code",
     "checksum": "4bdf61c45c5bf6f12052419af685d59e",
     "grade": false,
     "grade_id": "head-vader",
     "locked": true,
     "schema_version": 2,
     "solution": false
    }
   },
   "outputs": [
    {
     "name": "stdout",
     "output_type": "stream",
     "text": [
      "$:\t-1.5\t0.80623\t[-1, -1, -1, -1, -3, -1, -3, -1, -2, -1]\n",
      "%)\t-0.4\t1.0198\t[-1, 0, -1, 0, 0, -2, -1, 2, -1, 0]\n",
      "%-)\t-1.5\t1.43178\t[-2, 0, -2, -2, -1, 2, -2, -3, -2, -3]\n",
      "&-:\t-0.4\t1.42829\t[-3, -1, 0, 0, -1, -1, -1, 2, -1, 2]\n",
      "&:\t-0.7\t0.64031\t[0, -1, -1, -1, 1, -1, -1, -1, -1, -1]\n",
      "( '}{' )\t1.6\t0.66332\t[1, 2, 2, 1, 1, 2, 2, 1, 3, 1]\n",
      "(%\t-0.9\t0.9434\t[0, 0, 1, -1, -1, -1, -2, -2, -1, -2]\n",
      "('-:\t2.2\t1.16619\t[4, 1, 4, 3, 1, 2, 3, 1, 2, 1]\n",
      "(':\t2.3\t0.9\t[1, 3, 3, 2, 2, 4, 2, 3, 1, 2]\n",
      "((-:\t2.1\t0.53852\t[2, 2, 2, 1, 2, 3, 2, 2, 3, 2]\n",
      "\n"
     ]
    }
   ],
   "source": [
    "print(''.join(open(\"vader_lexicon.txt\").readlines()[:10]))"
   ]
  },
  {
   "cell_type": "markdown",
   "metadata": {
    "deletable": false,
    "editable": false,
    "nbgrader": {
     "cell_type": "markdown",
     "checksum": "631d386141906603b7febb8ce0901638",
     "grade": false,
     "grade_id": "q6a-header",
     "locked": true,
     "schema_version": 2,
     "solution": false
    }
   },
   "source": [
    "## Question 6a\n",
    "\n",
    "As you can see, the lexicon contains emojis too! The first column of the lexicon is the *token*, or the word itself. The second column is the *polarity* of the word, or how positive / negative it is.\n",
    "\n",
    "(How did they decide the polarities of these words? What are the other two columns in the lexicon? See the link above.)\n",
    "\n",
    " Read in the lexicon into a DataFrame called `sent`. The index of the DF should be the tokens in the lexicon. `sent` should have one column: `polarity`: The polarity of each token."
   ]
  },
  {
   "cell_type": "code",
   "execution_count": 36,
   "metadata": {
    "deletable": false,
    "nbgrader": {
     "cell_type": "code",
     "checksum": "962759aad285ccfb16f06dc8dd86035c",
     "grade": false,
     "grade_id": "q6a1",
     "locked": false,
     "schema_version": 2,
     "solution": true
    },
    "tags": [
     "student"
    ]
   },
   "outputs": [
    {
     "data": {
      "text/html": [
       "<div>\n",
       "<style scoped>\n",
       "    .dataframe tbody tr th:only-of-type {\n",
       "        vertical-align: middle;\n",
       "    }\n",
       "\n",
       "    .dataframe tbody tr th {\n",
       "        vertical-align: top;\n",
       "    }\n",
       "\n",
       "    .dataframe thead th {\n",
       "        text-align: right;\n",
       "    }\n",
       "</style>\n",
       "<table border=\"1\" class=\"dataframe\">\n",
       "  <thead>\n",
       "    <tr style=\"text-align: right;\">\n",
       "      <th></th>\n",
       "      <th>polarity</th>\n",
       "    </tr>\n",
       "    <tr>\n",
       "      <th>0</th>\n",
       "      <th></th>\n",
       "    </tr>\n",
       "  </thead>\n",
       "  <tbody>\n",
       "    <tr>\n",
       "      <th>$:</th>\n",
       "      <td>-1.5</td>\n",
       "    </tr>\n",
       "    <tr>\n",
       "      <th>%)</th>\n",
       "      <td>-0.4</td>\n",
       "    </tr>\n",
       "    <tr>\n",
       "      <th>%-)</th>\n",
       "      <td>-1.5</td>\n",
       "    </tr>\n",
       "    <tr>\n",
       "      <th>&amp;-:</th>\n",
       "      <td>-0.4</td>\n",
       "    </tr>\n",
       "    <tr>\n",
       "      <th>&amp;:</th>\n",
       "      <td>-0.7</td>\n",
       "    </tr>\n",
       "  </tbody>\n",
       "</table>\n",
       "</div>"
      ],
      "text/plain": [
       "     polarity\n",
       "0            \n",
       "$:       -1.5\n",
       "%)       -0.4\n",
       "%-)      -1.5\n",
       "&-:      -0.4\n",
       "&:       -0.7"
      ]
     },
     "execution_count": 36,
     "metadata": {},
     "output_type": "execute_result"
    }
   ],
   "source": [
    "sent = pd.DataFrame(pd.read_table('vader_lexicon.txt', header=None).set_index(0).iloc[:,0])\n",
    "\n",
    "sent['polarity'] = sent[1]\n",
    "sent.drop(1, axis='columns', inplace=True)\n",
    "sent.head()\n",
    "# YOUR CODE HERE\n",
    "#raise NotImplementedError()"
   ]
  },
  {
   "cell_type": "code",
   "execution_count": 37,
   "metadata": {
    "deletable": false,
    "editable": false,
    "nbgrader": {
     "cell_type": "code",
     "checksum": "417f93b4eb89b4206d6b77725b72e56a",
     "grade": true,
     "grade_id": "q6a-test1",
     "locked": true,
     "points": 1,
     "schema_version": 2,
     "solution": false
    },
    "tags": [
     "test",
     "q05a"
    ]
   },
   "outputs": [],
   "source": [
    "assert isinstance(sent, pd.DataFrame)\n",
    "assert sent.shape == (7517, 1)\n",
    "assert list(sent.index[5000:5005]) == ['paranoids', 'pardon', 'pardoned', 'pardoning', 'pardons']\n",
    "assert np.allclose(sent['polarity'].head(), [-1.5, -0.4, -1.5, -0.4, -0.7])"
   ]
  },
  {
   "cell_type": "markdown",
   "metadata": {
    "deletable": false,
    "editable": false,
    "nbgrader": {
     "cell_type": "markdown",
     "checksum": "53a09bb6ee188a572ee0c8501087ac9c",
     "grade": false,
     "grade_id": "q6b-header",
     "locked": true,
     "schema_version": 2,
     "solution": false
    }
   },
   "source": [
    "## Question 6b\n",
    "\n",
    "Now, let's use this lexicon to calculate the overall sentiment for each of Trump's tweets. Here's the basic idea:\n",
    "\n",
    "1. For each tweet, find the sentiment of each word.\n",
    "2. Calculate the sentiment of each tweet by taking the sum of the sentiments of its words.\n",
    "\n",
    "First, let's lowercase the text in the tweets since the lexicon is also lowercase. Set the `text` column of the `trump` DF to be the lowercased text of each tweet."
   ]
  },
  {
   "cell_type": "code",
   "execution_count": 38,
   "metadata": {
    "deletable": false,
    "nbgrader": {
     "cell_type": "code",
     "checksum": "a8bb2469a666ad8f1388abb6ad808881",
     "grade": false,
     "grade_id": "q6b-answer",
     "locked": false,
     "schema_version": 2,
     "solution": true
    },
    "tags": [
     "student"
    ]
   },
   "outputs": [
    {
     "data": {
      "text/html": [
       "<div>\n",
       "<style scoped>\n",
       "    .dataframe tbody tr th:only-of-type {\n",
       "        vertical-align: middle;\n",
       "    }\n",
       "\n",
       "    .dataframe tbody tr th {\n",
       "        vertical-align: top;\n",
       "    }\n",
       "\n",
       "    .dataframe thead th {\n",
       "        text-align: right;\n",
       "    }\n",
       "</style>\n",
       "<table border=\"1\" class=\"dataframe\">\n",
       "  <thead>\n",
       "    <tr style=\"text-align: right;\">\n",
       "      <th></th>\n",
       "      <th>time</th>\n",
       "      <th>source</th>\n",
       "      <th>text</th>\n",
       "      <th>retweet_count</th>\n",
       "      <th>est_time</th>\n",
       "      <th>hour</th>\n",
       "      <th>year</th>\n",
       "    </tr>\n",
       "    <tr>\n",
       "      <th>id</th>\n",
       "      <th></th>\n",
       "      <th></th>\n",
       "      <th></th>\n",
       "      <th></th>\n",
       "      <th></th>\n",
       "      <th></th>\n",
       "      <th></th>\n",
       "    </tr>\n",
       "  </thead>\n",
       "  <tbody>\n",
       "    <tr>\n",
       "      <th>786204978629185536</th>\n",
       "      <td>2016-10-12 14:00:48</td>\n",
       "      <td>Twitter for iPhone</td>\n",
       "      <td>pay to play politics. \\n#crookedhillary https://t.co/wjsl8itvvk</td>\n",
       "      <td>24915</td>\n",
       "      <td>2016-10-12 09:00:48-05:00</td>\n",
       "      <td>9.013333</td>\n",
       "      <td>2016.778689</td>\n",
       "    </tr>\n",
       "    <tr>\n",
       "      <th>786201435486781440</th>\n",
       "      <td>2016-10-12 13:46:43</td>\n",
       "      <td>Twitter for iPhone</td>\n",
       "      <td>very little pick-up by the dishonest media of incredible information provided by wikileaks. so dishonest! rigged system!</td>\n",
       "      <td>22609</td>\n",
       "      <td>2016-10-12 08:46:43-05:00</td>\n",
       "      <td>8.778611</td>\n",
       "      <td>2016.778689</td>\n",
       "    </tr>\n",
       "    <tr>\n",
       "      <th>786189446274248704</th>\n",
       "      <td>2016-10-12 12:59:05</td>\n",
       "      <td>Twitter for Android</td>\n",
       "      <td>crooked hillary clinton likes to talk about the things she will do but she has been there for 30 years - why didn't she do them?</td>\n",
       "      <td>18329</td>\n",
       "      <td>2016-10-12 07:59:05-05:00</td>\n",
       "      <td>7.984722</td>\n",
       "      <td>2016.778689</td>\n",
       "    </tr>\n",
       "    <tr>\n",
       "      <th>786054986534969344</th>\n",
       "      <td>2016-10-12 04:04:47</td>\n",
       "      <td>Twitter for iPhone</td>\n",
       "      <td>thank you florida- a movement that has never been seen before and will never be seen again. lets get out &amp;amp;… https://t.co/t9xm9wfdzi</td>\n",
       "      <td>18789</td>\n",
       "      <td>2016-10-11 23:04:47-05:00</td>\n",
       "      <td>23.079722</td>\n",
       "      <td>2016.778689</td>\n",
       "    </tr>\n",
       "    <tr>\n",
       "      <th>786007502639038464</th>\n",
       "      <td>2016-10-12 00:56:06</td>\n",
       "      <td>Twitter for iPhone</td>\n",
       "      <td>join me thursday in florida &amp;amp; ohio!\\nwest palm beach, fl at noon:\\nhttps://t.co/jwbznqhxg9\\ncincinnati, oh this 7:30pm:\\nhttps://t.co/5w2uhalpix</td>\n",
       "      <td>7761</td>\n",
       "      <td>2016-10-11 19:56:06-05:00</td>\n",
       "      <td>19.935000</td>\n",
       "      <td>2016.778689</td>\n",
       "    </tr>\n",
       "  </tbody>\n",
       "</table>\n",
       "</div>"
      ],
      "text/plain": [
       "                                  time               source  \\\n",
       "id                                                            \n",
       "786204978629185536 2016-10-12 14:00:48   Twitter for iPhone   \n",
       "786201435486781440 2016-10-12 13:46:43   Twitter for iPhone   \n",
       "786189446274248704 2016-10-12 12:59:05  Twitter for Android   \n",
       "786054986534969344 2016-10-12 04:04:47   Twitter for iPhone   \n",
       "786007502639038464 2016-10-12 00:56:06   Twitter for iPhone   \n",
       "\n",
       "                                                                                                                                                                    text  \\\n",
       "id                                                                                                                                                                         \n",
       "786204978629185536                                                                                       pay to play politics. \\n#crookedhillary https://t.co/wjsl8itvvk   \n",
       "786201435486781440                              very little pick-up by the dishonest media of incredible information provided by wikileaks. so dishonest! rigged system!   \n",
       "786189446274248704                      crooked hillary clinton likes to talk about the things she will do but she has been there for 30 years - why didn't she do them?   \n",
       "786054986534969344               thank you florida- a movement that has never been seen before and will never be seen again. lets get out &amp;… https://t.co/t9xm9wfdzi   \n",
       "786007502639038464  join me thursday in florida &amp; ohio!\\nwest palm beach, fl at noon:\\nhttps://t.co/jwbznqhxg9\\ncincinnati, oh this 7:30pm:\\nhttps://t.co/5w2uhalpix   \n",
       "\n",
       "                    retweet_count                  est_time       hour  \\\n",
       "id                                                                       \n",
       "786204978629185536          24915 2016-10-12 09:00:48-05:00   9.013333   \n",
       "786201435486781440          22609 2016-10-12 08:46:43-05:00   8.778611   \n",
       "786189446274248704          18329 2016-10-12 07:59:05-05:00   7.984722   \n",
       "786054986534969344          18789 2016-10-11 23:04:47-05:00  23.079722   \n",
       "786007502639038464           7761 2016-10-11 19:56:06-05:00  19.935000   \n",
       "\n",
       "                           year  \n",
       "id                               \n",
       "786204978629185536  2016.778689  \n",
       "786201435486781440  2016.778689  \n",
       "786189446274248704  2016.778689  \n",
       "786054986534969344  2016.778689  \n",
       "786007502639038464  2016.778689  "
      ]
     },
     "execution_count": 38,
     "metadata": {},
     "output_type": "execute_result"
    }
   ],
   "source": [
    "# YOUR CODE HERE\n",
    "#raise NotImplementedError()\n",
    "trump['text'] = [str.lower(i) for i in trump['text']]\n",
    "trump.head()"
   ]
  },
  {
   "cell_type": "code",
   "execution_count": 39,
   "metadata": {
    "deletable": false,
    "editable": false,
    "nbgrader": {
     "cell_type": "code",
     "checksum": "13de085e42b82bf985f60f6489ed6946",
     "grade": true,
     "grade_id": "q6b-test",
     "locked": true,
     "points": 1,
     "schema_version": 2,
     "solution": false
    },
    "tags": [
     "test",
     "q05b"
    ]
   },
   "outputs": [],
   "source": [
    "assert trump['text'].loc[884740553040175104] == 'working hard to get the olympics for the united states (l.a.). stay tuned!'"
   ]
  },
  {
   "cell_type": "markdown",
   "metadata": {
    "deletable": false,
    "editable": false,
    "nbgrader": {
     "cell_type": "markdown",
     "checksum": "b985c716dee1121b3764f29e1648fe14",
     "grade": false,
     "grade_id": "q6c-header",
     "locked": true,
     "schema_version": 2,
     "solution": false
    }
   },
   "source": [
    "## Question 6c\n",
    "\n",
    "Now, let's get rid of punctuation since it'll cause us to fail to match words. Create a new column called `no_punc` in the `trump` DF to be the lowercased text of each tweet with all punctuation replaced by a single space. We consider punctuation characters to be any character that isn't a Unicode word character or a whitespace character. You may want to consult the Python documentation on regexes for this problem.\n",
    "\n",
    "(Why don't we simply remove punctuation instead of replacing with a space? See if you can figure this out by looking at the tweet data.)"
   ]
  },
  {
   "cell_type": "code",
   "execution_count": 40,
   "metadata": {
    "deletable": false,
    "nbgrader": {
     "cell_type": "code",
     "checksum": "2901325706be092abb437c239e7d3d83",
     "grade": false,
     "grade_id": "q6c",
     "locked": false,
     "schema_version": 2,
     "solution": true
    },
    "tags": [
     "student"
    ]
   },
   "outputs": [
    {
     "data": {
      "text/html": [
       "<div>\n",
       "<style scoped>\n",
       "    .dataframe tbody tr th:only-of-type {\n",
       "        vertical-align: middle;\n",
       "    }\n",
       "\n",
       "    .dataframe tbody tr th {\n",
       "        vertical-align: top;\n",
       "    }\n",
       "\n",
       "    .dataframe thead th {\n",
       "        text-align: right;\n",
       "    }\n",
       "</style>\n",
       "<table border=\"1\" class=\"dataframe\">\n",
       "  <thead>\n",
       "    <tr style=\"text-align: right;\">\n",
       "      <th></th>\n",
       "      <th>time</th>\n",
       "      <th>source</th>\n",
       "      <th>text</th>\n",
       "      <th>retweet_count</th>\n",
       "      <th>est_time</th>\n",
       "      <th>hour</th>\n",
       "      <th>year</th>\n",
       "      <th>no_punc</th>\n",
       "    </tr>\n",
       "    <tr>\n",
       "      <th>id</th>\n",
       "      <th></th>\n",
       "      <th></th>\n",
       "      <th></th>\n",
       "      <th></th>\n",
       "      <th></th>\n",
       "      <th></th>\n",
       "      <th></th>\n",
       "      <th></th>\n",
       "    </tr>\n",
       "  </thead>\n",
       "  <tbody>\n",
       "    <tr>\n",
       "      <th>786204978629185536</th>\n",
       "      <td>2016-10-12 14:00:48</td>\n",
       "      <td>Twitter for iPhone</td>\n",
       "      <td>pay to play politics. \\n#crookedhillary https://t.co/wjsl8itvvk</td>\n",
       "      <td>24915</td>\n",
       "      <td>2016-10-12 09:00:48-05:00</td>\n",
       "      <td>9.013333</td>\n",
       "      <td>2016.778689</td>\n",
       "      <td>pay to play politics  \\n crookedhillary https   t co wjsl8itvvk</td>\n",
       "    </tr>\n",
       "    <tr>\n",
       "      <th>786201435486781440</th>\n",
       "      <td>2016-10-12 13:46:43</td>\n",
       "      <td>Twitter for iPhone</td>\n",
       "      <td>very little pick-up by the dishonest media of incredible information provided by wikileaks. so dishonest! rigged system!</td>\n",
       "      <td>22609</td>\n",
       "      <td>2016-10-12 08:46:43-05:00</td>\n",
       "      <td>8.778611</td>\n",
       "      <td>2016.778689</td>\n",
       "      <td>very little pick up by the dishonest media of incredible information provided by wikileaks  so dishonest  rigged system</td>\n",
       "    </tr>\n",
       "    <tr>\n",
       "      <th>786189446274248704</th>\n",
       "      <td>2016-10-12 12:59:05</td>\n",
       "      <td>Twitter for Android</td>\n",
       "      <td>crooked hillary clinton likes to talk about the things she will do but she has been there for 30 years - why didn't she do them?</td>\n",
       "      <td>18329</td>\n",
       "      <td>2016-10-12 07:59:05-05:00</td>\n",
       "      <td>7.984722</td>\n",
       "      <td>2016.778689</td>\n",
       "      <td>crooked hillary clinton likes to talk about the things she will do but she has been there for 30 years   why didn t she do them</td>\n",
       "    </tr>\n",
       "    <tr>\n",
       "      <th>786054986534969344</th>\n",
       "      <td>2016-10-12 04:04:47</td>\n",
       "      <td>Twitter for iPhone</td>\n",
       "      <td>thank you florida- a movement that has never been seen before and will never be seen again. lets get out &amp;amp;… https://t.co/t9xm9wfdzi</td>\n",
       "      <td>18789</td>\n",
       "      <td>2016-10-11 23:04:47-05:00</td>\n",
       "      <td>23.079722</td>\n",
       "      <td>2016.778689</td>\n",
       "      <td>thank you florida  a movement that has never been seen before and will never be seen again  lets get out  amp   https   t co t9xm9wfdzi</td>\n",
       "    </tr>\n",
       "    <tr>\n",
       "      <th>786007502639038464</th>\n",
       "      <td>2016-10-12 00:56:06</td>\n",
       "      <td>Twitter for iPhone</td>\n",
       "      <td>join me thursday in florida &amp;amp; ohio!\\nwest palm beach, fl at noon:\\nhttps://t.co/jwbznqhxg9\\ncincinnati, oh this 7:30pm:\\nhttps://t.co/5w2uhalpix</td>\n",
       "      <td>7761</td>\n",
       "      <td>2016-10-11 19:56:06-05:00</td>\n",
       "      <td>19.935000</td>\n",
       "      <td>2016.778689</td>\n",
       "      <td>join me thursday in florida  amp  ohio \\nwest palm beach  fl at noon \\nhttps   t co jwbznqhxg9\\ncincinnati  oh this 7 30pm \\nhttps   t co 5w2uhalpix</td>\n",
       "    </tr>\n",
       "  </tbody>\n",
       "</table>\n",
       "</div>"
      ],
      "text/plain": [
       "                                  time               source  \\\n",
       "id                                                            \n",
       "786204978629185536 2016-10-12 14:00:48   Twitter for iPhone   \n",
       "786201435486781440 2016-10-12 13:46:43   Twitter for iPhone   \n",
       "786189446274248704 2016-10-12 12:59:05  Twitter for Android   \n",
       "786054986534969344 2016-10-12 04:04:47   Twitter for iPhone   \n",
       "786007502639038464 2016-10-12 00:56:06   Twitter for iPhone   \n",
       "\n",
       "                                                                                                                                                                    text  \\\n",
       "id                                                                                                                                                                         \n",
       "786204978629185536                                                                                       pay to play politics. \\n#crookedhillary https://t.co/wjsl8itvvk   \n",
       "786201435486781440                              very little pick-up by the dishonest media of incredible information provided by wikileaks. so dishonest! rigged system!   \n",
       "786189446274248704                      crooked hillary clinton likes to talk about the things she will do but she has been there for 30 years - why didn't she do them?   \n",
       "786054986534969344               thank you florida- a movement that has never been seen before and will never be seen again. lets get out &amp;… https://t.co/t9xm9wfdzi   \n",
       "786007502639038464  join me thursday in florida &amp; ohio!\\nwest palm beach, fl at noon:\\nhttps://t.co/jwbznqhxg9\\ncincinnati, oh this 7:30pm:\\nhttps://t.co/5w2uhalpix   \n",
       "\n",
       "                    retweet_count                  est_time       hour  \\\n",
       "id                                                                       \n",
       "786204978629185536          24915 2016-10-12 09:00:48-05:00   9.013333   \n",
       "786201435486781440          22609 2016-10-12 08:46:43-05:00   8.778611   \n",
       "786189446274248704          18329 2016-10-12 07:59:05-05:00   7.984722   \n",
       "786054986534969344          18789 2016-10-11 23:04:47-05:00  23.079722   \n",
       "786007502639038464           7761 2016-10-11 19:56:06-05:00  19.935000   \n",
       "\n",
       "                           year  \\\n",
       "id                                \n",
       "786204978629185536  2016.778689   \n",
       "786201435486781440  2016.778689   \n",
       "786189446274248704  2016.778689   \n",
       "786054986534969344  2016.778689   \n",
       "786007502639038464  2016.778689   \n",
       "\n",
       "                                                                                                                                                                 no_punc  \n",
       "id                                                                                                                                                                        \n",
       "786204978629185536                                                                                       pay to play politics  \\n crookedhillary https   t co wjsl8itvvk  \n",
       "786201435486781440                              very little pick up by the dishonest media of incredible information provided by wikileaks  so dishonest  rigged system   \n",
       "786189446274248704                      crooked hillary clinton likes to talk about the things she will do but she has been there for 30 years   why didn t she do them   \n",
       "786054986534969344               thank you florida  a movement that has never been seen before and will never be seen again  lets get out  amp   https   t co t9xm9wfdzi  \n",
       "786007502639038464  join me thursday in florida  amp  ohio \\nwest palm beach  fl at noon \\nhttps   t co jwbznqhxg9\\ncincinnati  oh this 7 30pm \\nhttps   t co 5w2uhalpix  "
      ]
     },
     "execution_count": 40,
     "metadata": {},
     "output_type": "execute_result"
    }
   ],
   "source": [
    "# Save your regex in punct_re\n",
    "punct_re = r'([^\\w (\\n)])'\n",
    "trump['no_punc'] = trump['text'].str.replace(punct_re, ' ')\n",
    "\n",
    "trump.head()\n",
    "# YOUR CODE HERE\n",
    "#raise NotImplementedError()"
   ]
  },
  {
   "cell_type": "code",
   "execution_count": 41,
   "metadata": {
    "deletable": false,
    "editable": false,
    "nbgrader": {
     "cell_type": "code",
     "checksum": "acba51f5c1ed85ceafe923184be4be33",
     "grade": true,
     "grade_id": "q6c-test",
     "locked": true,
     "points": 1,
     "schema_version": 2,
     "solution": false
    },
    "tags": [
     "test",
     "q05c"
    ]
   },
   "outputs": [],
   "source": [
    "assert isinstance(punct_re, str)\n",
    "assert re.search(punct_re, 'this') is None\n",
    "assert re.search(punct_re, 'this is ok') is None\n",
    "assert re.search(punct_re, 'this is\\nok') is None\n",
    "assert re.search(punct_re, 'this is not ok.') is not None\n",
    "assert re.search(punct_re, 'this#is#ok') is not None\n",
    "assert re.search(punct_re, 'this^is ok') is not None\n",
    "assert trump['no_punc'].loc[800329364986626048] == 'i watched parts of  nbcsnl saturday night live last night  it is a totally one sided  biased show   nothing funny at all  equal time for us '\n",
    "assert trump['no_punc'].loc[894620077634592769] == 'on  purpleheartday i thank all the brave men and women who have sacrificed in battle for this great nation   usa   https   t co qmfdlslp6p'\n",
    "# If you fail these tests, you accidentally changed the text column\n",
    "assert trump['text'].loc[884740553040175104] == 'working hard to get the olympics for the united states (l.a.). stay tuned!'"
   ]
  },
  {
   "cell_type": "markdown",
   "metadata": {
    "deletable": false,
    "editable": false,
    "nbgrader": {
     "cell_type": "markdown",
     "checksum": "70d1187aee0930362e42d7b497ee5710",
     "grade": false,
     "grade_id": "q6d-header",
     "locked": true,
     "schema_version": 2,
     "solution": false
    }
   },
   "source": [
    "## Question 6d:\n",
    "\n",
    "\n",
    "Now, let's convert the tweets into what's called a [*tidy format*](https://cran.r-project.org/web/packages/tidyr/vignettes/tidy-data.html) to make the sentiments easier to calculate. Use the `no_punc` column of `trump` to create a table called `tidy_format`. The index of the table should be the IDs of the tweets, repeated once for every word in the tweet. It has two columns:\n",
    "\n",
    "1. `num`: The location of the word in the tweet. For example, if the tweet was \"i love america\", then the location of the word \"i\" is 0, \"love\" is 1, and \"america\" is 2.\n",
    "2. `word`: The individual words of each tweet.\n",
    "\n",
    "The first few rows of our `tidy_format` table look like:\n",
    "\n",
    "<table border=\"1\" class=\"dataframe\">\n",
    "  <thead>\n",
    "    <tr style=\"text-align: right;\">\n",
    "      <th></th>\n",
    "      <th>num</th>\n",
    "      <th>word</th>\n",
    "    </tr>\n",
    "  </thead>\n",
    "  <tbody>\n",
    "    <tr>\n",
    "      <th>894661651760377856</th>\n",
    "      <td>0</td>\n",
    "      <td>i</td>\n",
    "    </tr>\n",
    "    <tr>\n",
    "      <th>894661651760377856</th>\n",
    "      <td>1</td>\n",
    "      <td>think</td>\n",
    "    </tr>\n",
    "    <tr>\n",
    "      <th>894661651760377856</th>\n",
    "      <td>2</td>\n",
    "      <td>senator</td>\n",
    "    </tr>\n",
    "    <tr>\n",
    "      <th>894661651760377856</th>\n",
    "      <td>3</td>\n",
    "      <td>blumenthal</td>\n",
    "    </tr>\n",
    "    <tr>\n",
    "      <th>894661651760377856</th>\n",
    "      <td>4</td>\n",
    "      <td>should</td>\n",
    "    </tr>\n",
    "  </tbody>\n",
    "</table>\n",
    "\n",
    "**Note that you'll get different results depending on when you pulled in the tweets.** However, you can double check that your tweet with ID `894661651760377856` has the same rows as ours. Our tests don't check whether your table looks exactly like ours.\n",
    "\n",
    "This will require some rather advanced Pandas hacking, but our solution uses a chain of 5 methods on the `trump` DF.\n",
    "\n",
    "* **Hint 1:** Try looking at the `expand` argument to pandas' `str.split`.\n",
    "\n",
    "* **Hint 2:** Try looking at the `stack()` method.\n"
   ]
  },
  {
   "cell_type": "code",
   "execution_count": 2,
   "metadata": {
    "deletable": false,
    "nbgrader": {
     "cell_type": "code",
     "checksum": "71f93a81cbd4dd1b2ff47a6d65ef758e",
     "grade": false,
     "grade_id": "q6d-answer",
     "locked": false,
     "schema_version": 2,
     "solution": true
    },
    "tags": [
     "student"
    ]
   },
   "outputs": [
    {
     "ename": "NameError",
     "evalue": "name 'pd' is not defined",
     "output_type": "error",
     "traceback": [
      "\u001b[0;31m---------------------------------------------------------------------------\u001b[0m",
      "\u001b[0;31mNameError\u001b[0m                                 Traceback (most recent call last)",
      "\u001b[0;32m<ipython-input-2-4a85618e4bad>\u001b[0m in \u001b[0;36m<module>\u001b[0;34m()\u001b[0m\n\u001b[0;32m----> 1\u001b[0;31m tidy_format = pd.DataFrame(trump['no_punc']\n\u001b[0m\u001b[1;32m      2\u001b[0m                \u001b[0;34m.\u001b[0m\u001b[0mstr\u001b[0m\u001b[0;34m.\u001b[0m\u001b[0msplit\u001b[0m\u001b[0;34m(\u001b[0m\u001b[0mexpand\u001b[0m\u001b[0;34m=\u001b[0m\u001b[0;32mTrue\u001b[0m\u001b[0;34m)\u001b[0m\u001b[0;34m\u001b[0m\u001b[0m\n\u001b[1;32m      3\u001b[0m                .stack())\n\u001b[1;32m      4\u001b[0m \u001b[0mtidy_format\u001b[0m\u001b[0;34m.\u001b[0m\u001b[0mreset_index\u001b[0m\u001b[0;34m(\u001b[0m\u001b[0minplace\u001b[0m\u001b[0;34m=\u001b[0m\u001b[0;32mTrue\u001b[0m\u001b[0;34m)\u001b[0m\u001b[0;34m\u001b[0m\u001b[0m\n\u001b[1;32m      5\u001b[0m \u001b[0mtidy_format\u001b[0m\u001b[0;34m.\u001b[0m\u001b[0mset_index\u001b[0m\u001b[0;34m(\u001b[0m\u001b[0;34m'id'\u001b[0m\u001b[0;34m,\u001b[0m \u001b[0mdrop\u001b[0m\u001b[0;34m=\u001b[0m\u001b[0;32mTrue\u001b[0m\u001b[0;34m,\u001b[0m \u001b[0minplace\u001b[0m\u001b[0;34m=\u001b[0m\u001b[0;32mTrue\u001b[0m\u001b[0;34m)\u001b[0m\u001b[0;34m\u001b[0m\u001b[0m\n",
      "\u001b[0;31mNameError\u001b[0m: name 'pd' is not defined"
     ]
    }
   ],
   "source": [
    "tidy_format = pd.DataFrame(trump['no_punc']\n",
    "               .str.split(expand=True)\n",
    "               .stack())\n",
    "tidy_format.reset_index(inplace=True)\n",
    "tidy_format.set_index('id', drop=True, inplace=True)\n",
    "tidy_format.rename({'level_1':'num', 0:'word'}, axis='columns', inplace=True)\n",
    "tidy_format.index.name=None\n",
    "\n",
    "tidy_format.head()\n",
    "# YOUR CODE HERE\n",
    "#raise NotImplementedError()"
   ]
  },
  {
   "cell_type": "code",
   "execution_count": 43,
   "metadata": {
    "deletable": false,
    "editable": false,
    "nbgrader": {
     "cell_type": "code",
     "checksum": "78b35d7cc8348ceb6ffbd17591dfd4f1",
     "grade": true,
     "grade_id": "q6d-tests",
     "locked": true,
     "points": 1,
     "schema_version": 2,
     "solution": false
    },
    "tags": [
     "test",
     "q05d"
    ]
   },
   "outputs": [],
   "source": [
    "assert tidy_format.loc[894661651760377856].shape == (27, 2)\n",
    "assert ' '.join(list(tidy_format.loc[894661651760377856]['word'])) == 'i think senator blumenthal should take a nice long vacation in vietnam where he lied about his service so he can at least say he was there'"
   ]
  },
  {
   "cell_type": "markdown",
   "metadata": {
    "deletable": false,
    "editable": false,
    "nbgrader": {
     "cell_type": "markdown",
     "checksum": "b170181366bfdd62b6d5df9e487479b3",
     "grade": false,
     "grade_id": "q6e-header",
     "locked": true,
     "schema_version": 2,
     "solution": false
    }
   },
   "source": [
    "## Question 6e:\n",
    "\n",
    "Now that we have this table in the tidy format, it becomes much easier to find the sentiment of each tweet: we can join the table with the lexicon table. \n",
    "\n",
    "Add a `polarity` column to the `trump` table.  The `polarity` column should contain the sum of the sentiment polarity of each word in the text of the tweet.\n",
    "\n",
    "**Hint** you will need to merge the `tidy_format` and `sent` tables and group the final answer.\n"
   ]
  },
  {
   "cell_type": "code",
   "execution_count": 44,
   "metadata": {
    "deletable": false,
    "nbgrader": {
     "cell_type": "code",
     "checksum": "5ad778cbb8a86c9255acac2d8799fa96",
     "grade": false,
     "grade_id": "q6e",
     "locked": false,
     "schema_version": 2,
     "solution": true
    },
    "tags": [
     "student"
    ]
   },
   "outputs": [
    {
     "data": {
      "text/html": [
       "<div>\n",
       "<style scoped>\n",
       "    .dataframe tbody tr th:only-of-type {\n",
       "        vertical-align: middle;\n",
       "    }\n",
       "\n",
       "    .dataframe tbody tr th {\n",
       "        vertical-align: top;\n",
       "    }\n",
       "\n",
       "    .dataframe thead th {\n",
       "        text-align: right;\n",
       "    }\n",
       "</style>\n",
       "<table border=\"1\" class=\"dataframe\">\n",
       "  <thead>\n",
       "    <tr style=\"text-align: right;\">\n",
       "      <th></th>\n",
       "      <th>time</th>\n",
       "      <th>source</th>\n",
       "      <th>text</th>\n",
       "      <th>retweet_count</th>\n",
       "      <th>est_time</th>\n",
       "      <th>hour</th>\n",
       "      <th>year</th>\n",
       "      <th>no_punc</th>\n",
       "      <th>polarity</th>\n",
       "    </tr>\n",
       "  </thead>\n",
       "  <tbody>\n",
       "    <tr>\n",
       "      <th>690171032150237184</th>\n",
       "      <td>2016-01-21 13:56:11</td>\n",
       "      <td>Twitter for Android</td>\n",
       "      <td>\"@bigop1: @realdonaldtrump  @sarahpalinusa https://t.co/3kyqgqevyd\"</td>\n",
       "      <td>1059</td>\n",
       "      <td>2016-01-21 08:56:11-05:00</td>\n",
       "      <td>8.936389</td>\n",
       "      <td>2016.054645</td>\n",
       "      <td>bigop1   realdonaldtrump   sarahpalinusa https   t co 3kyqgqevyd</td>\n",
       "      <td>0.0</td>\n",
       "    </tr>\n",
       "    <tr>\n",
       "      <th>690171403388104704</th>\n",
       "      <td>2016-01-21 13:57:39</td>\n",
       "      <td>Twitter for Android</td>\n",
       "      <td>\"@americanaspie:  @glennbeck @sarahpalinusa remember when glenn gave out gifts to illegal aliens at crossing the border? me too!\"</td>\n",
       "      <td>1339</td>\n",
       "      <td>2016-01-21 08:57:39-05:00</td>\n",
       "      <td>8.960833</td>\n",
       "      <td>2016.054645</td>\n",
       "      <td>americanaspie    glennbeck  sarahpalinusa remember when glenn gave out gifts to illegal aliens at crossing the border  me too</td>\n",
       "      <td>-2.6</td>\n",
       "    </tr>\n",
       "    <tr>\n",
       "      <th>690173226341691392</th>\n",
       "      <td>2016-01-21 14:04:54</td>\n",
       "      <td>Twitter for Android</td>\n",
       "      <td>so sad that @cnn and many others refused to show the massive crowd at the arena yesterday in oklahoma. dishonest reporting!</td>\n",
       "      <td>2006</td>\n",
       "      <td>2016-01-21 09:04:54-05:00</td>\n",
       "      <td>9.081667</td>\n",
       "      <td>2016.054645</td>\n",
       "      <td>so sad that  cnn and many others refused to show the massive crowd at the arena yesterday in oklahoma  dishonest reporting</td>\n",
       "      <td>-6.0</td>\n",
       "    </tr>\n",
       "    <tr>\n",
       "      <th>690176882055114758</th>\n",
       "      <td>2016-01-21 14:19:26</td>\n",
       "      <td>Twitter for Android</td>\n",
       "      <td>sad sack @jebbush has just done another ad on me, with special interest money, saying i won't beat hillary - i will. but he can't beat me.</td>\n",
       "      <td>2266</td>\n",
       "      <td>2016-01-21 09:19:26-05:00</td>\n",
       "      <td>9.323889</td>\n",
       "      <td>2016.054645</td>\n",
       "      <td>sad sack  jebbush has just done another ad on me  with special interest money  saying i won t beat hillary   i will  but he can t beat me</td>\n",
       "      <td>4.3</td>\n",
       "    </tr>\n",
       "    <tr>\n",
       "      <th>690180284189310976</th>\n",
       "      <td>2016-01-21 14:32:57</td>\n",
       "      <td>Twitter for Android</td>\n",
       "      <td>low energy candidate @jebbush has wasted $80 million on his failed presidential campaign. millions spent on me. he should go home and relax!</td>\n",
       "      <td>2886</td>\n",
       "      <td>2016-01-21 09:32:57-05:00</td>\n",
       "      <td>9.549167</td>\n",
       "      <td>2016.054645</td>\n",
       "      <td>low energy candidate  jebbush has wasted  80 million on his failed presidential campaign  millions spent on me  he should go home and relax</td>\n",
       "      <td>-2.6</td>\n",
       "    </tr>\n",
       "    <tr>\n",
       "      <th>690271688127213568</th>\n",
       "      <td>2016-01-21 20:36:09</td>\n",
       "      <td>Twitter for iPhone</td>\n",
       "      <td>new day on cnn treats me very badly. @alisyncamerota is a disaster. not going to watch anymore.</td>\n",
       "      <td>1429</td>\n",
       "      <td>2016-01-21 15:36:09-05:00</td>\n",
       "      <td>15.602500</td>\n",
       "      <td>2016.054645</td>\n",
       "      <td>new day on cnn treats me very badly   alisyncamerota is a disaster  not going to watch anymore</td>\n",
       "      <td>-5.2</td>\n",
       "    </tr>\n",
       "    <tr>\n",
       "      <th>690272687168458754</th>\n",
       "      <td>2016-01-21 20:40:07</td>\n",
       "      <td>Twitter for Android</td>\n",
       "      <td>happy birthday to my friend, the great @jacknicklaus - a totally special guy!</td>\n",
       "      <td>1053</td>\n",
       "      <td>2016-01-21 15:40:07-05:00</td>\n",
       "      <td>15.668611</td>\n",
       "      <td>2016.054645</td>\n",
       "      <td>happy birthday to my friend  the great  jacknicklaus   a totally special guy</td>\n",
       "      <td>9.7</td>\n",
       "    </tr>\n",
       "    <tr>\n",
       "      <th>690313350278819840</th>\n",
       "      <td>2016-01-21 23:21:42</td>\n",
       "      <td>Twitter for iPhone</td>\n",
       "      <td>thank you, iowa! #trump2016 https://t.co/ryhehetlqn</td>\n",
       "      <td>2329</td>\n",
       "      <td>2016-01-21 18:21:42-05:00</td>\n",
       "      <td>18.361667</td>\n",
       "      <td>2016.054645</td>\n",
       "      <td>thank you  iowa   trump2016 https   t co ryhehetlqn</td>\n",
       "      <td>1.5</td>\n",
       "    </tr>\n",
       "    <tr>\n",
       "      <th>690315202261155840</th>\n",
       "      <td>2016-01-21 23:29:04</td>\n",
       "      <td>Twitter for iPhone</td>\n",
       "      <td>thank you! #trump2016 https://t.co/pcdmyio1zt</td>\n",
       "      <td>1463</td>\n",
       "      <td>2016-01-21 18:29:04-05:00</td>\n",
       "      <td>18.484444</td>\n",
       "      <td>2016.054645</td>\n",
       "      <td>thank you   trump2016 https   t co pcdmyio1zt</td>\n",
       "      <td>1.5</td>\n",
       "    </tr>\n",
       "    <tr>\n",
       "      <th>690315366564626433</th>\n",
       "      <td>2016-01-21 23:29:43</td>\n",
       "      <td>Twitter for iPhone</td>\n",
       "      <td>thank you, new hampshire!\\n#trump2016 https://t.co/tg9ozkly4l</td>\n",
       "      <td>1761</td>\n",
       "      <td>2016-01-21 18:29:43-05:00</td>\n",
       "      <td>18.495278</td>\n",
       "      <td>2016.054645</td>\n",
       "      <td>thank you  new hampshire \\n trump2016 https   t co tg9ozkly4l</td>\n",
       "      <td>1.5</td>\n",
       "    </tr>\n",
       "    <tr>\n",
       "      <th>690315667636023296</th>\n",
       "      <td>2016-01-21 23:30:55</td>\n",
       "      <td>Twitter for iPhone</td>\n",
       "      <td>#trump2016 #makeamericagreatagain https://t.co/vfuwgigjn4</td>\n",
       "      <td>2217</td>\n",
       "      <td>2016-01-21 18:30:55-05:00</td>\n",
       "      <td>18.515278</td>\n",
       "      <td>2016.054645</td>\n",
       "      <td>trump2016  makeamericagreatagain https   t co vfuwgigjn4</td>\n",
       "      <td>0.0</td>\n",
       "    </tr>\n",
       "    <tr>\n",
       "      <th>690336644281581568</th>\n",
       "      <td>2016-01-22 00:54:16</td>\n",
       "      <td>Twitter for iPhone</td>\n",
       "      <td>why does @greta have a fired bushy like dummy, john sununu on- spewing false info? i will beat hillary by a lot, she wants no part of trump.</td>\n",
       "      <td>1576</td>\n",
       "      <td>2016-01-21 19:54:16-05:00</td>\n",
       "      <td>19.904444</td>\n",
       "      <td>2016.057377</td>\n",
       "      <td>why does  greta have a fired bushy like dummy  john sununu on  spewing false info  i will beat hillary by a lot  she wants no part of trump</td>\n",
       "      <td>-2.3</td>\n",
       "    </tr>\n",
       "    <tr>\n",
       "      <th>690337376061788161</th>\n",
       "      <td>2016-01-22 00:57:10</td>\n",
       "      <td>Twitter for iPhone</td>\n",
       "      <td>thank you, iowa! #fitn #iacaucus\\n#makeamericagreatagain #trump2016 https://t.co/wvjldvtsag</td>\n",
       "      <td>2422</td>\n",
       "      <td>2016-01-21 19:57:10-05:00</td>\n",
       "      <td>19.952778</td>\n",
       "      <td>2016.057377</td>\n",
       "      <td>thank you  iowa   fitn  iacaucus\\n makeamericagreatagain  trump2016 https   t co wvjldvtsag</td>\n",
       "      <td>1.5</td>\n",
       "    </tr>\n",
       "    <tr>\n",
       "      <th>690382564494839809</th>\n",
       "      <td>2016-01-22 03:56:44</td>\n",
       "      <td>Twitter for iPhone</td>\n",
       "      <td>national review is a failing publication that has lost it's way. it's circulation is way down w its influence being at an all time low. sad!</td>\n",
       "      <td>2187</td>\n",
       "      <td>2016-01-21 22:56:44-05:00</td>\n",
       "      <td>22.945556</td>\n",
       "      <td>2016.057377</td>\n",
       "      <td>national review is a failing publication that has lost it s way  it s circulation is way down w its influence being at an all time low  sad</td>\n",
       "      <td>-6.8</td>\n",
       "    </tr>\n",
       "    <tr>\n",
       "      <th>690382619213742082</th>\n",
       "      <td>2016-01-22 03:56:57</td>\n",
       "      <td>Twitter for iPhone</td>\n",
       "      <td>very few people read the national review because it only knows how to criticize, but not how to lead.</td>\n",
       "      <td>1817</td>\n",
       "      <td>2016-01-21 22:56:57-05:00</td>\n",
       "      <td>22.949167</td>\n",
       "      <td>2016.057377</td>\n",
       "      <td>very few people read the national review because it only knows how to criticize  but not how to lead</td>\n",
       "      <td>-1.6</td>\n",
       "    </tr>\n",
       "    <tr>\n",
       "      <th>690382722162913280</th>\n",
       "      <td>2016-01-22 03:57:22</td>\n",
       "      <td>Twitter for iPhone</td>\n",
       "      <td>the late, great, william f. buckley would be ashamed of what had happened to his prize, the dying national review!</td>\n",
       "      <td>2236</td>\n",
       "      <td>2016-01-21 22:57:22-05:00</td>\n",
       "      <td>22.956111</td>\n",
       "      <td>2016.057377</td>\n",
       "      <td>the late  great  william f  buckley would be ashamed of what had happened to his prize  the dying national review</td>\n",
       "      <td>3.3</td>\n",
       "    </tr>\n",
       "    <tr>\n",
       "      <th>690404308010057728</th>\n",
       "      <td>2016-01-22 05:23:08</td>\n",
       "      <td>Twitter for iPhone</td>\n",
       "      <td>rt @williebosshog: make america great again! #trump2016 https://t.co/1h5j4dzdgy</td>\n",
       "      <td>9144</td>\n",
       "      <td>2016-01-22 00:23:08-05:00</td>\n",
       "      <td>0.385556</td>\n",
       "      <td>2016.057377</td>\n",
       "      <td>rt  williebosshog  make america great again   trump2016 https   t co 1h5j4dzdgy</td>\n",
       "      <td>3.1</td>\n",
       "    </tr>\n",
       "    <tr>\n",
       "      <th>690528062190944256</th>\n",
       "      <td>2016-01-22 13:34:54</td>\n",
       "      <td>Twitter for Android</td>\n",
       "      <td>ted cruz complains about my views on eminent domain, but without it we wouldn't have roads, highways, airports, schools or even pipelines.</td>\n",
       "      <td>1595</td>\n",
       "      <td>2016-01-22 08:34:54-05:00</td>\n",
       "      <td>8.581667</td>\n",
       "      <td>2016.057377</td>\n",
       "      <td>ted cruz complains about my views on eminent domain  but without it we wouldn t have roads  highways  airports  schools or even pipelines</td>\n",
       "      <td>-1.6</td>\n",
       "    </tr>\n",
       "    <tr>\n",
       "      <th>690528407117889538</th>\n",
       "      <td>2016-01-22 13:36:16</td>\n",
       "      <td>Twitter for Android</td>\n",
       "      <td>\"@realollietaylor:  isn't it time we had a president? let goofy glen keep canada cruz who can't win. the american people have trump!\"</td>\n",
       "      <td>909</td>\n",
       "      <td>2016-01-22 08:36:16-05:00</td>\n",
       "      <td>8.604444</td>\n",
       "      <td>2016.057377</td>\n",
       "      <td>realollietaylor   isn t it time we had a president  let goofy glen keep canada cruz who can t win  the american people have trump</td>\n",
       "      <td>2.8</td>\n",
       "    </tr>\n",
       "    <tr>\n",
       "      <th>690528526181601281</th>\n",
       "      <td>2016-01-22 13:36:44</td>\n",
       "      <td>Twitter for Android</td>\n",
       "      <td>\"@borntobegop: @realdonaldtrump no sleep for the #trumptrain!\"</td>\n",
       "      <td>676</td>\n",
       "      <td>2016-01-22 08:36:44-05:00</td>\n",
       "      <td>8.612222</td>\n",
       "      <td>2016.057377</td>\n",
       "      <td>borntobegop   realdonaldtrump no sleep for the  trumptrain</td>\n",
       "      <td>-1.2</td>\n",
       "    </tr>\n",
       "    <tr>\n",
       "      <th>690529122326413314</th>\n",
       "      <td>2016-01-22 13:39:06</td>\n",
       "      <td>Twitter for Android</td>\n",
       "      <td>\"@neilturner_: @realdonaldtrump https://t.co/uvn95nb6m0 with your help we can #makeamericagreatagain! #votetrump\"</td>\n",
       "      <td>773</td>\n",
       "      <td>2016-01-22 08:39:06-05:00</td>\n",
       "      <td>8.651667</td>\n",
       "      <td>2016.057377</td>\n",
       "      <td>neilturner_   realdonaldtrump https   t co uvn95nb6m0 with your help we can  makeamericagreatagain   votetrump</td>\n",
       "      <td>1.7</td>\n",
       "    </tr>\n",
       "    <tr>\n",
       "      <th>690529690205818880</th>\n",
       "      <td>2016-01-22 13:41:22</td>\n",
       "      <td>Twitter for Android</td>\n",
       "      <td>#tedcruz eligibility to be president not settled law, says cruz' constitutional law professor, #laurencetribe https://t.co/gwkojsbinz\"</td>\n",
       "      <td>753</td>\n",
       "      <td>2016-01-22 08:41:22-05:00</td>\n",
       "      <td>8.689444</td>\n",
       "      <td>2016.057377</td>\n",
       "      <td>tedcruz eligibility to be president not settled law  says cruz  constitutional law professor   laurencetribe https   t co gwkojsbinz</td>\n",
       "      <td>0.0</td>\n",
       "    </tr>\n",
       "    <tr>\n",
       "      <th>690530164711624705</th>\n",
       "      <td>2016-01-22 13:43:15</td>\n",
       "      <td>Twitter for Android</td>\n",
       "      <td>\"@trublumajority: #laurencetribe calls cruz \"constitutional hypocrite\" on @wbur https://t.co/qrfintcjlx @pbsgwen @charlierose @jaketapper</td>\n",
       "      <td>637</td>\n",
       "      <td>2016-01-22 08:43:15-05:00</td>\n",
       "      <td>8.720833</td>\n",
       "      <td>2016.057377</td>\n",
       "      <td>trublumajority   laurencetribe calls cruz  constitutional hypocrite  on  wbur https   t co qrfintcjlx  pbsgwen  charlierose  jaketapper</td>\n",
       "      <td>0.0</td>\n",
       "    </tr>\n",
       "    <tr>\n",
       "      <th>690532959363866625</th>\n",
       "      <td>2016-01-22 13:54:21</td>\n",
       "      <td>Twitter for Android</td>\n",
       "      <td>highly respected constitutional law professor mary brigid mcmanamon has just stated, \"ted cruz is not eligible to be president.\" big problem</td>\n",
       "      <td>1937</td>\n",
       "      <td>2016-01-22 08:54:21-05:00</td>\n",
       "      <td>8.905833</td>\n",
       "      <td>2016.057377</td>\n",
       "      <td>highly respected constitutional law professor mary brigid mcmanamon has just stated   ted cruz is not eligible to be president   big problem</td>\n",
       "      <td>0.4</td>\n",
       "    </tr>\n",
       "    <tr>\n",
       "      <th>690534215478173697</th>\n",
       "      <td>2016-01-22 13:59:21</td>\n",
       "      <td>Twitter for Android</td>\n",
       "      <td>\"@d: #marybrigidmcmanamon, washington post: constitutionally speaking, #cruz simply isn’t eligible to be president https://t.co/dbttgsc1il\"</td>\n",
       "      <td>875</td>\n",
       "      <td>2016-01-22 08:59:21-05:00</td>\n",
       "      <td>8.989167</td>\n",
       "      <td>2016.057377</td>\n",
       "      <td>d   marybrigidmcmanamon  washington post  constitutionally speaking   cruz simply isn t eligible to be president https   t co dbttgsc1il</td>\n",
       "      <td>0.0</td>\n",
       "    </tr>\n",
       "    <tr>\n",
       "      <th>690534576066719744</th>\n",
       "      <td>2016-01-22 14:00:47</td>\n",
       "      <td>Twitter for Android</td>\n",
       "      <td>\"@cyberciety: #marybrigidmcmanamon clarified how #commonlaw is used to interpret meaning of #naturalborn #tedcruz https://t.co/5y6szrtdgr\"</td>\n",
       "      <td>799</td>\n",
       "      <td>2016-01-22 09:00:47-05:00</td>\n",
       "      <td>9.013056</td>\n",
       "      <td>2016.057377</td>\n",
       "      <td>cyberciety   marybrigidmcmanamon clarified how  commonlaw is used to interpret meaning of  naturalborn  tedcruz https   t co 5y6szrtdgr</td>\n",
       "      <td>0.0</td>\n",
       "    </tr>\n",
       "    <tr>\n",
       "      <th>690537121916923904</th>\n",
       "      <td>2016-01-22 14:10:54</td>\n",
       "      <td>Twitter for Android</td>\n",
       "      <td>\"@miaminewtimes: poll: trump has more support in florida than rubio and bush combined. https://t.co/uvh2bkqrhf https://t.co/2tviaa2afr\"</td>\n",
       "      <td>1738</td>\n",
       "      <td>2016-01-22 09:10:54-05:00</td>\n",
       "      <td>9.181667</td>\n",
       "      <td>2016.057377</td>\n",
       "      <td>miaminewtimes  poll  trump has more support in florida than rubio and bush combined  https   t co uvh2bkqrhf https   t co 2tviaa2afr</td>\n",
       "      <td>1.7</td>\n",
       "    </tr>\n",
       "    <tr>\n",
       "      <th>690540484154896384</th>\n",
       "      <td>2016-01-22 14:24:15</td>\n",
       "      <td>Twitter for Android</td>\n",
       "      <td>the failing @nro national review magazine has just been informed by the republican national committee that they cannot participate in debate</td>\n",
       "      <td>2116</td>\n",
       "      <td>2016-01-22 09:24:15-05:00</td>\n",
       "      <td>9.404167</td>\n",
       "      <td>2016.057377</td>\n",
       "      <td>the failing  nro national review magazine has just been informed by the republican national committee that they cannot participate in debate</td>\n",
       "      <td>-2.3</td>\n",
       "    </tr>\n",
       "    <tr>\n",
       "      <th>690560125916975104</th>\n",
       "      <td>2016-01-22 15:42:18</td>\n",
       "      <td>Twitter for Android</td>\n",
       "      <td>after spending $89 million, @jebbush is at the bottom of the barrel in polls. he is ashamed to use the name \"bush\" in ads. low energy guy!</td>\n",
       "      <td>1661</td>\n",
       "      <td>2016-01-22 10:42:18-05:00</td>\n",
       "      <td>10.705000</td>\n",
       "      <td>2016.057377</td>\n",
       "      <td>after spending  89 million   jebbush is at the bottom of the barrel in polls  he is ashamed to use the name  bush  in ads  low energy guy</td>\n",
       "      <td>-2.1</td>\n",
       "    </tr>\n",
       "    <tr>\n",
       "      <th>690560942430523392</th>\n",
       "      <td>2016-01-22 15:45:33</td>\n",
       "      <td>Twitter for Android</td>\n",
       "      <td>\"@lisa_milicaj: truth be told, i  never heard of the national review until they \"tried\" to declare war on you. no worries, you got my vote!\"</td>\n",
       "      <td>1110</td>\n",
       "      <td>2016-01-22 10:45:33-05:00</td>\n",
       "      <td>10.759167</td>\n",
       "      <td>2016.057377</td>\n",
       "      <td>lisa_milicaj  truth be told  i  never heard of the national review until they  tried  to declare war on you  no worries  you got my vote</td>\n",
       "      <td>-4.6</td>\n",
       "    </tr>\n",
       "    <tr>\n",
       "      <th>...</th>\n",
       "      <td>...</td>\n",
       "      <td>...</td>\n",
       "      <td>...</td>\n",
       "      <td>...</td>\n",
       "      <td>...</td>\n",
       "      <td>...</td>\n",
       "      <td>...</td>\n",
       "      <td>...</td>\n",
       "      <td>...</td>\n",
       "    </tr>\n",
       "    <tr>\n",
       "      <th>966846679784837120</th>\n",
       "      <td>2018-02-23 01:26:26</td>\n",
       "      <td>Twitter for iPhone</td>\n",
       "      <td>“school shooting survivor says he quit @cnn town hall after refusing scripted question.” @tuckercarlson. just like so much of cnn, fake news. that’s why their ratings are so bad! msnbc may be worse.</td>\n",
       "      <td>31825</td>\n",
       "      <td>2018-02-22 20:26:26-05:00</td>\n",
       "      <td>20.440556</td>\n",
       "      <td>2018.145205</td>\n",
       "      <td>school shooting survivor says he quit  cnn town hall after refusing scripted question    tuckercarlson  just like so much of cnn  fake news  that s why their ratings are so bad  msnbc may be worse</td>\n",
       "      <td>-5.4</td>\n",
       "    </tr>\n",
       "    <tr>\n",
       "      <th>966998215592677376</th>\n",
       "      <td>2018-02-23 11:28:35</td>\n",
       "      <td>Twitter for iPhone</td>\n",
       "      <td>ms-13 gang members are being removed by our great ice and border patrol agents by the thousands, but these killers come back in from el salvador, and through mexico, like water. el salvador just takes our money, and mexico must help more with this problem. we need the wall!</td>\n",
       "      <td>28055</td>\n",
       "      <td>2018-02-23 06:28:35-05:00</td>\n",
       "      <td>6.476389</td>\n",
       "      <td>2018.145205</td>\n",
       "      <td>ms 13 gang members are being removed by our great ice and border patrol agents by the thousands  but these killers come back in from el salvador  and through mexico  like water  el salvador just takes our money  and mexico must help more with this problem  we need the wall</td>\n",
       "      <td>1.3</td>\n",
       "    </tr>\n",
       "    <tr>\n",
       "      <th>967021512455802881</th>\n",
       "      <td>2018-02-23 13:01:09</td>\n",
       "      <td>Twitter for iPhone</td>\n",
       "      <td>cpac today!</td>\n",
       "      <td>7735</td>\n",
       "      <td>2018-02-23 08:01:09-05:00</td>\n",
       "      <td>8.019167</td>\n",
       "      <td>2018.145205</td>\n",
       "      <td>cpac today</td>\n",
       "      <td>0.0</td>\n",
       "    </tr>\n",
       "    <tr>\n",
       "      <th>967023015035797504</th>\n",
       "      <td>2018-02-23 13:07:07</td>\n",
       "      <td>Twitter for iPhone</td>\n",
       "      <td>my daughter, ivanka, just arrived in south korea. we cannot have a better, or smarter, person representing our country.</td>\n",
       "      <td>14350</td>\n",
       "      <td>2018-02-23 08:07:07-05:00</td>\n",
       "      <td>8.118611</td>\n",
       "      <td>2018.145205</td>\n",
       "      <td>my daughter  ivanka  just arrived in south korea  we cannot have a better  or smarter  person representing our country</td>\n",
       "      <td>3.9</td>\n",
       "    </tr>\n",
       "    <tr>\n",
       "      <th>967023714268319744</th>\n",
       "      <td>2018-02-23 13:09:54</td>\n",
       "      <td>Twitter for iPhone</td>\n",
       "      <td>for those of you who are still interested, the democrats have totally forgotten about daca. not a lot of interest on this subject from them!</td>\n",
       "      <td>24549</td>\n",
       "      <td>2018-02-23 08:09:54-05:00</td>\n",
       "      <td>8.165000</td>\n",
       "      <td>2018.145205</td>\n",
       "      <td>for those of you who are still interested  the democrats have totally forgotten about daca  not a lot of interest on this subject from them</td>\n",
       "      <td>2.8</td>\n",
       "    </tr>\n",
       "    <tr>\n",
       "      <th>967083281974951939</th>\n",
       "      <td>2018-02-23 17:06:36</td>\n",
       "      <td>Twitter for iPhone</td>\n",
       "      <td>after years of rebuilding other nations, we are finally rebuilding our nation - and we are restoring our confidence and our pride! #cpac2018 https://t.co/rd9otu8iex</td>\n",
       "      <td>15699</td>\n",
       "      <td>2018-02-23 12:06:36-05:00</td>\n",
       "      <td>12.110000</td>\n",
       "      <td>2018.145205</td>\n",
       "      <td>after years of rebuilding other nations  we are finally rebuilding our nation   and we are restoring our confidence and our pride   cpac2018 https   t co rd9otu8iex</td>\n",
       "      <td>4.9</td>\n",
       "    </tr>\n",
       "    <tr>\n",
       "      <th>967083810981597185</th>\n",
       "      <td>2018-02-23 17:08:42</td>\n",
       "      <td>Twitter for iPhone</td>\n",
       "      <td>we salute our great american flag, we put our hands on our hearts for the pledge of allegiance, and we all proudly stand for the national anthem. #cpac2018 https://t.co/qgkw2xgjp0</td>\n",
       "      <td>16489</td>\n",
       "      <td>2018-02-23 12:08:42-05:00</td>\n",
       "      <td>12.145000</td>\n",
       "      <td>2018.145205</td>\n",
       "      <td>we salute our great american flag  we put our hands on our hearts for the pledge of allegiance  and we all proudly stand for the national anthem   cpac2018 https   t co qgkw2xgjp0</td>\n",
       "      <td>5.7</td>\n",
       "    </tr>\n",
       "    <tr>\n",
       "      <th>967084806726127616</th>\n",
       "      <td>2018-02-23 17:12:40</td>\n",
       "      <td>Twitter for iPhone</td>\n",
       "      <td>our nation’s motto is in god we trust. this week, our nation lost an incredible leader who devoted his life to helping us understand what those words really mean. we will never forget the historic crowds, the voice, the energy, and the profound faith of billy graham! #cpac201...</td>\n",
       "      <td>20360</td>\n",
       "      <td>2018-02-23 12:12:40-05:00</td>\n",
       "      <td>12.211111</td>\n",
       "      <td>2018.145205</td>\n",
       "      <td>our nation s motto is in god we trust  this week  our nation lost an incredible leader who devoted his life to helping us understand what those words really mean  we will never forget the historic crowds  the voice  the energy  and the profound faith of billy graham   cpac201...</td>\n",
       "      <td>7.0</td>\n",
       "    </tr>\n",
       "    <tr>\n",
       "      <th>967146956094083073</th>\n",
       "      <td>2018-02-23 21:19:37</td>\n",
       "      <td>Twitter for iPhone</td>\n",
       "      <td>today, @flotus melania and i were honored to welcome prime minister @turnbullmalcolm and mrs. turnbull of australia to the @whitehouse!\\n\\n🇺🇸🇦🇺press conference: https://t.co/rkokjgrsgu https://t.co/pkjuw8x9jb</td>\n",
       "      <td>8738</td>\n",
       "      <td>2018-02-23 16:19:37-05:00</td>\n",
       "      <td>16.326944</td>\n",
       "      <td>2018.145205</td>\n",
       "      <td>today   flotus melania and i were honored to welcome prime minister  turnbullmalcolm and mrs  turnbull of australia to the  whitehouse \\n\\n    press conference  https   t co rkokjgrsgu https   t co pkjuw8x9jb</td>\n",
       "      <td>4.8</td>\n",
       "    </tr>\n",
       "    <tr>\n",
       "      <th>967168890232082433</th>\n",
       "      <td>2018-02-23 22:46:47</td>\n",
       "      <td>Twitter for iPhone</td>\n",
       "      <td>thank you to the great men and women of the united states @secretservice for a job well done!</td>\n",
       "      <td>15323</td>\n",
       "      <td>2018-02-23 17:46:47-05:00</td>\n",
       "      <td>17.779722</td>\n",
       "      <td>2018.145205</td>\n",
       "      <td>thank you to the great men and women of the united states  secretservice for a job well done</td>\n",
       "      <td>7.5</td>\n",
       "    </tr>\n",
       "    <tr>\n",
       "      <th>967388904952344577</th>\n",
       "      <td>2018-02-24 13:21:02</td>\n",
       "      <td>Twitter for iPhone</td>\n",
       "      <td>so true wayne, and lowest black unemployment in history! https://t.co/gdxxjdzqum</td>\n",
       "      <td>20052</td>\n",
       "      <td>2018-02-24 08:21:02-05:00</td>\n",
       "      <td>8.350556</td>\n",
       "      <td>2018.147945</td>\n",
       "      <td>so true wayne  and lowest black unemployment in history  https   t co gdxxjdzqum</td>\n",
       "      <td>-1.7</td>\n",
       "    </tr>\n",
       "    <tr>\n",
       "      <th>967389553362423808</th>\n",
       "      <td>2018-02-24 13:23:37</td>\n",
       "      <td>Twitter for iPhone</td>\n",
       "      <td>rt @realdonaldtrump: i will be strongly pushing comprehensive background checks with an emphasis on mental health. raise age to 21 and end…</td>\n",
       "      <td>37057</td>\n",
       "      <td>2018-02-24 08:23:37-05:00</td>\n",
       "      <td>8.393611</td>\n",
       "      <td>2018.147945</td>\n",
       "      <td>rt  realdonaldtrump  i will be strongly pushing comprehensive background checks with an emphasis on mental health  raise age to 21 and end</td>\n",
       "      <td>2.1</td>\n",
       "    </tr>\n",
       "    <tr>\n",
       "      <th>967472757025001472</th>\n",
       "      <td>2018-02-24 18:54:14</td>\n",
       "      <td>Twitter for iPhone</td>\n",
       "      <td>armed educators (and trusted people who work within a school) love our students and will protect them. very smart people. must be firearms adept &amp;amp; have annual training. should get yearly bonus. shootings will not happen again - a big &amp;amp; very inexpensive deterrent. up t...</td>\n",
       "      <td>20340</td>\n",
       "      <td>2018-02-24 13:54:14-05:00</td>\n",
       "      <td>13.903889</td>\n",
       "      <td>2018.147945</td>\n",
       "      <td>armed educators (and trusted people who work within a school) love our students and will protect them  very smart people  must be firearms adept  amp  have annual training  should get yearly bonus  shootings will not happen again   a big  amp  very inexpensive deterrent  up t...</td>\n",
       "      <td>11.1</td>\n",
       "    </tr>\n",
       "    <tr>\n",
       "      <th>967493467046899712</th>\n",
       "      <td>2018-02-24 20:16:32</td>\n",
       "      <td>Twitter for iPhone</td>\n",
       "      <td>democrat judges have totally redrawn election lines in the great state of pennsylvania. @foxnews. this is very unfair to republicans and to our country as a whole. must be appealed to the united states supreme court asap!</td>\n",
       "      <td>22109</td>\n",
       "      <td>2018-02-24 15:16:32-05:00</td>\n",
       "      <td>15.275556</td>\n",
       "      <td>2018.147945</td>\n",
       "      <td>democrat judges have totally redrawn election lines in the great state of pennsylvania   foxnews  this is very unfair to republicans and to our country as a whole  must be appealed to the united states supreme court asap</td>\n",
       "      <td>5.4</td>\n",
       "    </tr>\n",
       "    <tr>\n",
       "      <th>967506350283599874</th>\n",
       "      <td>2018-02-24 21:07:43</td>\n",
       "      <td>Twitter for iPhone</td>\n",
       "      <td>unemployment claims are at the lowest level since 1973. much of this has to do with the massive cutting of unnecessary and job killing regulations!</td>\n",
       "      <td>15573</td>\n",
       "      <td>2018-02-24 16:07:43-05:00</td>\n",
       "      <td>16.128611</td>\n",
       "      <td>2018.147945</td>\n",
       "      <td>unemployment claims are at the lowest level since 1973  much of this has to do with the massive cutting of unnecessary and job killing regulations</td>\n",
       "      <td>-7.4</td>\n",
       "    </tr>\n",
       "    <tr>\n",
       "      <th>967508938425069568</th>\n",
       "      <td>2018-02-24 21:18:01</td>\n",
       "      <td>Twitter for iPhone</td>\n",
       "      <td>dems are no longer talking daca! “out of sight, out of mind,” they say. daca beneficiaries should not be happy. nancy pelosi truly doesn’t care about them. republicans stand ready to make a deal!</td>\n",
       "      <td>21848</td>\n",
       "      <td>2018-02-24 16:18:01-05:00</td>\n",
       "      <td>16.300278</td>\n",
       "      <td>2018.147945</td>\n",
       "      <td>dems are no longer talking daca   out of sight  out of mind   they say  daca beneficiaries should not be happy  nancy pelosi truly doesn t care about them  republicans stand ready to make a deal</td>\n",
       "      <td>8.9</td>\n",
       "    </tr>\n",
       "    <tr>\n",
       "      <th>967526110249537542</th>\n",
       "      <td>2018-02-24 22:26:15</td>\n",
       "      <td>Twitter for iPhone</td>\n",
       "      <td>big cpac straw poll results: 93% approve of the job president trump is doing (thank you!). 50% say president trump should tweet more or same (funny!). 79% say republicans in congress should do a better job of working with president trump (starting to happen).</td>\n",
       "      <td>24753</td>\n",
       "      <td>2018-02-24 17:26:15-05:00</td>\n",
       "      <td>17.437500</td>\n",
       "      <td>2018.147945</td>\n",
       "      <td>big cpac straw poll results  93  approve of the job president trump is doing (thank you )  50  say president trump should tweet more or same (funny )  79  say republicans in congress should do a better job of working with president trump (starting to happen)</td>\n",
       "      <td>1.9</td>\n",
       "    </tr>\n",
       "    <tr>\n",
       "      <th>967538684789739520</th>\n",
       "      <td>2018-02-24 23:16:13</td>\n",
       "      <td>Twitter for iPhone</td>\n",
       "      <td>the democrat memo response on government surveillance abuses is a total political and legal bust. just confirms all of the terrible things that were done. so illegal!</td>\n",
       "      <td>20351</td>\n",
       "      <td>2018-02-24 18:16:13-05:00</td>\n",
       "      <td>18.270278</td>\n",
       "      <td>2018.147945</td>\n",
       "      <td>the democrat memo response on government surveillance abuses is a total political and legal bust  just confirms all of the terrible things that were done  so illegal</td>\n",
       "      <td>-6.8</td>\n",
       "    </tr>\n",
       "    <tr>\n",
       "      <th>967539664692350977</th>\n",
       "      <td>2018-02-24 23:20:06</td>\n",
       "      <td>Twitter for iPhone</td>\n",
       "      <td>dem memo: fbi did not disclose who the clients were - the clinton campaign and the dnc. wow!</td>\n",
       "      <td>21115</td>\n",
       "      <td>2018-02-24 18:20:06-05:00</td>\n",
       "      <td>18.335000</td>\n",
       "      <td>2018.147945</td>\n",
       "      <td>dem memo  fbi did not disclose who the clients were   the clinton campaign and the dnc  wow</td>\n",
       "      <td>2.8</td>\n",
       "    </tr>\n",
       "    <tr>\n",
       "      <th>967545724362739712</th>\n",
       "      <td>2018-02-24 23:44:11</td>\n",
       "      <td>Twitter for iPhone</td>\n",
       "      <td>“russians had no compromising information on donald trump” @foxnews  of course not, because there is none, and never was. this whole witch hunt is an illegal disgrace...and obama did nothing about russia!</td>\n",
       "      <td>18798</td>\n",
       "      <td>2018-02-24 18:44:11-05:00</td>\n",
       "      <td>18.736389</td>\n",
       "      <td>2018.147945</td>\n",
       "      <td>russians had no compromising information on donald trump   foxnews  of course not  because there is none  and never was  this whole witch hunt is an illegal disgrace   and obama did nothing about russia</td>\n",
       "      <td>-7.5</td>\n",
       "    </tr>\n",
       "    <tr>\n",
       "      <th>967563946063523840</th>\n",
       "      <td>2018-02-25 00:56:35</td>\n",
       "      <td>Twitter for iPhone</td>\n",
       "      <td>“congressman schiff omitted and distorted key facts” @foxnews  so, what else is new. he is a total phony!</td>\n",
       "      <td>18852</td>\n",
       "      <td>2018-02-24 19:56:35-05:00</td>\n",
       "      <td>19.943056</td>\n",
       "      <td>2018.150685</td>\n",
       "      <td>congressman schiff omitted and distorted key facts   foxnews  so  what else is new  he is a total phony</td>\n",
       "      <td>-1.7</td>\n",
       "    </tr>\n",
       "    <tr>\n",
       "      <th>967564998238142471</th>\n",
       "      <td>2018-02-25 01:00:46</td>\n",
       "      <td>Twitter for iPhone</td>\n",
       "      <td>i will be interviewed by @judgejeanine on @foxnews at 9:00 p.m. enjoy!</td>\n",
       "      <td>8380</td>\n",
       "      <td>2018-02-24 20:00:46-05:00</td>\n",
       "      <td>20.012778</td>\n",
       "      <td>2018.150685</td>\n",
       "      <td>i will be interviewed by  judgejeanine on  foxnews at 9 00 p m  enjoy</td>\n",
       "      <td>2.2</td>\n",
       "    </tr>\n",
       "    <tr>\n",
       "      <th>967597639293382657</th>\n",
       "      <td>2018-02-25 03:10:28</td>\n",
       "      <td>Twitter for iPhone</td>\n",
       "      <td>rt @foxnews: president @realdonaldtrump on daca: \"i'm the one that's pushing daca and the democrats are nowhere to be found.\" https://t.co/…</td>\n",
       "      <td>12553</td>\n",
       "      <td>2018-02-24 22:10:28-05:00</td>\n",
       "      <td>22.174444</td>\n",
       "      <td>2018.150685</td>\n",
       "      <td>rt  foxnews  president  realdonaldtrump on daca   i m the one that s pushing daca and the democrats are nowhere to be found   https   t co</td>\n",
       "      <td>0.0</td>\n",
       "    </tr>\n",
       "    <tr>\n",
       "      <th>967597887545896961</th>\n",
       "      <td>2018-02-25 03:11:28</td>\n",
       "      <td>Twitter for iPhone</td>\n",
       "      <td>rt @foxnews: president @realdonaldtrump on dem fisa memo: \"a lot of bad things happened on the other side, not on this side, but the other…</td>\n",
       "      <td>13732</td>\n",
       "      <td>2018-02-24 22:11:28-05:00</td>\n",
       "      <td>22.191111</td>\n",
       "      <td>2018.150685</td>\n",
       "      <td>rt  foxnews  president  realdonaldtrump on dem fisa memo   a lot of bad things happened on the other side  not on this side  but the other</td>\n",
       "      <td>-2.5</td>\n",
       "    </tr>\n",
       "    <tr>\n",
       "      <th>967609114238050304</th>\n",
       "      <td>2018-02-25 03:56:04</td>\n",
       "      <td>Twitter for iPhone</td>\n",
       "      <td>rt @vollrathtammie: @realdonaldtrump @foxnews https://t.co/seri7vyh5i</td>\n",
       "      <td>6818</td>\n",
       "      <td>2018-02-24 22:56:04-05:00</td>\n",
       "      <td>22.934444</td>\n",
       "      <td>2018.150685</td>\n",
       "      <td>rt  vollrathtammie   realdonaldtrump  foxnews https   t co seri7vyh5i</td>\n",
       "      <td>0.0</td>\n",
       "    </tr>\n",
       "    <tr>\n",
       "      <th>967847560248426498</th>\n",
       "      <td>2018-02-25 19:43:34</td>\n",
       "      <td>Twitter for iPhone</td>\n",
       "      <td>rt @whitehouse: merit-based immigration reform will benefit american workers and relieve the strain imposed by our current system on federa…</td>\n",
       "      <td>12171</td>\n",
       "      <td>2018-02-25 14:43:34-05:00</td>\n",
       "      <td>14.726111</td>\n",
       "      <td>2018.150685</td>\n",
       "      <td>rt  whitehouse  merit based immigration reform will benefit american workers and relieve the strain imposed by our current system on federa</td>\n",
       "      <td>4.8</td>\n",
       "    </tr>\n",
       "    <tr>\n",
       "      <th>968455547094753281</th>\n",
       "      <td>2018-02-27 11:59:30</td>\n",
       "      <td>Twitter for iPhone</td>\n",
       "      <td>“he’s got a very good point. somebody in the justice department has a treasure trove of evidence of mrs. clinton’s criminality at her own hands, or through others, that ought to be investigated. i fully agree with the president on that.” @judgenapolitano on @marthamaccallum show</td>\n",
       "      <td>11450</td>\n",
       "      <td>2018-02-27 06:59:30-05:00</td>\n",
       "      <td>6.991667</td>\n",
       "      <td>2018.156164</td>\n",
       "      <td>he s got a very good point  somebody in the justice department has a treasure trove of evidence of mrs  clinton s criminality at her own hands  or through others  that ought to be investigated  i fully agree with the president on that    judgenapolitano on  marthamaccallum show</td>\n",
       "      <td>7.0</td>\n",
       "    </tr>\n",
       "    <tr>\n",
       "      <th>968462966864609280</th>\n",
       "      <td>2018-02-27 12:28:59</td>\n",
       "      <td>Twitter for iPhone</td>\n",
       "      <td>“i’ve been skeptical about the collusion and obstruction claims for the last year. i just don’t see the evidence....in terms of the collusion, it’s all a bit implausible based on the evidence we have.”  jonathan turley on @foxnews</td>\n",
       "      <td>9130</td>\n",
       "      <td>2018-02-27 07:28:59-05:00</td>\n",
       "      <td>7.483056</td>\n",
       "      <td>2018.156164</td>\n",
       "      <td>i ve been skeptical about the collusion and obstruction claims for the last year  i just don t see the evidence    in terms of the collusion  it s all a bit implausible based on the evidence we have    jonathan turley on  foxnews</td>\n",
       "      <td>-1.3</td>\n",
       "    </tr>\n",
       "    <tr>\n",
       "      <th>968467243192537088</th>\n",
       "      <td>2018-02-27 12:45:58</td>\n",
       "      <td>Twitter for iPhone</td>\n",
       "      <td>“we’ve seen no evidence of collusion....i have seen nothing, the firing of james comey and all of the aftermath, that suggests that the president has obstructed justice because he’s exercising his power as the president of the u.s. i just don’t see it.”  judge ken starr</td>\n",
       "      <td>13152</td>\n",
       "      <td>2018-02-27 07:45:58-05:00</td>\n",
       "      <td>7.766111</td>\n",
       "      <td>2018.156164</td>\n",
       "      <td>we ve seen no evidence of collusion    i have seen nothing  the firing of james comey and all of the aftermath  that suggests that the president has obstructed justice because he s exercising his power as the president of the u s  i just don t see it    judge ken starr</td>\n",
       "      <td>-0.2</td>\n",
       "    </tr>\n",
       "    <tr>\n",
       "      <th>968468176639004672</th>\n",
       "      <td>2018-02-27 12:49:41</td>\n",
       "      <td>Twitter for iPhone</td>\n",
       "      <td>witch hunt!</td>\n",
       "      <td>15088</td>\n",
       "      <td>2018-02-27 07:49:41-05:00</td>\n",
       "      <td>7.828056</td>\n",
       "      <td>2018.156164</td>\n",
       "      <td>witch hunt</td>\n",
       "      <td>-1.5</td>\n",
       "    </tr>\n",
       "  </tbody>\n",
       "</table>\n",
       "<p>6798 rows × 9 columns</p>\n",
       "</div>"
      ],
      "text/plain": [
       "                                  time               source  \\\n",
       "690171032150237184 2016-01-21 13:56:11  Twitter for Android   \n",
       "690171403388104704 2016-01-21 13:57:39  Twitter for Android   \n",
       "690173226341691392 2016-01-21 14:04:54  Twitter for Android   \n",
       "690176882055114758 2016-01-21 14:19:26  Twitter for Android   \n",
       "690180284189310976 2016-01-21 14:32:57  Twitter for Android   \n",
       "690271688127213568 2016-01-21 20:36:09   Twitter for iPhone   \n",
       "690272687168458754 2016-01-21 20:40:07  Twitter for Android   \n",
       "690313350278819840 2016-01-21 23:21:42   Twitter for iPhone   \n",
       "690315202261155840 2016-01-21 23:29:04   Twitter for iPhone   \n",
       "690315366564626433 2016-01-21 23:29:43   Twitter for iPhone   \n",
       "690315667636023296 2016-01-21 23:30:55   Twitter for iPhone   \n",
       "690336644281581568 2016-01-22 00:54:16   Twitter for iPhone   \n",
       "690337376061788161 2016-01-22 00:57:10   Twitter for iPhone   \n",
       "690382564494839809 2016-01-22 03:56:44   Twitter for iPhone   \n",
       "690382619213742082 2016-01-22 03:56:57   Twitter for iPhone   \n",
       "690382722162913280 2016-01-22 03:57:22   Twitter for iPhone   \n",
       "690404308010057728 2016-01-22 05:23:08   Twitter for iPhone   \n",
       "690528062190944256 2016-01-22 13:34:54  Twitter for Android   \n",
       "690528407117889538 2016-01-22 13:36:16  Twitter for Android   \n",
       "690528526181601281 2016-01-22 13:36:44  Twitter for Android   \n",
       "690529122326413314 2016-01-22 13:39:06  Twitter for Android   \n",
       "690529690205818880 2016-01-22 13:41:22  Twitter for Android   \n",
       "690530164711624705 2016-01-22 13:43:15  Twitter for Android   \n",
       "690532959363866625 2016-01-22 13:54:21  Twitter for Android   \n",
       "690534215478173697 2016-01-22 13:59:21  Twitter for Android   \n",
       "690534576066719744 2016-01-22 14:00:47  Twitter for Android   \n",
       "690537121916923904 2016-01-22 14:10:54  Twitter for Android   \n",
       "690540484154896384 2016-01-22 14:24:15  Twitter for Android   \n",
       "690560125916975104 2016-01-22 15:42:18  Twitter for Android   \n",
       "690560942430523392 2016-01-22 15:45:33  Twitter for Android   \n",
       "...                                ...                  ...   \n",
       "966846679784837120 2018-02-23 01:26:26   Twitter for iPhone   \n",
       "966998215592677376 2018-02-23 11:28:35   Twitter for iPhone   \n",
       "967021512455802881 2018-02-23 13:01:09   Twitter for iPhone   \n",
       "967023015035797504 2018-02-23 13:07:07   Twitter for iPhone   \n",
       "967023714268319744 2018-02-23 13:09:54   Twitter for iPhone   \n",
       "967083281974951939 2018-02-23 17:06:36   Twitter for iPhone   \n",
       "967083810981597185 2018-02-23 17:08:42   Twitter for iPhone   \n",
       "967084806726127616 2018-02-23 17:12:40   Twitter for iPhone   \n",
       "967146956094083073 2018-02-23 21:19:37   Twitter for iPhone   \n",
       "967168890232082433 2018-02-23 22:46:47   Twitter for iPhone   \n",
       "967388904952344577 2018-02-24 13:21:02   Twitter for iPhone   \n",
       "967389553362423808 2018-02-24 13:23:37   Twitter for iPhone   \n",
       "967472757025001472 2018-02-24 18:54:14   Twitter for iPhone   \n",
       "967493467046899712 2018-02-24 20:16:32   Twitter for iPhone   \n",
       "967506350283599874 2018-02-24 21:07:43   Twitter for iPhone   \n",
       "967508938425069568 2018-02-24 21:18:01   Twitter for iPhone   \n",
       "967526110249537542 2018-02-24 22:26:15   Twitter for iPhone   \n",
       "967538684789739520 2018-02-24 23:16:13   Twitter for iPhone   \n",
       "967539664692350977 2018-02-24 23:20:06   Twitter for iPhone   \n",
       "967545724362739712 2018-02-24 23:44:11   Twitter for iPhone   \n",
       "967563946063523840 2018-02-25 00:56:35   Twitter for iPhone   \n",
       "967564998238142471 2018-02-25 01:00:46   Twitter for iPhone   \n",
       "967597639293382657 2018-02-25 03:10:28   Twitter for iPhone   \n",
       "967597887545896961 2018-02-25 03:11:28   Twitter for iPhone   \n",
       "967609114238050304 2018-02-25 03:56:04   Twitter for iPhone   \n",
       "967847560248426498 2018-02-25 19:43:34   Twitter for iPhone   \n",
       "968455547094753281 2018-02-27 11:59:30   Twitter for iPhone   \n",
       "968462966864609280 2018-02-27 12:28:59   Twitter for iPhone   \n",
       "968467243192537088 2018-02-27 12:45:58   Twitter for iPhone   \n",
       "968468176639004672 2018-02-27 12:49:41   Twitter for iPhone   \n",
       "\n",
       "                                                                                                                                                                                                                                                                                                       text  \\\n",
       "690171032150237184                                                                                                                                                                                                                      \"@bigop1: @realdonaldtrump  @sarahpalinusa https://t.co/3kyqgqevyd\"   \n",
       "690171403388104704                                                                                                                                                        \"@americanaspie:  @glennbeck @sarahpalinusa remember when glenn gave out gifts to illegal aliens at crossing the border? me too!\"   \n",
       "690173226341691392                                                                                                                                                              so sad that @cnn and many others refused to show the massive crowd at the arena yesterday in oklahoma. dishonest reporting!   \n",
       "690176882055114758                                                                                                                                               sad sack @jebbush has just done another ad on me, with special interest money, saying i won't beat hillary - i will. but he can't beat me.   \n",
       "690180284189310976                                                                                                                                             low energy candidate @jebbush has wasted $80 million on his failed presidential campaign. millions spent on me. he should go home and relax!   \n",
       "690271688127213568                                                                                                                                                                                          new day on cnn treats me very badly. @alisyncamerota is a disaster. not going to watch anymore.   \n",
       "690272687168458754                                                                                                                                                                                                            happy birthday to my friend, the great @jacknicklaus - a totally special guy!   \n",
       "690313350278819840                                                                                                                                                                                                                                      thank you, iowa! #trump2016 https://t.co/ryhehetlqn   \n",
       "690315202261155840                                                                                                                                                                                                                                            thank you! #trump2016 https://t.co/pcdmyio1zt   \n",
       "690315366564626433                                                                                                                                                                                                                            thank you, new hampshire!\\n#trump2016 https://t.co/tg9ozkly4l   \n",
       "690315667636023296                                                                                                                                                                                                                                #trump2016 #makeamericagreatagain https://t.co/vfuwgigjn4   \n",
       "690336644281581568                                                                                                                                             why does @greta have a fired bushy like dummy, john sununu on- spewing false info? i will beat hillary by a lot, she wants no part of trump.   \n",
       "690337376061788161                                                                                                                                                                                              thank you, iowa! #fitn #iacaucus\\n#makeamericagreatagain #trump2016 https://t.co/wvjldvtsag   \n",
       "690382564494839809                                                                                                                                             national review is a failing publication that has lost it's way. it's circulation is way down w its influence being at an all time low. sad!   \n",
       "690382619213742082                                                                                                                                                                                    very few people read the national review because it only knows how to criticize, but not how to lead.   \n",
       "690382722162913280                                                                                                                                                                       the late, great, william f. buckley would be ashamed of what had happened to his prize, the dying national review!   \n",
       "690404308010057728                                                                                                                                                                                                          rt @williebosshog: make america great again! #trump2016 https://t.co/1h5j4dzdgy   \n",
       "690528062190944256                                                                                                                                               ted cruz complains about my views on eminent domain, but without it we wouldn't have roads, highways, airports, schools or even pipelines.   \n",
       "690528407117889538                                                                                                                                                    \"@realollietaylor:  isn't it time we had a president? let goofy glen keep canada cruz who can't win. the american people have trump!\"   \n",
       "690528526181601281                                                                                                                                                                                                                           \"@borntobegop: @realdonaldtrump no sleep for the #trumptrain!\"   \n",
       "690529122326413314                                                                                                                                                                        \"@neilturner_: @realdonaldtrump https://t.co/uvn95nb6m0 with your help we can #makeamericagreatagain! #votetrump\"   \n",
       "690529690205818880                                                                                                                                                   #tedcruz eligibility to be president not settled law, says cruz' constitutional law professor, #laurencetribe https://t.co/gwkojsbinz\"   \n",
       "690530164711624705                                                                                                                                                \"@trublumajority: #laurencetribe calls cruz \"constitutional hypocrite\" on @wbur https://t.co/qrfintcjlx @pbsgwen @charlierose @jaketapper   \n",
       "690532959363866625                                                                                                                                             highly respected constitutional law professor mary brigid mcmanamon has just stated, \"ted cruz is not eligible to be president.\" big problem   \n",
       "690534215478173697                                                                                                                                              \"@d: #marybrigidmcmanamon, washington post: constitutionally speaking, #cruz simply isn’t eligible to be president https://t.co/dbttgsc1il\"   \n",
       "690534576066719744                                                                                                                                               \"@cyberciety: #marybrigidmcmanamon clarified how #commonlaw is used to interpret meaning of #naturalborn #tedcruz https://t.co/5y6szrtdgr\"   \n",
       "690537121916923904                                                                                                                                                  \"@miaminewtimes: poll: trump has more support in florida than rubio and bush combined. https://t.co/uvh2bkqrhf https://t.co/2tviaa2afr\"   \n",
       "690540484154896384                                                                                                                                             the failing @nro national review magazine has just been informed by the republican national committee that they cannot participate in debate   \n",
       "690560125916975104                                                                                                                                               after spending $89 million, @jebbush is at the bottom of the barrel in polls. he is ashamed to use the name \"bush\" in ads. low energy guy!   \n",
       "690560942430523392                                                                                                                                             \"@lisa_milicaj: truth be told, i  never heard of the national review until they \"tried\" to declare war on you. no worries, you got my vote!\"   \n",
       "...                                                                                                                                                                                                                                                                                                     ...   \n",
       "966846679784837120                                                                                   “school shooting survivor says he quit @cnn town hall after refusing scripted question.” @tuckercarlson. just like so much of cnn, fake news. that’s why their ratings are so bad! msnbc may be worse.   \n",
       "966998215592677376       ms-13 gang members are being removed by our great ice and border patrol agents by the thousands, but these killers come back in from el salvador, and through mexico, like water. el salvador just takes our money, and mexico must help more with this problem. we need the wall!   \n",
       "967021512455802881                                                                                                                                                                                                                                                                              cpac today!   \n",
       "967023015035797504                                                                                                                                                                  my daughter, ivanka, just arrived in south korea. we cannot have a better, or smarter, person representing our country.   \n",
       "967023714268319744                                                                                                                                             for those of you who are still interested, the democrats have totally forgotten about daca. not a lot of interest on this subject from them!   \n",
       "967083281974951939                                                                                                                     after years of rebuilding other nations, we are finally rebuilding our nation - and we are restoring our confidence and our pride! #cpac2018 https://t.co/rd9otu8iex   \n",
       "967083810981597185                                                                                                      we salute our great american flag, we put our hands on our hearts for the pledge of allegiance, and we all proudly stand for the national anthem. #cpac2018 https://t.co/qgkw2xgjp0   \n",
       "967084806726127616  our nation’s motto is in god we trust. this week, our nation lost an incredible leader who devoted his life to helping us understand what those words really mean. we will never forget the historic crowds, the voice, the energy, and the profound faith of billy graham! #cpac201...   \n",
       "967146956094083073                                                                         today, @flotus melania and i were honored to welcome prime minister @turnbullmalcolm and mrs. turnbull of australia to the @whitehouse!\\n\\n🇺🇸🇦🇺press conference: https://t.co/rkokjgrsgu https://t.co/pkjuw8x9jb   \n",
       "967168890232082433                                                                                                                                                                                            thank you to the great men and women of the united states @secretservice for a job well done!   \n",
       "967388904952344577                                                                                                                                                                                                         so true wayne, and lowest black unemployment in history! https://t.co/gdxxjdzqum   \n",
       "967389553362423808                                                                                                                                              rt @realdonaldtrump: i will be strongly pushing comprehensive background checks with an emphasis on mental health. raise age to 21 and end…   \n",
       "967472757025001472  armed educators (and trusted people who work within a school) love our students and will protect them. very smart people. must be firearms adept &amp; have annual training. should get yearly bonus. shootings will not happen again - a big &amp; very inexpensive deterrent. up t...   \n",
       "967493467046899712                                                            democrat judges have totally redrawn election lines in the great state of pennsylvania. @foxnews. this is very unfair to republicans and to our country as a whole. must be appealed to the united states supreme court asap!   \n",
       "967506350283599874                                                                                                                                      unemployment claims are at the lowest level since 1973. much of this has to do with the massive cutting of unnecessary and job killing regulations!   \n",
       "967508938425069568                                                                                      dems are no longer talking daca! “out of sight, out of mind,” they say. daca beneficiaries should not be happy. nancy pelosi truly doesn’t care about them. republicans stand ready to make a deal!   \n",
       "967526110249537542                      big cpac straw poll results: 93% approve of the job president trump is doing (thank you!). 50% say president trump should tweet more or same (funny!). 79% say republicans in congress should do a better job of working with president trump (starting to happen).   \n",
       "967538684789739520                                                                                                                   the democrat memo response on government surveillance abuses is a total political and legal bust. just confirms all of the terrible things that were done. so illegal!   \n",
       "967539664692350977                                                                                                                                                                                             dem memo: fbi did not disclose who the clients were - the clinton campaign and the dnc. wow!   \n",
       "967545724362739712                                                                             “russians had no compromising information on donald trump” @foxnews  of course not, because there is none, and never was. this whole witch hunt is an illegal disgrace...and obama did nothing about russia!   \n",
       "967563946063523840                                                                                                                                                                                “congressman schiff omitted and distorted key facts” @foxnews  so, what else is new. he is a total phony!   \n",
       "967564998238142471                                                                                                                                                                                                                   i will be interviewed by @judgejeanine on @foxnews at 9:00 p.m. enjoy!   \n",
       "967597639293382657                                                                                                                                             rt @foxnews: president @realdonaldtrump on daca: \"i'm the one that's pushing daca and the democrats are nowhere to be found.\" https://t.co/…   \n",
       "967597887545896961                                                                                                                                              rt @foxnews: president @realdonaldtrump on dem fisa memo: \"a lot of bad things happened on the other side, not on this side, but the other…   \n",
       "967609114238050304                                                                                                                                                                                                                    rt @vollrathtammie: @realdonaldtrump @foxnews https://t.co/seri7vyh5i   \n",
       "967847560248426498                                                                                                                                             rt @whitehouse: merit-based immigration reform will benefit american workers and relieve the strain imposed by our current system on federa…   \n",
       "968455547094753281  “he’s got a very good point. somebody in the justice department has a treasure trove of evidence of mrs. clinton’s criminality at her own hands, or through others, that ought to be investigated. i fully agree with the president on that.” @judgenapolitano on @marthamaccallum show   \n",
       "968462966864609280                                                   “i’ve been skeptical about the collusion and obstruction claims for the last year. i just don’t see the evidence....in terms of the collusion, it’s all a bit implausible based on the evidence we have.”  jonathan turley on @foxnews   \n",
       "968467243192537088           “we’ve seen no evidence of collusion....i have seen nothing, the firing of james comey and all of the aftermath, that suggests that the president has obstructed justice because he’s exercising his power as the president of the u.s. i just don’t see it.”  judge ken starr   \n",
       "968468176639004672                                                                                                                                                                                                                                                                              witch hunt!   \n",
       "\n",
       "                    retweet_count                  est_time       hour  \\\n",
       "690171032150237184           1059 2016-01-21 08:56:11-05:00   8.936389   \n",
       "690171403388104704           1339 2016-01-21 08:57:39-05:00   8.960833   \n",
       "690173226341691392           2006 2016-01-21 09:04:54-05:00   9.081667   \n",
       "690176882055114758           2266 2016-01-21 09:19:26-05:00   9.323889   \n",
       "690180284189310976           2886 2016-01-21 09:32:57-05:00   9.549167   \n",
       "690271688127213568           1429 2016-01-21 15:36:09-05:00  15.602500   \n",
       "690272687168458754           1053 2016-01-21 15:40:07-05:00  15.668611   \n",
       "690313350278819840           2329 2016-01-21 18:21:42-05:00  18.361667   \n",
       "690315202261155840           1463 2016-01-21 18:29:04-05:00  18.484444   \n",
       "690315366564626433           1761 2016-01-21 18:29:43-05:00  18.495278   \n",
       "690315667636023296           2217 2016-01-21 18:30:55-05:00  18.515278   \n",
       "690336644281581568           1576 2016-01-21 19:54:16-05:00  19.904444   \n",
       "690337376061788161           2422 2016-01-21 19:57:10-05:00  19.952778   \n",
       "690382564494839809           2187 2016-01-21 22:56:44-05:00  22.945556   \n",
       "690382619213742082           1817 2016-01-21 22:56:57-05:00  22.949167   \n",
       "690382722162913280           2236 2016-01-21 22:57:22-05:00  22.956111   \n",
       "690404308010057728           9144 2016-01-22 00:23:08-05:00   0.385556   \n",
       "690528062190944256           1595 2016-01-22 08:34:54-05:00   8.581667   \n",
       "690528407117889538            909 2016-01-22 08:36:16-05:00   8.604444   \n",
       "690528526181601281            676 2016-01-22 08:36:44-05:00   8.612222   \n",
       "690529122326413314            773 2016-01-22 08:39:06-05:00   8.651667   \n",
       "690529690205818880            753 2016-01-22 08:41:22-05:00   8.689444   \n",
       "690530164711624705            637 2016-01-22 08:43:15-05:00   8.720833   \n",
       "690532959363866625           1937 2016-01-22 08:54:21-05:00   8.905833   \n",
       "690534215478173697            875 2016-01-22 08:59:21-05:00   8.989167   \n",
       "690534576066719744            799 2016-01-22 09:00:47-05:00   9.013056   \n",
       "690537121916923904           1738 2016-01-22 09:10:54-05:00   9.181667   \n",
       "690540484154896384           2116 2016-01-22 09:24:15-05:00   9.404167   \n",
       "690560125916975104           1661 2016-01-22 10:42:18-05:00  10.705000   \n",
       "690560942430523392           1110 2016-01-22 10:45:33-05:00  10.759167   \n",
       "...                           ...                       ...        ...   \n",
       "966846679784837120          31825 2018-02-22 20:26:26-05:00  20.440556   \n",
       "966998215592677376          28055 2018-02-23 06:28:35-05:00   6.476389   \n",
       "967021512455802881           7735 2018-02-23 08:01:09-05:00   8.019167   \n",
       "967023015035797504          14350 2018-02-23 08:07:07-05:00   8.118611   \n",
       "967023714268319744          24549 2018-02-23 08:09:54-05:00   8.165000   \n",
       "967083281974951939          15699 2018-02-23 12:06:36-05:00  12.110000   \n",
       "967083810981597185          16489 2018-02-23 12:08:42-05:00  12.145000   \n",
       "967084806726127616          20360 2018-02-23 12:12:40-05:00  12.211111   \n",
       "967146956094083073           8738 2018-02-23 16:19:37-05:00  16.326944   \n",
       "967168890232082433          15323 2018-02-23 17:46:47-05:00  17.779722   \n",
       "967388904952344577          20052 2018-02-24 08:21:02-05:00   8.350556   \n",
       "967389553362423808          37057 2018-02-24 08:23:37-05:00   8.393611   \n",
       "967472757025001472          20340 2018-02-24 13:54:14-05:00  13.903889   \n",
       "967493467046899712          22109 2018-02-24 15:16:32-05:00  15.275556   \n",
       "967506350283599874          15573 2018-02-24 16:07:43-05:00  16.128611   \n",
       "967508938425069568          21848 2018-02-24 16:18:01-05:00  16.300278   \n",
       "967526110249537542          24753 2018-02-24 17:26:15-05:00  17.437500   \n",
       "967538684789739520          20351 2018-02-24 18:16:13-05:00  18.270278   \n",
       "967539664692350977          21115 2018-02-24 18:20:06-05:00  18.335000   \n",
       "967545724362739712          18798 2018-02-24 18:44:11-05:00  18.736389   \n",
       "967563946063523840          18852 2018-02-24 19:56:35-05:00  19.943056   \n",
       "967564998238142471           8380 2018-02-24 20:00:46-05:00  20.012778   \n",
       "967597639293382657          12553 2018-02-24 22:10:28-05:00  22.174444   \n",
       "967597887545896961          13732 2018-02-24 22:11:28-05:00  22.191111   \n",
       "967609114238050304           6818 2018-02-24 22:56:04-05:00  22.934444   \n",
       "967847560248426498          12171 2018-02-25 14:43:34-05:00  14.726111   \n",
       "968455547094753281          11450 2018-02-27 06:59:30-05:00   6.991667   \n",
       "968462966864609280           9130 2018-02-27 07:28:59-05:00   7.483056   \n",
       "968467243192537088          13152 2018-02-27 07:45:58-05:00   7.766111   \n",
       "968468176639004672          15088 2018-02-27 07:49:41-05:00   7.828056   \n",
       "\n",
       "                           year  \\\n",
       "690171032150237184  2016.054645   \n",
       "690171403388104704  2016.054645   \n",
       "690173226341691392  2016.054645   \n",
       "690176882055114758  2016.054645   \n",
       "690180284189310976  2016.054645   \n",
       "690271688127213568  2016.054645   \n",
       "690272687168458754  2016.054645   \n",
       "690313350278819840  2016.054645   \n",
       "690315202261155840  2016.054645   \n",
       "690315366564626433  2016.054645   \n",
       "690315667636023296  2016.054645   \n",
       "690336644281581568  2016.057377   \n",
       "690337376061788161  2016.057377   \n",
       "690382564494839809  2016.057377   \n",
       "690382619213742082  2016.057377   \n",
       "690382722162913280  2016.057377   \n",
       "690404308010057728  2016.057377   \n",
       "690528062190944256  2016.057377   \n",
       "690528407117889538  2016.057377   \n",
       "690528526181601281  2016.057377   \n",
       "690529122326413314  2016.057377   \n",
       "690529690205818880  2016.057377   \n",
       "690530164711624705  2016.057377   \n",
       "690532959363866625  2016.057377   \n",
       "690534215478173697  2016.057377   \n",
       "690534576066719744  2016.057377   \n",
       "690537121916923904  2016.057377   \n",
       "690540484154896384  2016.057377   \n",
       "690560125916975104  2016.057377   \n",
       "690560942430523392  2016.057377   \n",
       "...                         ...   \n",
       "966846679784837120  2018.145205   \n",
       "966998215592677376  2018.145205   \n",
       "967021512455802881  2018.145205   \n",
       "967023015035797504  2018.145205   \n",
       "967023714268319744  2018.145205   \n",
       "967083281974951939  2018.145205   \n",
       "967083810981597185  2018.145205   \n",
       "967084806726127616  2018.145205   \n",
       "967146956094083073  2018.145205   \n",
       "967168890232082433  2018.145205   \n",
       "967388904952344577  2018.147945   \n",
       "967389553362423808  2018.147945   \n",
       "967472757025001472  2018.147945   \n",
       "967493467046899712  2018.147945   \n",
       "967506350283599874  2018.147945   \n",
       "967508938425069568  2018.147945   \n",
       "967526110249537542  2018.147945   \n",
       "967538684789739520  2018.147945   \n",
       "967539664692350977  2018.147945   \n",
       "967545724362739712  2018.147945   \n",
       "967563946063523840  2018.150685   \n",
       "967564998238142471  2018.150685   \n",
       "967597639293382657  2018.150685   \n",
       "967597887545896961  2018.150685   \n",
       "967609114238050304  2018.150685   \n",
       "967847560248426498  2018.150685   \n",
       "968455547094753281  2018.156164   \n",
       "968462966864609280  2018.156164   \n",
       "968467243192537088  2018.156164   \n",
       "968468176639004672  2018.156164   \n",
       "\n",
       "                                                                                                                                                                                                                                                                                                    no_punc  \\\n",
       "690171032150237184                                                                                                                                                                                                                        bigop1   realdonaldtrump   sarahpalinusa https   t co 3kyqgqevyd    \n",
       "690171403388104704                                                                                                                                                          americanaspie    glennbeck  sarahpalinusa remember when glenn gave out gifts to illegal aliens at crossing the border  me too     \n",
       "690173226341691392                                                                                                                                                              so sad that  cnn and many others refused to show the massive crowd at the arena yesterday in oklahoma  dishonest reporting    \n",
       "690176882055114758                                                                                                                                               sad sack  jebbush has just done another ad on me  with special interest money  saying i won t beat hillary   i will  but he can t beat me    \n",
       "690180284189310976                                                                                                                                             low energy candidate  jebbush has wasted  80 million on his failed presidential campaign  millions spent on me  he should go home and relax    \n",
       "690271688127213568                                                                                                                                                                                          new day on cnn treats me very badly   alisyncamerota is a disaster  not going to watch anymore    \n",
       "690272687168458754                                                                                                                                                                                                            happy birthday to my friend  the great  jacknicklaus   a totally special guy    \n",
       "690313350278819840                                                                                                                                                                                                                                      thank you  iowa   trump2016 https   t co ryhehetlqn   \n",
       "690315202261155840                                                                                                                                                                                                                                            thank you   trump2016 https   t co pcdmyio1zt   \n",
       "690315366564626433                                                                                                                                                                                                                            thank you  new hampshire \\n trump2016 https   t co tg9ozkly4l   \n",
       "690315667636023296                                                                                                                                                                                                                                 trump2016  makeamericagreatagain https   t co vfuwgigjn4   \n",
       "690336644281581568                                                                                                                                             why does  greta have a fired bushy like dummy  john sununu on  spewing false info  i will beat hillary by a lot  she wants no part of trump    \n",
       "690337376061788161                                                                                                                                                                                              thank you  iowa   fitn  iacaucus\\n makeamericagreatagain  trump2016 https   t co wvjldvtsag   \n",
       "690382564494839809                                                                                                                                             national review is a failing publication that has lost it s way  it s circulation is way down w its influence being at an all time low  sad    \n",
       "690382619213742082                                                                                                                                                                                    very few people read the national review because it only knows how to criticize  but not how to lead    \n",
       "690382722162913280                                                                                                                                                                       the late  great  william f  buckley would be ashamed of what had happened to his prize  the dying national review    \n",
       "690404308010057728                                                                                                                                                                                                          rt  williebosshog  make america great again   trump2016 https   t co 1h5j4dzdgy   \n",
       "690528062190944256                                                                                                                                               ted cruz complains about my views on eminent domain  but without it we wouldn t have roads  highways  airports  schools or even pipelines    \n",
       "690528407117889538                                                                                                                                                      realollietaylor   isn t it time we had a president  let goofy glen keep canada cruz who can t win  the american people have trump     \n",
       "690528526181601281                                                                                                                                                                                                                             borntobegop   realdonaldtrump no sleep for the  trumptrain     \n",
       "690529122326413314                                                                                                                                                                          neilturner_   realdonaldtrump https   t co uvn95nb6m0 with your help we can  makeamericagreatagain   votetrump    \n",
       "690529690205818880                                                                                                                                                    tedcruz eligibility to be president not settled law  says cruz  constitutional law professor   laurencetribe https   t co gwkojsbinz    \n",
       "690530164711624705                                                                                                                                                  trublumajority   laurencetribe calls cruz  constitutional hypocrite  on  wbur https   t co qrfintcjlx  pbsgwen  charlierose  jaketapper   \n",
       "690532959363866625                                                                                                                                             highly respected constitutional law professor mary brigid mcmanamon has just stated   ted cruz is not eligible to be president   big problem   \n",
       "690534215478173697                                                                                                                                                d   marybrigidmcmanamon  washington post  constitutionally speaking   cruz simply isn t eligible to be president https   t co dbttgsc1il    \n",
       "690534576066719744                                                                                                                                                 cyberciety   marybrigidmcmanamon clarified how  commonlaw is used to interpret meaning of  naturalborn  tedcruz https   t co 5y6szrtdgr    \n",
       "690537121916923904                                                                                                                                                    miaminewtimes  poll  trump has more support in florida than rubio and bush combined  https   t co uvh2bkqrhf https   t co 2tviaa2afr    \n",
       "690540484154896384                                                                                                                                             the failing  nro national review magazine has just been informed by the republican national committee that they cannot participate in debate   \n",
       "690560125916975104                                                                                                                                               after spending  89 million   jebbush is at the bottom of the barrel in polls  he is ashamed to use the name  bush  in ads  low energy guy    \n",
       "690560942430523392                                                                                                                                               lisa_milicaj  truth be told  i  never heard of the national review until they  tried  to declare war on you  no worries  you got my vote     \n",
       "...                                                                                                                                                                                                                                                                                                     ...   \n",
       "966846679784837120                                                                                    school shooting survivor says he quit  cnn town hall after refusing scripted question    tuckercarlson  just like so much of cnn  fake news  that s why their ratings are so bad  msnbc may be worse    \n",
       "966998215592677376       ms 13 gang members are being removed by our great ice and border patrol agents by the thousands  but these killers come back in from el salvador  and through mexico  like water  el salvador just takes our money  and mexico must help more with this problem  we need the wall    \n",
       "967021512455802881                                                                                                                                                                                                                                                                              cpac today    \n",
       "967023015035797504                                                                                                                                                                  my daughter  ivanka  just arrived in south korea  we cannot have a better  or smarter  person representing our country    \n",
       "967023714268319744                                                                                                                                             for those of you who are still interested  the democrats have totally forgotten about daca  not a lot of interest on this subject from them    \n",
       "967083281974951939                                                                                                                     after years of rebuilding other nations  we are finally rebuilding our nation   and we are restoring our confidence and our pride   cpac2018 https   t co rd9otu8iex   \n",
       "967083810981597185                                                                                                      we salute our great american flag  we put our hands on our hearts for the pledge of allegiance  and we all proudly stand for the national anthem   cpac2018 https   t co qgkw2xgjp0   \n",
       "967084806726127616  our nation s motto is in god we trust  this week  our nation lost an incredible leader who devoted his life to helping us understand what those words really mean  we will never forget the historic crowds  the voice  the energy  and the profound faith of billy graham   cpac201...   \n",
       "967146956094083073                                                                         today   flotus melania and i were honored to welcome prime minister  turnbullmalcolm and mrs  turnbull of australia to the  whitehouse \\n\\n    press conference  https   t co rkokjgrsgu https   t co pkjuw8x9jb   \n",
       "967168890232082433                                                                                                                                                                                            thank you to the great men and women of the united states  secretservice for a job well done    \n",
       "967388904952344577                                                                                                                                                                                                         so true wayne  and lowest black unemployment in history  https   t co gdxxjdzqum   \n",
       "967389553362423808                                                                                                                                              rt  realdonaldtrump  i will be strongly pushing comprehensive background checks with an emphasis on mental health  raise age to 21 and end    \n",
       "967472757025001472  armed educators (and trusted people who work within a school) love our students and will protect them  very smart people  must be firearms adept  amp  have annual training  should get yearly bonus  shootings will not happen again   a big  amp  very inexpensive deterrent  up t...   \n",
       "967493467046899712                                                            democrat judges have totally redrawn election lines in the great state of pennsylvania   foxnews  this is very unfair to republicans and to our country as a whole  must be appealed to the united states supreme court asap    \n",
       "967506350283599874                                                                                                                                      unemployment claims are at the lowest level since 1973  much of this has to do with the massive cutting of unnecessary and job killing regulations    \n",
       "967508938425069568                                                                                      dems are no longer talking daca   out of sight  out of mind   they say  daca beneficiaries should not be happy  nancy pelosi truly doesn t care about them  republicans stand ready to make a deal    \n",
       "967526110249537542                      big cpac straw poll results  93  approve of the job president trump is doing (thank you )  50  say president trump should tweet more or same (funny )  79  say republicans in congress should do a better job of working with president trump (starting to happen)    \n",
       "967538684789739520                                                                                                                   the democrat memo response on government surveillance abuses is a total political and legal bust  just confirms all of the terrible things that were done  so illegal    \n",
       "967539664692350977                                                                                                                                                                                             dem memo  fbi did not disclose who the clients were   the clinton campaign and the dnc  wow    \n",
       "967545724362739712                                                                              russians had no compromising information on donald trump   foxnews  of course not  because there is none  and never was  this whole witch hunt is an illegal disgrace   and obama did nothing about russia    \n",
       "967563946063523840                                                                                                                                                                                 congressman schiff omitted and distorted key facts   foxnews  so  what else is new  he is a total phony    \n",
       "967564998238142471                                                                                                                                                                                                                   i will be interviewed by  judgejeanine on  foxnews at 9 00 p m  enjoy    \n",
       "967597639293382657                                                                                                                                             rt  foxnews  president  realdonaldtrump on daca   i m the one that s pushing daca and the democrats are nowhere to be found   https   t co     \n",
       "967597887545896961                                                                                                                                              rt  foxnews  president  realdonaldtrump on dem fisa memo   a lot of bad things happened on the other side  not on this side  but the other    \n",
       "967609114238050304                                                                                                                                                                                                                    rt  vollrathtammie   realdonaldtrump  foxnews https   t co seri7vyh5i   \n",
       "967847560248426498                                                                                                                                             rt  whitehouse  merit based immigration reform will benefit american workers and relieve the strain imposed by our current system on federa    \n",
       "968455547094753281   he s got a very good point  somebody in the justice department has a treasure trove of evidence of mrs  clinton s criminality at her own hands  or through others  that ought to be investigated  i fully agree with the president on that    judgenapolitano on  marthamaccallum show   \n",
       "968462966864609280                                                    i ve been skeptical about the collusion and obstruction claims for the last year  i just don t see the evidence    in terms of the collusion  it s all a bit implausible based on the evidence we have    jonathan turley on  foxnews   \n",
       "968467243192537088            we ve seen no evidence of collusion    i have seen nothing  the firing of james comey and all of the aftermath  that suggests that the president has obstructed justice because he s exercising his power as the president of the u s  i just don t see it    judge ken starr   \n",
       "968468176639004672                                                                                                                                                                                                                                                                              witch hunt    \n",
       "\n",
       "                    polarity  \n",
       "690171032150237184       0.0  \n",
       "690171403388104704      -2.6  \n",
       "690173226341691392      -6.0  \n",
       "690176882055114758       4.3  \n",
       "690180284189310976      -2.6  \n",
       "690271688127213568      -5.2  \n",
       "690272687168458754       9.7  \n",
       "690313350278819840       1.5  \n",
       "690315202261155840       1.5  \n",
       "690315366564626433       1.5  \n",
       "690315667636023296       0.0  \n",
       "690336644281581568      -2.3  \n",
       "690337376061788161       1.5  \n",
       "690382564494839809      -6.8  \n",
       "690382619213742082      -1.6  \n",
       "690382722162913280       3.3  \n",
       "690404308010057728       3.1  \n",
       "690528062190944256      -1.6  \n",
       "690528407117889538       2.8  \n",
       "690528526181601281      -1.2  \n",
       "690529122326413314       1.7  \n",
       "690529690205818880       0.0  \n",
       "690530164711624705       0.0  \n",
       "690532959363866625       0.4  \n",
       "690534215478173697       0.0  \n",
       "690534576066719744       0.0  \n",
       "690537121916923904       1.7  \n",
       "690540484154896384      -2.3  \n",
       "690560125916975104      -2.1  \n",
       "690560942430523392      -4.6  \n",
       "...                      ...  \n",
       "966846679784837120      -5.4  \n",
       "966998215592677376       1.3  \n",
       "967021512455802881       0.0  \n",
       "967023015035797504       3.9  \n",
       "967023714268319744       2.8  \n",
       "967083281974951939       4.9  \n",
       "967083810981597185       5.7  \n",
       "967084806726127616       7.0  \n",
       "967146956094083073       4.8  \n",
       "967168890232082433       7.5  \n",
       "967388904952344577      -1.7  \n",
       "967389553362423808       2.1  \n",
       "967472757025001472      11.1  \n",
       "967493467046899712       5.4  \n",
       "967506350283599874      -7.4  \n",
       "967508938425069568       8.9  \n",
       "967526110249537542       1.9  \n",
       "967538684789739520      -6.8  \n",
       "967539664692350977       2.8  \n",
       "967545724362739712      -7.5  \n",
       "967563946063523840      -1.7  \n",
       "967564998238142471       2.2  \n",
       "967597639293382657       0.0  \n",
       "967597887545896961      -2.5  \n",
       "967609114238050304       0.0  \n",
       "967847560248426498       4.8  \n",
       "968455547094753281       7.0  \n",
       "968462966864609280      -1.3  \n",
       "968467243192537088      -0.2  \n",
       "968468176639004672      -1.5  \n",
       "\n",
       "[6798 rows x 9 columns]"
      ]
     },
     "execution_count": 44,
     "metadata": {},
     "output_type": "execute_result"
    }
   ],
   "source": [
    "pol = tidy_format.merge(sent, 'left', left_on='word', right_index=True)\n",
    "pol = pol.groupby(pol.index).agg(sum).drop(['num'], axis=1)\n",
    "trump = trump.merge(pol, 'outer', left_index=True, right_index=True)#.drop('polarity_x', axis='columns')\n",
    "trump#.sort_values('polarity')\n",
    "# YOUR CODE HERE\n",
    "#raise NotImplementedError()"
   ]
  },
  {
   "cell_type": "code",
   "execution_count": 45,
   "metadata": {
    "deletable": false,
    "editable": false,
    "nbgrader": {
     "cell_type": "code",
     "checksum": "ff43fac8ac5a95a2eef4bbb52405ad16",
     "grade": true,
     "grade_id": "q6e-tests",
     "locked": true,
     "points": 2,
     "schema_version": 2,
     "solution": false
    },
    "tags": [
     "test",
     "q05e"
    ]
   },
   "outputs": [],
   "source": [
    "assert np.allclose(trump.loc[744701872456536064, 'polarity'], 8.4)\n",
    "assert np.allclose(trump.loc[745304731346702336, 'polarity'], 2.5)\n",
    "assert np.allclose(trump.loc[744519497764184064, 'polarity'], 1.7)\n",
    "assert np.allclose(trump.loc[894661651760377856, 'polarity'], 0.2)\n",
    "assert np.allclose(trump.loc[894620077634592769, 'polarity'], 5.4)\n",
    "# If you fail this test, you dropped tweets with 0 polarity\n",
    "assert np.allclose(trump.loc[744355251365511169, 'polarity'], 0.0)"
   ]
  },
  {
   "cell_type": "markdown",
   "metadata": {
    "deletable": false,
    "editable": false,
    "nbgrader": {
     "cell_type": "markdown",
     "checksum": "1d52c721610f2c6a5e4862a1866e5abc",
     "grade": false,
     "grade_id": "a-note-on-vader",
     "locked": true,
     "schema_version": 2,
     "solution": false
    }
   },
   "source": [
    "Now we have a measure of the sentiment of each of his tweets! Note that this calculation is rather basic; you can read over the VADER readme to understand a more robust sentiment analysis.\n",
    "\n",
    "Now, run the cells below to see the most positive and most negative tweets from Trump in your dataset:"
   ]
  },
  {
   "cell_type": "code",
   "execution_count": 46,
   "metadata": {
    "deletable": false,
    "editable": false,
    "nbgrader": {
     "cell_type": "code",
     "checksum": "3ea0c421557a05c5a03c51515a5fdc78",
     "grade": false,
     "grade_id": "negative-tweets",
     "locked": true,
     "schema_version": 2,
     "solution": false
    }
   },
   "outputs": [
    {
     "name": "stdout",
     "output_type": "stream",
     "text": [
      "Most negative tweets:\n",
      "\n",
      "   horrible and cowardly terrorist attack on innocent and defenseless worshipers in egypt. the world cannot tolerate terrorism, we must defeat them militarily and discredit the extremist ideology that forms the basis of their existence!\n",
      "\n",
      "   democrat jon ossoff would be a disaster in congress. very weak on crime and illegal immigration, bad for jobs and wants higher taxes. say no\n",
      "\n",
      "   \"@fiiibuster: @jeffzeleny pathetic - you have no sufficient evidence that donald trump did not suffer from voter fraud, shame! bad reporter.\n",
      "\n",
      "   nyc terrorist was happy as he asked to hang isis flag in his hospital room. he killed 8 people, badly injured 12. should get death penalty!\n",
      "\n",
      "   yet another terrorist attack today in israel -- a father, shot at by a palestinian terrorist, was killed while:\n",
      "https://t.co/cv1hzkvbit\n"
     ]
    }
   ],
   "source": [
    "print('Most negative tweets:')\n",
    "for t in trump.sort_values('polarity').head()['text']:\n",
    "    print('\\n  ', t)"
   ]
  },
  {
   "cell_type": "code",
   "execution_count": 47,
   "metadata": {
    "deletable": false,
    "editable": false,
    "nbgrader": {
     "cell_type": "code",
     "checksum": "e0d27a82de94a1ce5cf64a2c72ffb7aa",
     "grade": false,
     "grade_id": "postive-tweets",
     "locked": true,
     "schema_version": 2,
     "solution": false
    }
   },
   "outputs": [
    {
     "name": "stdout",
     "output_type": "stream",
     "text": [
      "Most positive tweets:\n",
      "\n",
      "   thank you to linda bean of l.l.bean for your great support and courage. people will support you even more now. buy l.l.bean. @lbperfectmaine\n",
      "\n",
      "   it was my great honor to celebrate the opening of two extraordinary museums-the mississippi state history museum &amp; the mississippi civil rights museum. we pay solemn tribute to our heroes of the past &amp; dedicate ourselves to building a future of freedom, equality, justice &amp; peace. https://t.co/5akgvpv8aa\n",
      "\n",
      "   rt @ivankatrump: 2016 has been one of the most eventful and exciting years of my life. i wish you peace, joy, love and laughter. happy new…\n",
      "\n",
      "   today, it was my great honor to sign a new executive order to ensure veterans have the resources they need as they transition back to civilian life. we must ensure that our heroes are given the care and support they so richly deserve! https://t.co/0mdp9ddias https://t.co/lp2a8kcbap\n",
      "\n",
      "   it was my great honor to welcome mayor’s from across america to the wh. my administration will always support local government - and listen to the leaders who know their communities best. together, we will usher in a bold new era of peace and prosperity! https://t.co/dmyectnk0a https://t.co/rsv7v7r0dt\n"
     ]
    }
   ],
   "source": [
    "print('Most positive tweets:')\n",
    "for t in trump.sort_values('polarity', ascending=False).head()['text']:\n",
    "    print('\\n  ', t)"
   ]
  },
  {
   "cell_type": "markdown",
   "metadata": {
    "deletable": false,
    "editable": false,
    "nbgrader": {
     "cell_type": "markdown",
     "checksum": "0f2ca7db78e7689cdd731e11c9dcffb9",
     "grade": false,
     "grade_id": "q6g",
     "locked": true,
     "schema_version": 2,
     "solution": false
    }
   },
   "source": [
    "## Question 6g\n",
    "\n",
    "Plot the distribution of tweet sentiments broken down by whether the text of the tweet contains `nyt` or `fox`.  Then in the box below comment on what we observe?"
   ]
  },
  {
   "cell_type": "code",
   "execution_count": 48,
   "metadata": {
    "deletable": false,
    "nbgrader": {
     "cell_type": "code",
     "checksum": "4eb3b83e9188000a1a52427c06ea3c62",
     "grade": true,
     "grade_id": "q6g-answer",
     "locked": false,
     "points": 1,
     "schema_version": 2,
     "solution": true
    },
    "tags": [
     "student"
    ]
   },
   "outputs": [
    {
     "data": {
      "image/png": "[encoded data removed]",
      "text/plain": [
       "<matplotlib.figure.Figure at 0x7fcd5c6bb048>"
      ]
     },
     "metadata": {},
     "output_type": "display_data"
    }
   ],
   "source": [
    "# YOUR CODE HERE\n",
    "#raise NotImplementedError()\n",
    "nyt = trump[['nyt' in  tweet for tweet in list(trump['no_punc'])]]\n",
    "fox = trump[['fox' in  tweet for tweet in list(trump['no_punc'])]]\n",
    "\n",
    "sns.distplot(nyt['polarity'], label = 'nyt')\n",
    "sns.distplot(fox['polarity'], label='fox')\n",
    "plt.legend();\n"
   ]
  },
  {
   "cell_type": "markdown",
   "metadata": {
    "deletable": false,
    "editable": false,
    "nbgrader": {
     "cell_type": "markdown",
     "checksum": "88e3a81cb1d24df731e4d72d10f08d9f",
     "grade": false,
     "grade_id": "comment-on-faux-news",
     "locked": true,
     "schema_version": 2,
     "solution": false
    }
   },
   "source": [
    "#### Comment on what you observe:"
   ]
  },
  {
   "cell_type": "markdown",
   "metadata": {
    "deletable": false,
    "nbgrader": {
     "cell_type": "markdown",
     "checksum": "07f011cfd9a34c2b3314f2a3aa210187",
     "grade": true,
     "grade_id": "q6g-written",
     "locked": false,
     "points": 1,
     "schema_version": 2,
     "solution": true
    }
   },
   "source": [
    "Not surprisingly, tweets referencing nyt tend to be more negative, and tweets referencing fox tend to be more positive."
   ]
  },
  {
   "cell_type": "markdown",
   "metadata": {
    "deletable": false,
    "editable": false,
    "nbgrader": {
     "cell_type": "markdown",
     "checksum": "9fd71e88bb7adb7f72069aae6032647d",
     "grade": false,
     "grade_id": "q7-header",
     "locked": true,
     "schema_version": 2,
     "solution": false
    }
   },
   "source": [
    "## Question 7: Engagement\n",
    "\n",
    "## Question 7a\n",
    "\n",
    "Which of Trump's tweets had the most retweets? Were there certain words that often led to more retweets?\n",
    "\n",
    "We can find this out by using our `tidy_format` DataFrame. For each word in the `tidy_format` DF, find out the number of retweets that its tweet got. Filter out words that didn't appear in at least 25 tweets, find out the median number of retweets each word got, and save the top 20 most retweeted words into a DataFrame called `top_20`. Your `top_20` table should have this format:\n",
    "\n",
    "<table border=\"1\" class=\"dataframe\">\n",
    "  <thead>\n",
    "    <tr style=\"text-align: right;\">\n",
    "      <th></th>\n",
    "      <th>retweet_count</th>\n",
    "    </tr>\n",
    "    <tr>\n",
    "      <th>word</th>\n",
    "      <th></th>\n",
    "    </tr>\n",
    "  </thead>\n",
    "  <tbody>\n",
    "    <tr>\n",
    "      <th>fake</th>\n",
    "      <td>22963.0</td>\n",
    "    </tr>\n",
    "    <tr>\n",
    "      <th>news</th>\n",
    "      <td>20463.0</td>\n",
    "    </tr>\n",
    "    <tr>\n",
    "      <th>ds100</th>\n",
    "      <td>20432.0</td>\n",
    "    </tr>\n",
    "    <tr>\n",
    "      <th>great</th>\n",
    "      <td>20159.0</td>\n",
    "    </tr>\n",
    "    <tr>\n",
    "      <th>class</th>\n",
    "      <td>20121.0</td>\n",
    "    </tr>\n",
    "  </tbody>\n",
    "</table>"
   ]
  },
  {
   "cell_type": "code",
   "execution_count": 52,
   "metadata": {
    "deletable": false,
    "nbgrader": {
     "cell_type": "code",
     "checksum": "fd0b39f47c0462c1c6da4a8c31df384c",
     "grade": false,
     "grade_id": "q7a",
     "locked": false,
     "schema_version": 2,
     "solution": true
    },
    "tags": [
     "student"
    ]
   },
   "outputs": [
    {
     "data": {
      "text/html": [
       "<div>\n",
       "<style scoped>\n",
       "    .dataframe tbody tr th:only-of-type {\n",
       "        vertical-align: middle;\n",
       "    }\n",
       "\n",
       "    .dataframe tbody tr th {\n",
       "        vertical-align: top;\n",
       "    }\n",
       "\n",
       "    .dataframe thead th {\n",
       "        text-align: right;\n",
       "    }\n",
       "</style>\n",
       "<table border=\"1\" class=\"dataframe\">\n",
       "  <thead>\n",
       "    <tr style=\"text-align: right;\">\n",
       "      <th></th>\n",
       "      <th>retweet_count</th>\n",
       "    </tr>\n",
       "    <tr>\n",
       "      <th>word</th>\n",
       "      <th></th>\n",
       "    </tr>\n",
       "  </thead>\n",
       "  <tbody>\n",
       "    <tr>\n",
       "      <th>nfl</th>\n",
       "      <td>24626.0</td>\n",
       "    </tr>\n",
       "    <tr>\n",
       "      <th>daca</th>\n",
       "      <td>24222.0</td>\n",
       "    </tr>\n",
       "    <tr>\n",
       "      <th>anthem</th>\n",
       "      <td>23822.0</td>\n",
       "    </tr>\n",
       "    <tr>\n",
       "      <th>fbi</th>\n",
       "      <td>23793.0</td>\n",
       "    </tr>\n",
       "    <tr>\n",
       "      <th>russia</th>\n",
       "      <td>23514.0</td>\n",
       "    </tr>\n",
       "    <tr>\n",
       "      <th>finally</th>\n",
       "      <td>23121.5</td>\n",
       "    </tr>\n",
       "    <tr>\n",
       "      <th>fake</th>\n",
       "      <td>23059.5</td>\n",
       "    </tr>\n",
       "    <tr>\n",
       "      <th>schumer</th>\n",
       "      <td>22750.0</td>\n",
       "    </tr>\n",
       "    <tr>\n",
       "      <th>collusion</th>\n",
       "      <td>22436.0</td>\n",
       "    </tr>\n",
       "    <tr>\n",
       "      <th>iran</th>\n",
       "      <td>21860.0</td>\n",
       "    </tr>\n",
       "    <tr>\n",
       "      <th>russian</th>\n",
       "      <td>21744.5</td>\n",
       "    </tr>\n",
       "    <tr>\n",
       "      <th>unemployment</th>\n",
       "      <td>21237.5</td>\n",
       "    </tr>\n",
       "    <tr>\n",
       "      <th>god</th>\n",
       "      <td>20582.5</td>\n",
       "    </tr>\n",
       "    <tr>\n",
       "      <th>safety</th>\n",
       "      <td>20214.5</td>\n",
       "    </tr>\n",
       "    <tr>\n",
       "      <th>news</th>\n",
       "      <td>20160.5</td>\n",
       "    </tr>\n",
       "    <tr>\n",
       "      <th>taken</th>\n",
       "      <td>19918.0</td>\n",
       "    </tr>\n",
       "    <tr>\n",
       "      <th>democrats</th>\n",
       "      <td>19850.0</td>\n",
       "    </tr>\n",
       "    <tr>\n",
       "      <th>months</th>\n",
       "      <td>19819.0</td>\n",
       "    </tr>\n",
       "    <tr>\n",
       "      <th>stock</th>\n",
       "      <td>19759.0</td>\n",
       "    </tr>\n",
       "    <tr>\n",
       "      <th>nbc</th>\n",
       "      <td>19626.0</td>\n",
       "    </tr>\n",
       "  </tbody>\n",
       "</table>\n",
       "</div>"
      ],
      "text/plain": [
       "              retweet_count\n",
       "word                       \n",
       "nfl                 24626.0\n",
       "daca                24222.0\n",
       "anthem              23822.0\n",
       "fbi                 23793.0\n",
       "russia              23514.0\n",
       "finally             23121.5\n",
       "fake                23059.5\n",
       "schumer             22750.0\n",
       "collusion           22436.0\n",
       "iran                21860.0\n",
       "russian             21744.5\n",
       "unemployment        21237.5\n",
       "god                 20582.5\n",
       "safety              20214.5\n",
       "news                20160.5\n",
       "taken               19918.0\n",
       "democrats           19850.0\n",
       "months              19819.0\n",
       "stock               19759.0\n",
       "nbc                 19626.0"
      ]
     },
     "execution_count": 52,
     "metadata": {},
     "output_type": "execute_result"
    }
   ],
   "source": [
    "rtwts_per_word = (trump\n",
    "                  .merge(tidy_format, 'outer', left_index=True, right_index=True)\n",
    "                  .loc[:,['retweet_count', 'word'] ])\n",
    "\n",
    "one_per_tweet = (tidy_format\n",
    "                 .groupby([tidy_format.index, 'word'])\n",
    "                 .count())\n",
    "\n",
    "tweets_per_word = (one_per_tweet\n",
    "                   .groupby('word')\n",
    "                   .count())\n",
    "\n",
    "atleast25 = tweets_per_word[tweets_per_word['num'] > 24]\n",
    "atleast25.rename(columns={'num':'tweet_count'})\n",
    "\n",
    "top_20 = pd.DataFrame(rtwts_per_word\n",
    "          .merge(atleast25, 'right', left_on= 'word', right_index=True)\n",
    "          .groupby('word')\n",
    "          .agg('median')\n",
    "          .sort_values(\"retweet_count\", ascending=False)\n",
    "          .iloc[:20, 0]\n",
    "                     )\n",
    "          \n",
    "top_20\n",
    "# YOUR CODE HERE\n",
    "#raise NotImplementedError()\n"
   ]
  },
  {
   "cell_type": "code",
   "execution_count": 53,
   "metadata": {
    "deletable": false,
    "editable": false,
    "nbgrader": {
     "cell_type": "code",
     "checksum": "cdede715af02f26ce48b6334a5c7dea7",
     "grade": true,
     "grade_id": "q7a-test",
     "locked": true,
     "points": 1,
     "schema_version": 2,
     "solution": false
    },
    "tags": [
     "test",
     "q07a"
    ]
   },
   "outputs": [],
   "source": [
    "#### NOTE This Test is kind of iffy (very variable) - needs review before publishing\n",
    "\n",
    "# Although it can't be guaranteed, it's very likely that the top 7 words will still be\n",
    "# in the top 20 words in the next month.\n",
    "assert 'daca'     in top_20.index\n",
    "assert 'nfl'     in top_20.index\n",
    "assert 'anthem' in top_20.index\n",
    "assert 'fbi'    in top_20.index\n",
    "assert 'russia'    in top_20.index\n"
   ]
  },
  {
   "cell_type": "markdown",
   "metadata": {
    "deletable": false,
    "editable": false,
    "nbgrader": {
     "cell_type": "markdown",
     "checksum": "a4a12be8f88ac931b51b85a1ffa5cfde",
     "grade": false,
     "grade_id": "bar-chart-results",
     "locked": true,
     "schema_version": 2,
     "solution": false
    }
   },
   "source": [
    "Here's a bar chart of your results:"
   ]
  },
  {
   "cell_type": "code",
   "execution_count": 54,
   "metadata": {
    "deletable": false,
    "editable": false,
    "nbgrader": {
     "cell_type": "code",
     "checksum": "4a962cdd19dad39e5f8aa5fe2ff096e4",
     "grade": false,
     "grade_id": "top-retweets",
     "locked": true,
     "schema_version": 2,
     "solution": false
    }
   },
   "outputs": [
    {
     "data": {
      "image/png": "[encoded data removed]",
      "text/plain": [
       "<matplotlib.figure.Figure at 0x7fcd5ac02cf8>"
      ]
     },
     "metadata": {},
     "output_type": "display_data"
    }
   ],
   "source": [
    "top_20['retweet_count'].sort_values().plot.barh(figsize=(10, 8));"
   ]
  },
  {
   "cell_type": "markdown",
   "metadata": {
    "deletable": false,
    "editable": false,
    "nbgrader": {
     "cell_type": "markdown",
     "checksum": "80fdb9c61b546b8a813a3ba015947106",
     "grade": false,
     "grade_id": "q7b",
     "locked": true,
     "schema_version": 2,
     "solution": false
    }
   },
   "source": [
    "## Question 7b\n",
    "\n",
    "The phrase \"fake news\" is apparently really popular! We can conclude that Trump's tweets containing \"fake\" and/or \"news\" result in the most retweets relative to words his other tweets. Or can we?\n",
    "\n",
    "Consider each of the statements about possible confounding factors below. State whether each statement is true or false and explain. If the statement is true, state whether the confounding factor could have made \"fake\" and/or \"news\" higher on our list than they should be.\n",
    "\n",
    "1. We didn't restrict our word list to nouns, so we have unhelpful words like \"let\" and \"any\" in our result.\n",
    "1. We didn't remove hashtags in our text, so we have duplicate words (eg. #great and great).\n",
    "1. We didn't account for the fact that Trump's follower count has increased over time."
   ]
  },
  {
   "cell_type": "markdown",
   "metadata": {
    "deletable": false,
    "nbgrader": {
     "cell_type": "markdown",
     "checksum": "577b78199cd4361dd51b92774e09beb0",
     "grade": true,
     "grade_id": "q7b-answer",
     "locked": false,
     "points": 1,
     "schema_version": 2,
     "solution": true
    },
    "tags": [
     "student",
     "written"
    ]
   },
   "source": [
    "1. This is true. However, if we restricted even more words, that only makes \"news\" more likely to be higher up in the list (i.e., not beat out by less helpful nouns).\n",
    "Restricting our list to nouns would not put \"fake\" lower on our list, it would take it out. That seems like more of a confounding factor to me.\n",
    "\n",
    "2. This is False. We did remove hashtags, so #great and great are essentially treated as the same thing\n",
    "\n",
    "3. This is True. This would make words that he has just used more recently show up higher on the list (which may be why \"daca\" and \"anthem\" are so high). This is potentially a confounding factor."
   ]
  },
  {
   "cell_type": "markdown",
   "metadata": {
    "deletable": false,
    "editable": false,
    "nbgrader": {
     "cell_type": "markdown",
     "checksum": "ba7fba396f9b97171983b6b3b2f774e2",
     "grade": false,
     "grade_id": "q8",
     "locked": true,
     "schema_version": 2,
     "solution": false
    }
   },
   "source": [
    "## Question 8\n",
    "\n",
    "Using the `trump` tweets construct an interesting plot describing a property of the data and discuss what you found below.\n",
    "\n",
    "**Ideas:**\n",
    "\n",
    "1. How has the sentiment changed with length of the tweets?\n",
    "1. Does sentiment affect retweet count?\n",
    "1. Are retweets more negative than regular tweets?\n",
    "1. Are there any spikes in the number of retweets and do the correspond to world events? \n",
    "1. *Bonus:* How many Russian twitter bots follow Trump? \n",
    "\n",
    "You can look at other data sources and even tweets.\n"
   ]
  },
  {
   "cell_type": "markdown",
   "metadata": {
    "deletable": false,
    "editable": false,
    "nbgrader": {
     "cell_type": "markdown",
     "checksum": "9742f4a99a0e60845ad7dcc60d774fd7",
     "grade": false,
     "grade_id": "plot8-q",
     "locked": true,
     "schema_version": 2,
     "solution": false
    }
   },
   "source": [
    "### Plot:"
   ]
  },
  {
   "cell_type": "code",
   "execution_count": 55,
   "metadata": {
    "deletable": false,
    "nbgrader": {
     "cell_type": "code",
     "checksum": "1f84a32506abaa59849e1923f60afb03",
     "grade": true,
     "grade_id": "q8-plot",
     "locked": false,
     "points": 2,
     "schema_version": 2,
     "solution": true
    }
   },
   "outputs": [
    {
     "name": "stderr",
     "output_type": "stream",
     "text": [
      "/srv/conda/envs/data100/lib/python3.6/site-packages/numpy/core/_methods.py:135: RuntimeWarning: Degrees of freedom <= 0 for slice\n",
      "  keepdims=keepdims)\n",
      "/srv/conda/envs/data100/lib/python3.6/site-packages/numpy/core/_methods.py:127: RuntimeWarning: invalid value encountered in double_scalars\n",
      "  ret = ret.dtype.type(ret / rcount)\n"
     ]
    },
    {
     "data": {
      "image/png": "[encoded data removed]",
      "text/plain": [
       "<matplotlib.figure.Figure at 0x7fcd5ab31fd0>"
      ]
     },
     "metadata": {},
     "output_type": "display_data"
    }
   ],
   "source": [
    "# YOUR CODE HERE\n",
    "#raise NotImplementedError()\n",
    "sourcepolarity = trump.groupby(['est_time', 'source']).sum()\n",
    "sourcepolarity.reset_index(level=1, inplace=True)\n",
    "\n",
    "fig, ax = plt.subplots(figsize=(10,10),ncols=2, nrows=2)\n",
    "\n",
    "for source in trump['source'].unique()[0:2]:\n",
    "    sns.distplot(sourcepolarity[sourcepolarity['source'] == source]['polarity'],\n",
    "                       label=source,\n",
    "                      hist=False,\n",
    "                ax=ax[0][0])\n",
    "\n",
    "for source in trump['source'].unique()[2:5]:\n",
    "    sns.distplot(sourcepolarity[sourcepolarity['source'] == source]['polarity'],\n",
    "                 label=source,\n",
    "                 hist=False,\n",
    "                 ax=ax[0][1]\n",
    "                )\n",
    "    \n",
    "for source in trump['source'].unique()[4:7]:\n",
    "    sns.distplot(sourcepolarity[sourcepolarity['source'] == source]['polarity'],\n",
    "                 label=source,\n",
    "                 hist=False,\n",
    "                ax=ax[1][0])\n",
    "\n",
    "for source in trump['source'].unique()[6:]:\n",
    "    sns.distplot(sourcepolarity[sourcepolarity['source'] == source]['polarity'],\n",
    "                 label=source,\n",
    "                 hist=False,\n",
    "                ax=ax[1][1])\n",
    "plt.legend();\n"
   ]
  },
  {
   "cell_type": "markdown",
   "metadata": {
    "deletable": false,
    "editable": false,
    "nbgrader": {
     "cell_type": "markdown",
     "checksum": "a1fdd71a7455526fe4614bc7eba388f5",
     "grade": false,
     "grade_id": "disc8-q",
     "locked": true,
     "schema_version": 2,
     "solution": false
    }
   },
   "source": [
    "### Discussion:"
   ]
  },
  {
   "cell_type": "markdown",
   "metadata": {
    "deletable": false,
    "nbgrader": {
     "cell_type": "markdown",
     "checksum": "36550141bfc678e4ad08057239781458",
     "grade": true,
     "grade_id": "q8-disc",
     "locked": false,
     "points": 1,
     "schema_version": 2,
     "solution": true
    }
   },
   "source": [
    "The Twitter for iPhone polarity is skewed positive, as is pretty much everything else (but less so) which is interesting to me since Trump's overall tweeting is usually seen as negative.\n",
    "\n",
    "The Twitter for iPhone polarity and Instragram polarity distributions are bimodal, with the local min right around zero. I'm not sure what it means by the post being from instagram (I'm not on social media, can you tweet an instagram post?) but posts from Instagram are more likely to be slightly negative or postive than neutral. \n"
   ]
  },
  {
   "cell_type": "markdown",
   "metadata": {
    "deletable": false,
    "editable": false,
    "nbgrader": {
     "cell_type": "markdown",
     "checksum": "7cd0d0cd6110eba1fea6f1316c48f4a0",
     "grade": false,
     "grade_id": "submission",
     "locked": true,
     "schema_version": 2,
     "solution": false
    }
   },
   "source": [
    "## Submission\n",
    "\n",
    "Congrats, you just finished Project 1!"
   ]
  }
 ],
 "metadata": {
  "kernelspec": {
   "display_name": "Python 3",
   "language": "python",
   "name": "python3"
  },
  "language_info": {
   "codemirror_mode": {
    "name": "ipython",
    "version": 3
   },
   "file_extension": ".py",
   "mimetype": "text/x-python",
   "name": "python",
   "nbconvert_exporter": "python",
   "pygments_lexer": "ipython3",
   "version": "3.6.3"
  }
 },
 "nbformat": 4,
 "nbformat_minor": 2
}
